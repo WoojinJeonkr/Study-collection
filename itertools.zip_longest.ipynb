{
 "cells": [
  {
   "cell_type": "markdown",
   "id": "0e0e7235",
   "metadata": {},
   "source": [
    "## itertools.zip_longest()"
   ]
  },
  {
   "cell_type": "markdown",
   "id": "febbcd29",
   "metadata": {},
   "source": [
    "- 개수가 많은 것을 기준으로 묶을 수 있다.   \n",
    "- 이때 부족한 항목은 None으로 채우는데, fillvalue로 값을 지정하면 None대신 다른 값으로 채울 수 있다."
   ]
  },
  {
   "cell_type": "code",
   "execution_count": 1,
   "id": "56501ef6",
   "metadata": {},
   "outputs": [],
   "source": [
    "import itertools"
   ]
  },
  {
   "cell_type": "code",
   "execution_count": 2,
   "id": "deba9903",
   "metadata": {},
   "outputs": [],
   "source": [
    "students = ['한민서', '황지민', '이영철', '이광수', '김승민']\n",
    "rewards = ['사탕', '초컬릿', '젤리']"
   ]
  },
  {
   "cell_type": "code",
   "execution_count": 3,
   "id": "af00e061",
   "metadata": {},
   "outputs": [],
   "source": [
    "result = itertools.zip_longest(students, rewards, fillvalue='새우깡')"
   ]
  },
  {
   "cell_type": "code",
   "execution_count": 4,
   "id": "eea0389f",
   "metadata": {},
   "outputs": [
    {
     "name": "stdout",
     "output_type": "stream",
     "text": [
      "[('한민서', '사탕'), ('황지민', '초컬릿'), ('이영철', '젤리'), ('이광수', '새우깡'), ('김승민', '새우깡')]\n"
     ]
    }
   ],
   "source": [
    "print(list(result))"
   ]
  },
  {
   "cell_type": "code",
   "execution_count": 5,
   "id": "50b7833c",
   "metadata": {},
   "outputs": [],
   "source": [
    "result2 = itertools.zip_longest(students, rewards)"
   ]
  },
  {
   "cell_type": "code",
   "execution_count": 6,
   "id": "38a8700b",
   "metadata": {},
   "outputs": [
    {
     "name": "stdout",
     "output_type": "stream",
     "text": [
      "[('한민서', '사탕'), ('황지민', '초컬릿'), ('이영철', '젤리'), ('이광수', None), ('김승민', None)]\n"
     ]
    }
   ],
   "source": [
    "print(list(result2))"
   ]
  }
 ],
 "metadata": {
  "kernelspec": {
   "display_name": "Python 3 (ipykernel)",
   "language": "python",
   "name": "python3"
  },
  "language_info": {
   "codemirror_mode": {
    "name": "ipython",
    "version": 3
   },
   "file_extension": ".py",
   "mimetype": "text/x-python",
   "name": "python",
   "nbconvert_exporter": "python",
   "pygments_lexer": "ipython3",
   "version": "3.7.13"
  }
 },
 "nbformat": 4,
 "nbformat_minor": 5
}

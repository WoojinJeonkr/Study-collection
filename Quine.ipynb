{
 "cells": [
  {
   "cell_type": "markdown",
   "id": "a8d491e0",
   "metadata": {},
   "source": [
    "# Quine"
   ]
  },
  {
   "cell_type": "markdown",
   "id": "061b03d2",
   "metadata": {},
   "source": [
    "### 내용 출처\n",
    "1. [Quine - 자신의 소스코드를 출력하는 프로그램](https://wikidocs.net/6724)   \n",
    "2. [Quine in Python](https://www.geeksforgeeks.org/quine-in-python/)   \n",
    "3. [Quine in Python by Ranjeet V](https://www.codespeedy.com/quine-in-python/)"
   ]
  },
  {
   "cell_type": "markdown",
   "id": "d9628363",
   "metadata": {},
   "source": [
    "## Quine이란?\n",
    "input 없이 자신의 소스코드를 output으로 내놓는 프로그램"
   ]
  },
  {
   "cell_type": "code",
   "execution_count": 1,
   "id": "85aff3a7",
   "metadata": {},
   "outputs": [],
   "source": [
    "s = 's = %r;print(s%%s)'"
   ]
  },
  {
   "cell_type": "code",
   "execution_count": 2,
   "id": "315e0c76",
   "metadata": {},
   "outputs": [
    {
     "name": "stdout",
     "output_type": "stream",
     "text": [
      "s = 's = %r;print(s%%s)';print(s%s)\n"
     ]
    }
   ],
   "source": [
    "print(s%s)"
   ]
  },
  {
   "cell_type": "markdown",
   "id": "b0f1ab5f",
   "metadata": {},
   "source": [
    "Quine의 필수 조건을 만족하지 않으면 Quine이라고 보지 않는다."
   ]
  },
  {
   "cell_type": "code",
   "execution_count": 3,
   "id": "bc56c8ce",
   "metadata": {},
   "outputs": [],
   "source": [
    "# print open(__file__).read()"
   ]
  },
  {
   "cell_type": "markdown",
   "id": "39ed176d",
   "metadata": {},
   "source": [
    "위 코드는 자신의 소스코드를 Output으로 내놓지만   \n",
    "input이 있으므로 Quine이라고 보지 않는다."
   ]
  }
 ],
 "metadata": {
  "kernelspec": {
   "display_name": "Python 3 (ipykernel)",
   "language": "python",
   "name": "python3"
  },
  "language_info": {
   "codemirror_mode": {
    "name": "ipython",
    "version": 3
   },
   "file_extension": ".py",
   "mimetype": "text/x-python",
   "name": "python",
   "nbconvert_exporter": "python",
   "pygments_lexer": "ipython3",
   "version": "3.7.13"
  }
 },
 "nbformat": 4,
 "nbformat_minor": 5
}

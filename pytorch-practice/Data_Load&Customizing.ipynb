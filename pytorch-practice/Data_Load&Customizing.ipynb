{
 "cells": [
  {
   "cell_type": "markdown",
   "id": "d1ca37fe",
   "metadata": {},
   "source": [
    "# 데이터 사용하기"
   ]
  },
  {
   "cell_type": "code",
   "execution_count": 1,
   "id": "534d42e5",
   "metadata": {},
   "outputs": [],
   "source": [
    "# !pip install torchvision"
   ]
  },
  {
   "cell_type": "code",
   "execution_count": 2,
   "id": "938164f9",
   "metadata": {},
   "outputs": [],
   "source": [
    "import torch\n",
    "import torchvision\n",
    "import torchvision.transforms as tr\n",
    "from torch.utils.data import DataLoader, Dataset\n",
    "import numpy as np"
   ]
  },
  {
   "cell_type": "markdown",
   "id": "d566ff8f",
   "metadata": {},
   "source": [
    "## 1. Pytorch 제공 데이터 사용"
   ]
  },
  {
   "cell_type": "code",
   "execution_count": 3,
   "id": "11b35989",
   "metadata": {},
   "outputs": [],
   "source": [
    "transf = tr.Compose([tr.Resize(8), tr.ToTensor()])\n",
    "# Transforms on PIL Image\n",
    "# 들어오는 이미지 형태가 PIL인 경우 Transformer 사용 가능\n",
    "# Pad, Grayscale, RandomCrop, Normalize ..\n",
    "# Transforms on torch, *Tensor - tensor image\n",
    "# torchvision.transforms.ToPILImage(mode=None)..."
   ]
  },
  {
   "cell_type": "code",
   "execution_count": 4,
   "id": "cdff3e87",
   "metadata": {},
   "outputs": [
    {
     "name": "stdout",
     "output_type": "stream",
     "text": [
      "Files already downloaded and verified\n",
      "Files already downloaded and verified\n"
     ]
    }
   ],
   "source": [
    "trainset = torchvision.datasets.CIFAR10(root = './data', train = True, download = True, transform = transf)\n",
    "testset = torchvision.datasets.CIFAR10(root = './data', train = False, download = True, transform = transf)"
   ]
  },
  {
   "cell_type": "code",
   "execution_count": 5,
   "id": "487ecec6",
   "metadata": {},
   "outputs": [
    {
     "data": {
      "text/plain": [
       "torch.Size([3, 8, 8])"
      ]
     },
     "execution_count": 5,
     "metadata": {},
     "output_type": "execute_result"
    }
   ],
   "source": [
    "trainset[0][0].size()"
   ]
  },
  {
   "cell_type": "code",
   "execution_count": 6,
   "id": "772abf49",
   "metadata": {},
   "outputs": [],
   "source": [
    "trainloader = DataLoader(trainset, batch_size = 50, shuffle = True, num_workers = 2)\n",
    "testset = DataLoader(testset, batch_size = 50, shuffle = True, num_workers = 2)"
   ]
  },
  {
   "cell_type": "code",
   "execution_count": 7,
   "id": "3956f574",
   "metadata": {},
   "outputs": [
    {
     "data": {
      "text/plain": [
       "1000"
      ]
     },
     "execution_count": 7,
     "metadata": {},
     "output_type": "execute_result"
    }
   ],
   "source": [
    "len(trainloader)"
   ]
  },
  {
   "cell_type": "code",
   "execution_count": 8,
   "id": "fce33e68",
   "metadata": {},
   "outputs": [],
   "source": [
    "dataiter = iter(trainloader)\n",
    "Images, labels = dataiter.next()"
   ]
  },
  {
   "cell_type": "code",
   "execution_count": 9,
   "id": "61a04718",
   "metadata": {},
   "outputs": [
    {
     "data": {
      "text/plain": [
       "torch.Size([50, 3, 8, 8])"
      ]
     },
     "execution_count": 9,
     "metadata": {},
     "output_type": "execute_result"
    }
   ],
   "source": [
    "Images.size()"
   ]
  },
  {
   "cell_type": "markdown",
   "id": "eb3c8ac3",
   "metadata": {},
   "source": [
    "## 2. 같은 클래스 별 폴더 이미지 데이터 이용"
   ]
  },
  {
   "cell_type": "code",
   "execution_count": 10,
   "id": "44f2214b",
   "metadata": {},
   "outputs": [
    {
     "name": "stdout",
     "output_type": "stream",
     "text": [
      "1\n"
     ]
    }
   ],
   "source": [
    "# ./class/tiger ./class/lion\n",
    "transf = tr.Compose([tr.Resize(16), tr.ToTensor()])\n",
    "trainset = torchvision.datasets.ImageFolder(root = './class', transform = transf)\n",
    "trainloader = DataLoader(trainset, batch_size = 10, shuffle = False, num_workers = 2)\n",
    "print(len(trainloader))"
   ]
  },
  {
   "cell_type": "code",
   "execution_count": 11,
   "id": "10590f4a",
   "metadata": {},
   "outputs": [
    {
     "data": {
      "text/plain": [
       "torch.Size([3, 16, 25])"
      ]
     },
     "execution_count": 11,
     "metadata": {},
     "output_type": "execute_result"
    }
   ],
   "source": [
    "trainset[0][0].size()"
   ]
  },
  {
   "cell_type": "markdown",
   "id": "a080c4af",
   "metadata": {},
   "source": [
    "## 3. 개인 데이터 사용"
   ]
  },
  {
   "cell_type": "markdown",
   "id": "2cc242e1",
   "metadata": {},
   "source": [
    "### 방법 1"
   ]
  },
  {
   "cell_type": "code",
   "execution_count": 12,
   "id": "901d57f7",
   "metadata": {},
   "outputs": [],
   "source": [
    "# import preprocessing\n",
    "train_images = np.random.randint(256, size=(20,32,32,3))\n",
    "train_labels = np.random.randint(2, size=(20,1))"
   ]
  },
  {
   "cell_type": "code",
   "execution_count": 13,
   "id": "9edb125a",
   "metadata": {},
   "outputs": [
    {
     "name": "stdout",
     "output_type": "stream",
     "text": [
      "(20, 32, 32, 3) (20, 1)\n"
     ]
    }
   ],
   "source": [
    "# preprocessing......\n",
    "# train_images, train_labels = preprocessing(train_images, train_labels)\n",
    "print(train_images.shape, train_labels.shape)"
   ]
  },
  {
   "cell_type": "code",
   "execution_count": 14,
   "id": "d1a58542",
   "metadata": {},
   "outputs": [],
   "source": [
    "class TensorData(Dataset):\n",
    "    def __init__(self, x_data, y_data):\n",
    "        self.x_data = torch.FloatTensor(x_data)\n",
    "        self.x_data = self.x_data.permute(0,3,1,2) # 이미지 개수, 채널 수, 이미지 너비, 높이\n",
    "        self.y_data = torch.LongTensor(y_data)\n",
    "        self.len = self.y_data.shape[0]\n",
    "    \n",
    "    def __getitem__(self, index):\n",
    "        return self.x_data[index], self.y_data[index]\n",
    "    \n",
    "    def __len__(self):\n",
    "        return self.len"
   ]
  },
  {
   "cell_type": "code",
   "execution_count": 15,
   "id": "6c4abc81",
   "metadata": {},
   "outputs": [],
   "source": [
    "train_data2 = TensorData(train_images, train_labels)\n",
    "train_loader2 = DataLoader(train_data2, batch_size = 10, shuffle = True)"
   ]
  },
  {
   "cell_type": "code",
   "execution_count": 16,
   "id": "8ef952a5",
   "metadata": {},
   "outputs": [
    {
     "data": {
      "text/plain": [
       "torch.Size([3, 32, 32])"
      ]
     },
     "execution_count": 16,
     "metadata": {},
     "output_type": "execute_result"
    }
   ],
   "source": [
    "train_data2[0][0].size()"
   ]
  },
  {
   "cell_type": "code",
   "execution_count": 17,
   "id": "6cff157d",
   "metadata": {},
   "outputs": [],
   "source": [
    "dataiter2 = iter(train_loader2)\n",
    "Images2, labels2 = dataiter.next()"
   ]
  },
  {
   "cell_type": "code",
   "execution_count": 18,
   "id": "b9116abb",
   "metadata": {},
   "outputs": [
    {
     "data": {
      "text/plain": [
       "torch.Size([50, 3, 8, 8])"
      ]
     },
     "execution_count": 18,
     "metadata": {},
     "output_type": "execute_result"
    }
   ],
   "source": [
    "Images2.size()"
   ]
  },
  {
   "cell_type": "markdown",
   "id": "4e768365",
   "metadata": {},
   "source": [
    "### 방법2"
   ]
  },
  {
   "cell_type": "code",
   "execution_count": 19,
   "id": "913ff1be",
   "metadata": {},
   "outputs": [],
   "source": [
    "from torch.utils.data import Dataset"
   ]
  },
  {
   "cell_type": "code",
   "execution_count": 20,
   "id": "2f6ad7f0",
   "metadata": {},
   "outputs": [],
   "source": [
    "class MyDataset(Dataset):\n",
    "    def __init__(self, x_data, y_data, transform=None):\n",
    "        self.x_data = x_data\n",
    "        self.y_data = y_data\n",
    "        self.transform = transform\n",
    "        self.len = len(y_data)\n",
    "    def __getitem__(self, index):\n",
    "        sample = self.x_data[index], self.y_data[index]\n",
    "        \n",
    "        if self.transform:\n",
    "            sample = self.transform(sample)\n",
    "        \n",
    "        return sample\n",
    "    \n",
    "    def __len__(self):\n",
    "        return self.len\n",
    "    \n",
    "class ToTensor:\n",
    "    def __call__(self, sample):\n",
    "        inputs, labels = sample\n",
    "        # FloatTensor로 tensor 생성\n",
    "        inputs = torch.FloatTensor(inputs)\n",
    "        # permute로 이미지, 채널 사이즈 변경\n",
    "        inputs = inputs.permute(2,0,1)\n",
    "        # label은 tensor를 바꿈으로써 나가는게 Tensor로 나간다\n",
    "        return inputs, torch.LongTensor(labels)\n",
    "\n",
    "class LinearTensor:\n",
    "    def __init__(self, slope=1, bias=0):\n",
    "        self.slope = slope\n",
    "        self.bias = bias\n",
    "    def __call__(self, sample):\n",
    "        inputs, labels = sample\n",
    "        inputs = self.slope*inputs + self.bias\n",
    "        return inputs, labels"
   ]
  },
  {
   "cell_type": "code",
   "execution_count": 21,
   "id": "8f932b0b",
   "metadata": {},
   "outputs": [],
   "source": [
    "# 가지고 있는 데이터가 numpy이므로 ToTensor() 사용\n",
    "trans = tr.Compose([ToTensor(), LinearTensor(2,5)])\n",
    "ds1 = MyDataset(train_images, train_labels, transform=trans)\n",
    "train_loader1 = DataLoader(ds1, batch_size=10, shuffle = True)"
   ]
  },
  {
   "cell_type": "code",
   "execution_count": 22,
   "id": "85b69467",
   "metadata": {},
   "outputs": [
    {
     "name": "stdout",
     "output_type": "stream",
     "text": [
      "<class 'torch.Tensor'> <class 'torch.Tensor'>\n"
     ]
    }
   ],
   "source": [
    "first_data = ds1[0]\n",
    "features, labels = first_data\n",
    "print(type(features), type(labels))"
   ]
  },
  {
   "cell_type": "code",
   "execution_count": 23,
   "id": "d72c8a36",
   "metadata": {},
   "outputs": [],
   "source": [
    "dataiter3 = iter(train_loader1)\n",
    "Images3, labels3 = dataiter3.next()"
   ]
  },
  {
   "cell_type": "code",
   "execution_count": 24,
   "id": "a09d8879",
   "metadata": {},
   "outputs": [
    {
     "data": {
      "text/plain": [
       "tensor([[[[171.,  53., 135.,  ..., 355., 225., 199.],\n",
       "          [211., 473., 375.,  ..., 383., 315., 133.],\n",
       "          [435., 427., 493.,  ..., 305., 481.,  69.],\n",
       "          ...,\n",
       "          [303., 129., 407.,  ..., 425., 457., 425.],\n",
       "          [449., 311., 261.,  ..., 343., 345., 301.],\n",
       "          [447., 405.,  27.,  ..., 247., 381., 227.]],\n",
       "\n",
       "         [[435.,  99., 479.,  ..., 405., 167., 405.],\n",
       "          [299., 399., 123.,  ...,  27.,  13., 123.],\n",
       "          [189., 495., 361.,  ..., 161., 223., 195.],\n",
       "          ...,\n",
       "          [  5., 493., 381.,  ...,   5., 393., 193.],\n",
       "          [141., 453., 455.,  ..., 163., 323., 209.],\n",
       "          [145., 447., 121.,  ..., 225., 147., 433.]],\n",
       "\n",
       "         [[493., 243., 243.,  ..., 281.,  49., 219.],\n",
       "          [511., 433., 375.,  ..., 371., 193., 479.],\n",
       "          [141., 343., 259.,  ..., 419., 125., 475.],\n",
       "          ...,\n",
       "          [445., 433., 461.,  ..., 307., 143., 267.],\n",
       "          [ 79.,  59., 331.,  ..., 439.,  95., 227.],\n",
       "          [ 75., 177., 277.,  ..., 257.,  27., 387.]]],\n",
       "\n",
       "\n",
       "        [[[343.,  51.,  27.,  ..., 285., 401., 313.],\n",
       "          [393., 377., 109.,  ...,  61., 515., 227.],\n",
       "          [335., 303., 115.,  ..., 121., 401., 261.],\n",
       "          ...,\n",
       "          [133.,  29., 195.,  ...,  41., 167., 381.],\n",
       "          [147., 331.,   7.,  ..., 361., 353., 367.],\n",
       "          [485., 359.,  15.,  ..., 275.,  83., 437.]],\n",
       "\n",
       "         [[ 87., 177., 397.,  ..., 415., 339., 117.],\n",
       "          [119., 207.,   7.,  ..., 353., 101., 455.],\n",
       "          [187., 287., 509.,  ...,  77., 319., 281.],\n",
       "          ...,\n",
       "          [147.,  63.,  79.,  ..., 157., 239., 371.],\n",
       "          [167., 355., 175.,  ..., 143., 341., 125.],\n",
       "          [409., 461., 243.,  ..., 361., 373., 319.]],\n",
       "\n",
       "         [[467.,  77., 311.,  ..., 313., 145., 473.],\n",
       "          [109., 269., 403.,  ..., 445.,  51., 381.],\n",
       "          [413., 179.,  65.,  ...,  93., 409.,  43.],\n",
       "          ...,\n",
       "          [ 79., 507.,  95.,  ..., 183., 383., 351.],\n",
       "          [ 27., 377., 339.,  ..., 193., 101., 455.],\n",
       "          [227., 257., 481.,  ..., 359., 175., 165.]]],\n",
       "\n",
       "\n",
       "        [[[235., 497., 345.,  ...,  77.,  29., 399.],\n",
       "          [155., 425., 389.,  ..., 205., 171., 123.],\n",
       "          [375., 303.,  11.,  ..., 263., 419., 483.],\n",
       "          ...,\n",
       "          [293., 201., 165.,  ..., 175., 379., 197.],\n",
       "          [ 17., 179., 197.,  ..., 231., 385.,  33.],\n",
       "          [119., 281., 461.,  ..., 153., 297.,  39.]],\n",
       "\n",
       "         [[ 97., 145., 111.,  ..., 131., 139., 283.],\n",
       "          [475., 423., 439.,  ..., 419., 425., 327.],\n",
       "          [ 71., 253., 141.,  ..., 473., 131., 445.],\n",
       "          ...,\n",
       "          [315., 437., 219.,  ...,  41.,  63., 189.],\n",
       "          [455., 513.,  41.,  ..., 113., 509.,  15.],\n",
       "          [211., 373.,  77.,  ..., 393., 293., 349.]],\n",
       "\n",
       "         [[297., 493., 439.,  ..., 505., 205., 321.],\n",
       "          [117.,  41., 183.,  ..., 107., 233., 335.],\n",
       "          [411., 449.,  47.,  ..., 407., 313.,  33.],\n",
       "          ...,\n",
       "          [171., 377., 335.,  ...,  35., 273., 285.],\n",
       "          [371., 513., 385.,  ..., 129., 431., 157.],\n",
       "          [447., 315., 303.,  ..., 177., 121., 255.]]],\n",
       "\n",
       "\n",
       "        ...,\n",
       "\n",
       "\n",
       "        [[[149.,  49.,  61.,  ..., 147., 363., 491.],\n",
       "          [ 57., 255., 509.,  ..., 449., 135., 401.],\n",
       "          [201., 125., 265.,  ..., 349., 383., 289.],\n",
       "          ...,\n",
       "          [313., 227., 307.,  ..., 495., 199., 423.],\n",
       "          [ 29., 449., 391.,  ...,  67., 119.,  73.],\n",
       "          [479., 487., 249.,  ..., 109., 107., 303.]],\n",
       "\n",
       "         [[439., 445., 309.,  ..., 191., 237., 301.],\n",
       "          [309., 165., 209.,  ..., 249., 505., 197.],\n",
       "          [305., 305., 353.,  ..., 483., 287., 145.],\n",
       "          ...,\n",
       "          [ 53., 481., 141.,  ..., 459., 101., 333.],\n",
       "          [111.,  39.,  59.,  ..., 515., 261., 141.],\n",
       "          [ 23., 141., 377.,  ..., 191., 137.,  47.]],\n",
       "\n",
       "         [[325., 207., 111.,  ..., 485., 113., 435.],\n",
       "          [359., 281., 257.,  ..., 109.,  43., 481.],\n",
       "          [107., 399., 271.,  ...,  63., 165., 143.],\n",
       "          ...,\n",
       "          [119.,  29., 277.,  ..., 483., 117., 263.],\n",
       "          [347., 101., 185.,  ..., 179., 329., 131.],\n",
       "          [239., 311., 225.,  ..., 289., 165., 281.]]],\n",
       "\n",
       "\n",
       "        [[[447., 187., 185.,  ..., 353., 299., 359.],\n",
       "          [379., 445., 403.,  ..., 327., 343., 135.],\n",
       "          [103., 269., 461.,  ..., 377., 297., 371.],\n",
       "          ...,\n",
       "          [499., 163., 275.,  ...,  73., 511.,  73.],\n",
       "          [329., 437., 221.,  ...,  43.,  67., 421.],\n",
       "          [133., 305.,  85.,  ..., 183., 221., 193.]],\n",
       "\n",
       "         [[415., 283., 425.,  ...,   5., 421., 399.],\n",
       "          [445., 213.,  57.,  ...,  77., 271., 329.],\n",
       "          [165., 401., 445.,  ..., 423., 367.,  51.],\n",
       "          ...,\n",
       "          [363., 483., 403.,  ..., 139., 475., 135.],\n",
       "          [213., 431., 109.,  ..., 405., 239., 485.],\n",
       "          [117., 169., 163.,  ...,  89., 255., 453.]],\n",
       "\n",
       "         [[ 29., 287.,  53.,  ...,  33., 253., 181.],\n",
       "          [ 29., 267., 231.,  ..., 355.,  29., 159.],\n",
       "          [437.,  25., 405.,  ..., 247.,  31.,   7.],\n",
       "          ...,\n",
       "          [457., 203., 261.,  ..., 281., 299., 413.],\n",
       "          [311., 209., 245.,  ..., 269., 419.,  31.],\n",
       "          [221.,  81., 213.,  ..., 397.,  11., 277.]]],\n",
       "\n",
       "\n",
       "        [[[311., 143., 245.,  ..., 205., 217., 161.],\n",
       "          [125., 281., 291.,  ...,  67., 191., 361.],\n",
       "          [201., 311., 415.,  ..., 191.,  17.,  89.],\n",
       "          ...,\n",
       "          [155.,  51., 483.,  ..., 505., 185., 379.],\n",
       "          [489., 231., 469.,  ..., 255., 241., 369.],\n",
       "          [199., 495., 469.,  ..., 349., 367., 237.]],\n",
       "\n",
       "         [[291., 445., 487.,  ..., 429., 461.,  71.],\n",
       "          [139., 305., 259.,  ..., 173., 311., 113.],\n",
       "          [ 69., 179., 197.,  ..., 201., 249., 283.],\n",
       "          ...,\n",
       "          [357., 155., 367.,  ..., 235., 185., 385.],\n",
       "          [ 95., 199.,   7.,  ...,  99.,  55., 461.],\n",
       "          [485., 275.,  79.,  ..., 117.,  87., 269.]],\n",
       "\n",
       "         [[377.,  89., 369.,  ..., 305., 107., 465.],\n",
       "          [ 37., 145., 479.,  ..., 501., 487., 361.],\n",
       "          [463., 471., 427.,  ..., 369., 327., 323.],\n",
       "          ...,\n",
       "          [393., 487., 275.,  ..., 291., 443., 371.],\n",
       "          [167.,  25.,  75.,  ..., 111., 259.,  39.],\n",
       "          [507.,  29.,  81.,  ..., 139., 283., 163.]]]])"
      ]
     },
     "execution_count": 24,
     "metadata": {},
     "output_type": "execute_result"
    }
   ],
   "source": [
    "Images3"
   ]
  },
  {
   "cell_type": "markdown",
   "id": "cd942711",
   "metadata": {},
   "source": [
    "### 방법3"
   ]
  },
  {
   "cell_type": "code",
   "execution_count": 25,
   "id": "86c6e58c",
   "metadata": {},
   "outputs": [],
   "source": [
    "class MyDatasets(Dataset):\n",
    "    \n",
    "    def __init__(self, x_data, y_data, transform=None):\n",
    "        self.x_data = x_data\n",
    "        self.y_data = y_data\n",
    "        self.transform = transform\n",
    "        self.len = len(y_data)\n",
    "    \n",
    "    def __getitem__(self, index):\n",
    "        sample = self.x_data[index], self.y_data[index]\n",
    "        \n",
    "        if self.transform:\n",
    "            sample = self.transform(sample)\n",
    "        \n",
    "        return sample\n",
    "    \n",
    "    def __len__(self):\n",
    "        return self.len\n",
    "\n",
    "class MyTransform:\n",
    "    \n",
    "    def __call__(self, sample):\n",
    "        inputs, labels = sample\n",
    "        inputs = torch.FloatTensor(inputs)\n",
    "        inputs = inputs.permute(2,0,1)\n",
    "        labels = torch.FloatTensor(labels)\n",
    "        \n",
    "        # tr.ToPILImage(): PILImage 형태로 변환\n",
    "        transf = tr.Compose([tr.ToPILImage(), tr.Resize(128), tr.ToTensor(), tr.Normalize((0.5, 0.5, 0.5), (0.5,0.5, 0.5))])\n",
    "        final_output = transf(inputs)\n",
    "        \n",
    "        return final_output, labels"
   ]
  },
  {
   "cell_type": "code",
   "execution_count": 26,
   "id": "2faf3bc8",
   "metadata": {},
   "outputs": [],
   "source": [
    "ds2 = MyDataset(train_images, train_labels, transform = MyTransform())\n",
    "train_loader4 = DataLoader(ds2, batch_size = 10, shuffle = True)"
   ]
  },
  {
   "cell_type": "code",
   "execution_count": 27,
   "id": "0273a9cf",
   "metadata": {},
   "outputs": [
    {
     "name": "stdout",
     "output_type": "stream",
     "text": [
      "<class 'torch.Tensor'> <class 'torch.Tensor'>\n"
     ]
    }
   ],
   "source": [
    "first_data = ds2[0]\n",
    "features, labels = first_data\n",
    "print(type(features), type(labels))"
   ]
  },
  {
   "cell_type": "code",
   "execution_count": 28,
   "id": "178c62d3",
   "metadata": {},
   "outputs": [],
   "source": [
    "dataiter4 = iter(train_loader4)\n",
    "images4, labels4 = dataiter4.next()"
   ]
  },
  {
   "cell_type": "code",
   "execution_count": 29,
   "id": "62e61022",
   "metadata": {},
   "outputs": [
    {
     "data": {
      "text/plain": [
       "torch.Size([10, 3, 128, 128])"
      ]
     },
     "execution_count": 29,
     "metadata": {},
     "output_type": "execute_result"
    }
   ],
   "source": [
    "images4.size()"
   ]
  },
  {
   "cell_type": "code",
   "execution_count": 30,
   "id": "debd2acc",
   "metadata": {},
   "outputs": [
    {
     "data": {
      "text/plain": [
       "tensor([[[[ 0.1059,  0.1059, -0.0196,  ..., -0.3569, -0.5373, -0.5373],\n",
       "          [ 0.1059,  0.1059, -0.0196,  ..., -0.3569, -0.5373, -0.5373],\n",
       "          [ 0.1451,  0.1451,  0.0196,  ..., -0.2471, -0.4039, -0.4039],\n",
       "          ...,\n",
       "          [ 0.6078,  0.6078,  0.5294,  ...,  0.7490,  0.8745,  0.8745],\n",
       "          [ 0.5608,  0.5608,  0.4824,  ...,  0.7490,  0.8745,  0.8745],\n",
       "          [ 0.5608,  0.5608,  0.4824,  ...,  0.7490,  0.8745,  0.8745]],\n",
       "\n",
       "         [[ 0.6471,  0.6471,  0.6235,  ..., -0.0118, -0.0824, -0.0824],\n",
       "          [ 0.6471,  0.6471,  0.6235,  ..., -0.0118, -0.0824, -0.0824],\n",
       "          [ 0.4588,  0.4588,  0.4431,  ..., -0.0510, -0.1059, -0.1059],\n",
       "          ...,\n",
       "          [ 0.0824,  0.0824,  0.0118,  ..., -0.1765, -0.1765, -0.1765],\n",
       "          [ 0.2000,  0.2000,  0.1216,  ..., -0.3098, -0.3412, -0.3412],\n",
       "          [ 0.2000,  0.2000,  0.1216,  ..., -0.3098, -0.3412, -0.3412]],\n",
       "\n",
       "         [[-0.1373, -0.1373, -0.2314,  ..., -0.1765, -0.2314, -0.2314],\n",
       "          [-0.1373, -0.1373, -0.2314,  ..., -0.1765, -0.2314, -0.2314],\n",
       "          [-0.0510, -0.0510, -0.1294,  ..., -0.1843, -0.2392, -0.2392],\n",
       "          ...,\n",
       "          [-0.6863, -0.6863, -0.6392,  ...,  0.1137,  0.0745,  0.0745],\n",
       "          [-0.7255, -0.7255, -0.6627,  ...,  0.0902,  0.0275,  0.0275],\n",
       "          [-0.7255, -0.7255, -0.6627,  ...,  0.0902,  0.0275,  0.0275]]],\n",
       "\n",
       "\n",
       "        [[[-0.3176, -0.3176, -0.1765,  ..., -0.2392, -0.2000, -0.2000],\n",
       "          [-0.3176, -0.3176, -0.1765,  ..., -0.2392, -0.2000, -0.2000],\n",
       "          [-0.3412, -0.3412, -0.2157,  ..., -0.2078, -0.1608, -0.1608],\n",
       "          ...,\n",
       "          [-0.7098, -0.7098, -0.6627,  ..., -0.4980, -0.6549, -0.6549],\n",
       "          [-0.8745, -0.8745, -0.8118,  ..., -0.5137, -0.6863, -0.6863],\n",
       "          [-0.8745, -0.8745, -0.8118,  ..., -0.5137, -0.6863, -0.6863]],\n",
       "\n",
       "         [[ 0.6863,  0.6863,  0.6392,  ...,  0.4588,  0.5686,  0.5686],\n",
       "          [ 0.6863,  0.6863,  0.6392,  ...,  0.4588,  0.5686,  0.5686],\n",
       "          [ 0.6706,  0.6706,  0.6235,  ...,  0.3255,  0.4039,  0.4039],\n",
       "          ...,\n",
       "          [-0.4588, -0.4588, -0.4902,  ..., -0.1608, -0.1294, -0.1294],\n",
       "          [-0.5765, -0.5765, -0.6000,  ..., -0.2471, -0.2235, -0.2235],\n",
       "          [-0.5765, -0.5765, -0.6000,  ..., -0.2471, -0.2235, -0.2235]],\n",
       "\n",
       "         [[-0.8039, -0.8039, -0.6157,  ..., -0.6627, -0.8275, -0.8275],\n",
       "          [-0.8039, -0.8039, -0.6157,  ..., -0.6627, -0.8275, -0.8275],\n",
       "          [-0.6314, -0.6314, -0.4745,  ..., -0.6157, -0.7804, -0.7804],\n",
       "          ...,\n",
       "          [ 0.2392,  0.2392,  0.2000,  ...,  0.2549,  0.2392,  0.2392],\n",
       "          [ 0.1373,  0.1373,  0.1216,  ...,  0.3725,  0.3804,  0.3804],\n",
       "          [ 0.1373,  0.1373,  0.1216,  ...,  0.3725,  0.3804,  0.3804]]],\n",
       "\n",
       "\n",
       "        [[[-0.2941, -0.2941, -0.2000,  ...,  0.0431,  0.1529,  0.1529],\n",
       "          [-0.2941, -0.2941, -0.2000,  ...,  0.0431,  0.1529,  0.1529],\n",
       "          [-0.2941, -0.2941, -0.2000,  ...,  0.0980,  0.2000,  0.2000],\n",
       "          ...,\n",
       "          [-0.0196, -0.0196, -0.0902,  ...,  0.0510,  0.0196,  0.0196],\n",
       "          [ 0.0431,  0.0431, -0.0353,  ...,  0.0039, -0.0353, -0.0353],\n",
       "          [ 0.0431,  0.0431, -0.0353,  ...,  0.0039, -0.0353, -0.0353]],\n",
       "\n",
       "         [[ 0.5451,  0.5451,  0.4667,  ..., -0.1137, -0.0902, -0.0902],\n",
       "          [ 0.5451,  0.5451,  0.4667,  ..., -0.1137, -0.0902, -0.0902],\n",
       "          [ 0.4588,  0.4588,  0.3804,  ..., -0.0039,  0.0353,  0.0353],\n",
       "          ...,\n",
       "          [-0.2392, -0.2392, -0.3176,  ...,  0.6627,  0.6471,  0.6471],\n",
       "          [-0.2314, -0.2314, -0.3176,  ...,  0.7412,  0.7412,  0.7412],\n",
       "          [-0.2314, -0.2314, -0.3176,  ...,  0.7412,  0.7412,  0.7412]],\n",
       "\n",
       "         [[ 0.8588,  0.8588,  0.7725,  ..., -0.4588, -0.4667, -0.4667],\n",
       "          [ 0.8588,  0.8588,  0.7725,  ..., -0.4588, -0.4667, -0.4667],\n",
       "          [ 0.8667,  0.8667,  0.7725,  ..., -0.2941, -0.3020, -0.3020],\n",
       "          ...,\n",
       "          [ 0.7098,  0.7098,  0.7255,  ..., -0.2157, -0.2784, -0.2784],\n",
       "          [ 0.7255,  0.7255,  0.7412,  ..., -0.1451, -0.1765, -0.1765],\n",
       "          [ 0.7255,  0.7255,  0.7412,  ..., -0.1451, -0.1765, -0.1765]]],\n",
       "\n",
       "\n",
       "        ...,\n",
       "\n",
       "\n",
       "        [[[-0.2941, -0.2941, -0.2078,  ...,  0.6627,  0.7647,  0.7647],\n",
       "          [-0.2941, -0.2941, -0.2078,  ...,  0.6627,  0.7647,  0.7647],\n",
       "          [-0.3725, -0.3725, -0.2627,  ...,  0.6627,  0.7725,  0.7725],\n",
       "          ...,\n",
       "          [ 0.4667,  0.4667,  0.4745,  ..., -0.5294, -0.5216, -0.5216],\n",
       "          [ 0.6314,  0.6314,  0.6157,  ..., -0.5608, -0.5451, -0.5451],\n",
       "          [ 0.6314,  0.6314,  0.6157,  ..., -0.5608, -0.5451, -0.5451]],\n",
       "\n",
       "         [[ 0.5216,  0.5216,  0.3725,  ...,  0.2235,  0.1765,  0.1765],\n",
       "          [ 0.5216,  0.5216,  0.3725,  ...,  0.2235,  0.1765,  0.1765],\n",
       "          [ 0.4902,  0.4902,  0.3647,  ...,  0.1373,  0.1059,  0.1059],\n",
       "          ...,\n",
       "          [-0.1922, -0.1922, -0.1686,  ...,  0.4353,  0.5843,  0.5843],\n",
       "          [-0.3020, -0.3020, -0.2549,  ...,  0.4588,  0.6235,  0.6235],\n",
       "          [-0.3020, -0.3020, -0.2549,  ...,  0.4588,  0.6235,  0.6235]],\n",
       "\n",
       "         [[-0.1373, -0.1373, -0.2157,  ..., -0.7176, -0.8902, -0.8902],\n",
       "          [-0.1373, -0.1373, -0.2157,  ..., -0.7176, -0.8902, -0.8902],\n",
       "          [-0.0039, -0.0039, -0.0902,  ..., -0.5922, -0.7490, -0.7490],\n",
       "          ...,\n",
       "          [-0.3804, -0.3804, -0.3412,  ...,  0.6549,  0.7961,  0.7961],\n",
       "          [-0.4824, -0.4824, -0.4353,  ...,  0.7725,  0.9294,  0.9294],\n",
       "          [-0.4824, -0.4824, -0.4353,  ...,  0.7725,  0.9294,  0.9294]]],\n",
       "\n",
       "\n",
       "        [[[ 0.3569,  0.3569,  0.4118,  ...,  0.2314,  0.2471,  0.2471],\n",
       "          [ 0.3569,  0.3569,  0.4118,  ...,  0.2314,  0.2471,  0.2471],\n",
       "          [ 0.3412,  0.3412,  0.3725,  ...,  0.2549,  0.2784,  0.2784],\n",
       "          ...,\n",
       "          [-0.7255, -0.7255, -0.6941,  ...,  0.0275,  0.0980,  0.0980],\n",
       "          [-0.7255, -0.7255, -0.7020,  ...,  0.0588,  0.1373,  0.1373],\n",
       "          [-0.7255, -0.7255, -0.7020,  ...,  0.0588,  0.1373,  0.1373]],\n",
       "\n",
       "         [[-0.6784, -0.6784, -0.5137,  ..., -0.4431, -0.5608, -0.5608],\n",
       "          [-0.6784, -0.6784, -0.5137,  ..., -0.4431, -0.5608, -0.5608],\n",
       "          [-0.6078, -0.6078, -0.4745,  ..., -0.3098, -0.4196, -0.4196],\n",
       "          ...,\n",
       "          [ 0.4588,  0.4588,  0.3098,  ..., -0.4431, -0.5608, -0.5608],\n",
       "          [ 0.4588,  0.4588,  0.3098,  ..., -0.5294, -0.6706, -0.6706],\n",
       "          [ 0.4588,  0.4588,  0.3098,  ..., -0.5294, -0.6706, -0.6706]],\n",
       "\n",
       "         [[-0.9059, -0.9059, -0.7804,  ...,  0.2549,  0.1686,  0.1686],\n",
       "          [-0.9059, -0.9059, -0.7804,  ...,  0.2549,  0.1686,  0.1686],\n",
       "          [-0.9137, -0.9137, -0.7961,  ...,  0.1373,  0.0431,  0.0431],\n",
       "          ...,\n",
       "          [ 0.7333,  0.7333,  0.6941,  ..., -0.2471, -0.4118, -0.4118],\n",
       "          [ 0.7333,  0.7333,  0.6863,  ..., -0.3098, -0.4902, -0.4902],\n",
       "          [ 0.7333,  0.7333,  0.6863,  ..., -0.3098, -0.4902, -0.4902]]],\n",
       "\n",
       "\n",
       "        [[[-0.1294, -0.1294, -0.1608,  ...,  0.2157,  0.3412,  0.3412],\n",
       "          [-0.1294, -0.1294, -0.1608,  ...,  0.2157,  0.3412,  0.3412],\n",
       "          [-0.1529, -0.1529, -0.1608,  ...,  0.2157,  0.3098,  0.3098],\n",
       "          ...,\n",
       "          [-0.8588, -0.8588, -0.7961,  ...,  0.4353,  0.4118,  0.4118],\n",
       "          [-0.9137, -0.9137, -0.8353,  ...,  0.4196,  0.3961,  0.3961],\n",
       "          [-0.9137, -0.9137, -0.8353,  ...,  0.4196,  0.3961,  0.3961]],\n",
       "\n",
       "         [[ 0.4353,  0.4353,  0.4667,  ...,  0.8745,  0.9451,  0.9451],\n",
       "          [ 0.4353,  0.4353,  0.4667,  ...,  0.8745,  0.9451,  0.9451],\n",
       "          [ 0.5059,  0.5059,  0.5216,  ...,  0.7647,  0.8196,  0.8196],\n",
       "          ...,\n",
       "          [-0.6706, -0.6706, -0.5843,  ..., -0.0745, -0.2000, -0.2000],\n",
       "          [-0.7098, -0.7098, -0.6078,  ..., -0.2157, -0.3725, -0.3725],\n",
       "          [-0.7098, -0.7098, -0.6078,  ..., -0.2157, -0.3725, -0.3725]],\n",
       "\n",
       "         [[ 0.0196,  0.0196,  0.1216,  ...,  0.4039,  0.3725,  0.3725],\n",
       "          [ 0.0196,  0.0196,  0.1216,  ...,  0.4039,  0.3725,  0.3725],\n",
       "          [ 0.0902,  0.0902,  0.1608,  ...,  0.3961,  0.3725,  0.3725],\n",
       "          ...,\n",
       "          [-0.7098, -0.7098, -0.7255,  ...,  0.1373,  0.1059,  0.1059],\n",
       "          [-0.7255, -0.7255, -0.7490,  ...,  0.0431, -0.0039, -0.0039],\n",
       "          [-0.7255, -0.7255, -0.7490,  ...,  0.0431, -0.0039, -0.0039]]]])"
      ]
     },
     "execution_count": 30,
     "metadata": {},
     "output_type": "execute_result"
    }
   ],
   "source": [
    "images4"
   ]
  }
 ],
 "metadata": {
  "kernelspec": {
   "display_name": "Python 3 (ipykernel)",
   "language": "python",
   "name": "python3"
  },
  "language_info": {
   "codemirror_mode": {
    "name": "ipython",
    "version": 3
   },
   "file_extension": ".py",
   "mimetype": "text/x-python",
   "name": "python",
   "nbconvert_exporter": "python",
   "pygments_lexer": "ipython3",
   "version": "3.7.13"
  }
 },
 "nbformat": 4,
 "nbformat_minor": 5
}

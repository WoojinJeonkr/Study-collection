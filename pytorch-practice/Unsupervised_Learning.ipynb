{
 "cells": [
  {
   "cell_type": "markdown",
   "id": "e46768ad",
   "metadata": {},
   "source": [
    "# 비지도 학습"
   ]
  },
  {
   "cell_type": "markdown",
   "id": "8ee24c8e",
   "metadata": {},
   "source": [
    "### 깊은 k 평균 알고리즘 (오토인코더 + k 평균 알고리즘)"
   ]
  },
  {
   "cell_type": "code",
   "execution_count": 1,
   "id": "7cc5c593",
   "metadata": {},
   "outputs": [],
   "source": [
    "import torch\n",
    "import torch.nn as nn\n",
    "import torchvision\n",
    "from torchvision import transforms\n",
    "import numpy as np\n",
    "from scipy.optimize import linear_sum_assignment as linear_assignment\n",
    "from sklearn.manifold import TSNE\n",
    "from matplotlib import pyplot as plt"
   ]
  },
  {
   "cell_type": "code",
   "execution_count": 2,
   "id": "41bb5e3b",
   "metadata": {},
   "outputs": [
    {
     "name": "stdout",
     "output_type": "stream",
     "text": [
      "cpu is available.\n"
     ]
    }
   ],
   "source": [
    "# CPU/GPU\n",
    "device = torch.device(\"cuda:0\" if torch.cuda.is_available() else \"cpu\")\n",
    "print(f'{device} is available.')"
   ]
  },
  {
   "cell_type": "markdown",
   "id": "5f816fef",
   "metadata": {},
   "source": [
    "[CUDA Download](https://developer.nvidia.com/cuda-10.1-download-archive-base?target_os=Windows&target_arch=x86_64&target_version=10&target_type=exelocal)"
   ]
  },
  {
   "cell_type": "markdown",
   "id": "751f15dc",
   "metadata": {},
   "source": [
    "본인 환경에 맞는 CUDA를 다운받아 GPU 사용 가능"
   ]
  }
 ],
 "metadata": {
  "kernelspec": {
   "display_name": "Python 3 (ipykernel)",
   "language": "python",
   "name": "python3"
  },
  "language_info": {
   "codemirror_mode": {
    "name": "ipython",
    "version": 3
   },
   "file_extension": ".py",
   "mimetype": "text/x-python",
   "name": "python",
   "nbconvert_exporter": "python",
   "pygments_lexer": "ipython3",
   "version": "3.7.13"
  }
 },
 "nbformat": 4,
 "nbformat_minor": 5
}

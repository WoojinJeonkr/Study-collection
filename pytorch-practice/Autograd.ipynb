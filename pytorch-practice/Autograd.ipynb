{
 "cells": [
  {
   "cell_type": "markdown",
   "id": "a385f9fc",
   "metadata": {},
   "source": [
    "## 경사하강법"
   ]
  },
  {
   "cell_type": "markdown",
   "id": "339d57ce",
   "metadata": {},
   "source": [
    "비용 함수를 미분한 뒤 함수의 기울기(gradient)를 구해서 비용(, 손실, 오차)이 최소화되는 방향을 찾아내는 알고리즘"
   ]
  },
  {
   "cell_type": "markdown",
   "id": "26b0870e",
   "metadata": {},
   "source": [
    "## Autograd(자동 미분)"
   ]
  },
  {
   "cell_type": "code",
   "execution_count": 1,
   "id": "87efc4e3",
   "metadata": {},
   "outputs": [],
   "source": [
    "import torch"
   ]
  },
  {
   "cell_type": "code",
   "execution_count": 2,
   "id": "280b8001",
   "metadata": {},
   "outputs": [],
   "source": [
    "# 임의의 스칼라 텐서 w 선언\n",
    "w = torch.tensor(2.0, requires_grad = True)"
   ]
  },
  {
   "cell_type": "code",
   "execution_count": 3,
   "id": "4185a8fd",
   "metadata": {},
   "outputs": [
    {
     "name": "stdout",
     "output_type": "stream",
     "text": [
      "tensor(2., requires_grad=True)\n"
     ]
    }
   ],
   "source": [
    "print(w)"
   ]
  },
  {
   "cell_type": "code",
   "execution_count": 4,
   "id": "7b77858d",
   "metadata": {},
   "outputs": [],
   "source": [
    "# 수식 정의\n",
    "y = w**2\n",
    "z = 2*y + 5"
   ]
  },
  {
   "cell_type": "code",
   "execution_count": 5,
   "id": "28bc16cb",
   "metadata": {},
   "outputs": [],
   "source": [
    "# 해당 수식의 w에 대한 기울기 계산\n",
    "z.backward()"
   ]
  },
  {
   "cell_type": "code",
   "execution_count": 6,
   "id": "1e05f3f1",
   "metadata": {},
   "outputs": [
    {
     "name": "stdout",
     "output_type": "stream",
     "text": [
      "수식을 w로 미분한 값은 8.0\n"
     ]
    }
   ],
   "source": [
    "# w가 속한 수식을 w로 미분한 값 출력\n",
    "print('수식을 w로 미분한 값은 {}'.format(w.grad))"
   ]
  }
 ],
 "metadata": {
  "kernelspec": {
   "display_name": "Python 3 (ipykernel)",
   "language": "python",
   "name": "python3"
  },
  "language_info": {
   "codemirror_mode": {
    "name": "ipython",
    "version": 3
   },
   "file_extension": ".py",
   "mimetype": "text/x-python",
   "name": "python",
   "nbconvert_exporter": "python",
   "pygments_lexer": "ipython3",
   "version": "3.7.13"
  }
 },
 "nbformat": 4,
 "nbformat_minor": 5
}

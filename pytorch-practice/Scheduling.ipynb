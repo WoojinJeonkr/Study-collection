{
 "cells": [
  {
   "cell_type": "markdown",
   "id": "b0ddc475",
   "metadata": {},
   "source": [
    "## 최적화 기법"
   ]
  },
  {
   "cell_type": "markdown",
   "id": "6553742e",
   "metadata": {},
   "source": [
    "import torch   \n",
    "import torchvision"
   ]
  },
  {
   "cell_type": "markdown",
   "id": "9bc596a4",
   "metadata": {},
   "source": [
    "model = torchvision.models.resnet18(pretrained=False)"
   ]
  },
  {
   "cell_type": "markdown",
   "id": "852469fc",
   "metadata": {},
   "source": [
    "### 1. SGD"
   ]
  },
  {
   "cell_type": "markdown",
   "id": "b39d217b",
   "metadata": {},
   "source": [
    "optimizer = torch.optim.SGD(model.parameters(), lr=0.01)"
   ]
  },
  {
   "cell_type": "markdown",
   "id": "019391c9",
   "metadata": {},
   "source": [
    "### 2-1. Momentum"
   ]
  },
  {
   "cell_type": "markdown",
   "id": "c6bd8eb8",
   "metadata": {},
   "source": [
    "optimizer = torch.optim.SGD(model.parameters(), lr=0.01, momentum=0.9)"
   ]
  },
  {
   "cell_type": "markdown",
   "id": "cc35e8f7",
   "metadata": {},
   "source": [
    "### 2-2.Adam"
   ]
  },
  {
   "cell_type": "markdown",
   "id": "2095af8a",
   "metadata": {},
   "source": [
    "optimizer = torch.optim.Adam(model.parameters(), lr=0.01)"
   ]
  },
  {
   "cell_type": "markdown",
   "id": "f9307013",
   "metadata": {},
   "source": [
    "### 3. 스케쥴링"
   ]
  },
  {
   "cell_type": "markdown",
   "id": "198eeefc",
   "metadata": {},
   "source": [
    "// momentum을 기반으로 최적화 선언 -> learning rate 바뀌지 않음   \n",
    "optimizer = torch.optim.SGD(model.parameters(), lr=0.1, momentum=0.9)   \n",
    "scheduler = torch.optim.lr.scheduler.StepLR(optimizer, step_size=30, gamma = 0.1)"
   ]
  },
  {
   "cell_type": "markdown",
   "id": "5f271b49",
   "metadata": {},
   "source": [
    "*** 중략 ***   \n",
    "\n",
    "for epoch in range(400):   \n",
    "    running_loss = 0.0   \n",
    "    for data in trainloader:   \n",
    "        inputs, values = data   \n",
    "        optimizer.zero_grad()   \n",
    "        outputs = model(inputs)   \n",
    "        loss = criterion(outputs, values)   \n",
    "        loss.backward()   \n",
    "        optimizer.step()   \n",
    "\n",
    "*** 중략 ***   \n",
    "scheduler.step() // 스케쥴링을 통한 학습률 조정"
   ]
  }
 ],
 "metadata": {
  "kernelspec": {
   "display_name": "Python 3 (ipykernel)",
   "language": "python",
   "name": "python3"
  },
  "language_info": {
   "codemirror_mode": {
    "name": "ipython",
    "version": 3
   },
   "file_extension": ".py",
   "mimetype": "text/x-python",
   "name": "python",
   "nbconvert_exporter": "python",
   "pygments_lexer": "ipython3",
   "version": "3.7.13"
  }
 },
 "nbformat": 4,
 "nbformat_minor": 5
}

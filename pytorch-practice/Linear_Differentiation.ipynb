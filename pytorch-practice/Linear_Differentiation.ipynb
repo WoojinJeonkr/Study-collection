{
 "cells": [
  {
   "cell_type": "code",
   "execution_count": 1,
   "id": "587b6df8",
   "metadata": {},
   "outputs": [],
   "source": [
    "import torch"
   ]
  },
  {
   "cell_type": "code",
   "execution_count": 2,
   "id": "c29108bc",
   "metadata": {},
   "outputs": [],
   "source": [
    "# requires_grad = True: x에 관한 역할을 추적할 수 있도록 함\n",
    "x = torch.ones(2, 2, requires_grad=True)"
   ]
  },
  {
   "cell_type": "code",
   "execution_count": 3,
   "id": "2631c19b",
   "metadata": {},
   "outputs": [
    {
     "name": "stdout",
     "output_type": "stream",
     "text": [
      "tensor([[2., 2.],\n",
      "        [2., 2.]], grad_fn=<AddBackward0>)\n"
     ]
    }
   ],
   "source": [
    "y = x + 1\n",
    "print(y)"
   ]
  },
  {
   "cell_type": "code",
   "execution_count": 4,
   "id": "cef784ca",
   "metadata": {},
   "outputs": [
    {
     "name": "stdout",
     "output_type": "stream",
     "text": [
      "tensor(8., grad_fn=<MeanBackward0>)\n"
     ]
    }
   ],
   "source": [
    "z = 2*y**2\n",
    "res = z.mean()\n",
    "print(res)"
   ]
  },
  {
   "cell_type": "code",
   "execution_count": 5,
   "id": "127f41ab",
   "metadata": {},
   "outputs": [],
   "source": [
    "# 변수 선언 -> 모델 내 연산 예측값 산출 -> 손실함수 계산 -> 손실 산출"
   ]
  },
  {
   "cell_type": "code",
   "execution_count": 6,
   "id": "741f12ff",
   "metadata": {},
   "outputs": [],
   "source": [
    "# d(res)/dx_i = x_i + 1\n",
    "# res = (z_1 + ... + z_4) / 4\n",
    "# z_i = 2 z_i ** 2\n",
    "# z_i = 2(x_i+1)**2"
   ]
  },
  {
   "cell_type": "code",
   "execution_count": 7,
   "id": "d9acd682",
   "metadata": {},
   "outputs": [],
   "source": [
    "# res를 기준으로 연쇄법칙 선언\n",
    "res.backward()"
   ]
  },
  {
   "cell_type": "code",
   "execution_count": 8,
   "id": "9223e2a0",
   "metadata": {},
   "outputs": [
    {
     "name": "stdout",
     "output_type": "stream",
     "text": [
      "tensor([[2., 2.],\n",
      "        [2., 2.]])\n"
     ]
    }
   ],
   "source": [
    "print(x.grad)"
   ]
  }
 ],
 "metadata": {
  "kernelspec": {
   "display_name": "Python 3 (ipykernel)",
   "language": "python",
   "name": "python3"
  },
  "language_info": {
   "codemirror_mode": {
    "name": "ipython",
    "version": 3
   },
   "file_extension": ".py",
   "mimetype": "text/x-python",
   "name": "python",
   "nbconvert_exporter": "python",
   "pygments_lexer": "ipython3",
   "version": "3.7.13"
  }
 },
 "nbformat": 4,
 "nbformat_minor": 5
}

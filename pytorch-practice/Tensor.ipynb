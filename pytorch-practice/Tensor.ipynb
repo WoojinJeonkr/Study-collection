{
 "cells": [
  {
   "cell_type": "code",
   "execution_count": 1,
   "id": "880769b7",
   "metadata": {},
   "outputs": [],
   "source": [
    "# Torch: The torch package contains data structures for multi-dimensional tensors\n",
    "#        and mathmetical operations over these are defined."
   ]
  },
  {
   "cell_type": "code",
   "execution_count": 2,
   "id": "5a774f21",
   "metadata": {},
   "outputs": [],
   "source": [
    "# !pip install torch"
   ]
  },
  {
   "cell_type": "code",
   "execution_count": 3,
   "id": "efa0f2c6",
   "metadata": {},
   "outputs": [],
   "source": [
    "import torch\n",
    "import numpy as np"
   ]
  },
  {
   "cell_type": "code",
   "execution_count": 4,
   "id": "e92ba955",
   "metadata": {},
   "outputs": [
    {
     "name": "stdout",
     "output_type": "stream",
     "text": [
      "tensor([[1.0194e-38, 1.0469e-38, 1.0010e-38, 8.9081e-39],\n",
      "        [8.9082e-39, 5.9694e-39, 8.9082e-39, 1.0194e-38],\n",
      "        [9.1837e-39, 4.6837e-39, 9.9184e-39, 9.0000e-39],\n",
      "        [1.0561e-38, 1.0653e-38, 4.1327e-39, 8.9082e-39],\n",
      "        [9.8265e-39, 9.4592e-39, 1.0561e-38, 1.0653e-38]])\n"
     ]
    }
   ],
   "source": [
    "# 빈 텐서\n",
    "x = torch.empty(5, 4)\n",
    "print(x)"
   ]
  },
  {
   "cell_type": "code",
   "execution_count": 5,
   "id": "53fc4daf",
   "metadata": {},
   "outputs": [
    {
     "data": {
      "text/plain": [
       "tensor([[1., 1., 1.],\n",
       "        [1., 1., 1.],\n",
       "        [1., 1., 1.]])"
      ]
     },
     "execution_count": 5,
     "metadata": {},
     "output_type": "execute_result"
    }
   ],
   "source": [
    "# 1행렬\n",
    "torch.ones(3, 3)"
   ]
  },
  {
   "cell_type": "code",
   "execution_count": 6,
   "id": "a9bf1293",
   "metadata": {},
   "outputs": [
    {
     "data": {
      "text/plain": [
       "tensor([0., 0.])"
      ]
     },
     "execution_count": 6,
     "metadata": {},
     "output_type": "execute_result"
    }
   ],
   "source": [
    "# 0행렬\n",
    "torch.zeros(2)"
   ]
  },
  {
   "cell_type": "code",
   "execution_count": 7,
   "id": "55cefdc8",
   "metadata": {},
   "outputs": [
    {
     "data": {
      "text/plain": [
       "tensor([[0.5540, 0.1238, 0.8196, 0.5487, 0.1838, 0.4878],\n",
       "        [0.3761, 0.5621, 0.8239, 0.8958, 0.5342, 0.1271],\n",
       "        [0.3361, 0.7198, 0.7261, 0.5533, 0.9572, 0.8538],\n",
       "        [0.8971, 0.5290, 0.5905, 0.7497, 0.8685, 0.5526],\n",
       "        [0.6781, 0.4215, 0.0767, 0.8817, 0.8036, 0.1533]])"
      ]
     },
     "execution_count": 7,
     "metadata": {},
     "output_type": "execute_result"
    }
   ],
   "source": [
    "# 랜덤행렬\n",
    "torch.rand(5,6)"
   ]
  },
  {
   "cell_type": "code",
   "execution_count": 8,
   "id": "b4754602",
   "metadata": {},
   "outputs": [],
   "source": [
    "l = [13, 4]\n",
    "r = np.array([4,56,7])"
   ]
  },
  {
   "cell_type": "code",
   "execution_count": 9,
   "id": "038bc543",
   "metadata": {},
   "outputs": [
    {
     "data": {
      "text/plain": [
       "tensor([13,  4])"
      ]
     },
     "execution_count": 9,
     "metadata": {},
     "output_type": "execute_result"
    }
   ],
   "source": [
    "# list -> tensor\n",
    "torch.tensor(l)"
   ]
  },
  {
   "cell_type": "code",
   "execution_count": 10,
   "id": "5ac9e794",
   "metadata": {},
   "outputs": [
    {
     "data": {
      "text/plain": [
       "torch.Size([5, 4])"
      ]
     },
     "execution_count": 10,
     "metadata": {},
     "output_type": "execute_result"
    }
   ],
   "source": [
    "# 사이즈 확인\n",
    "x.size()"
   ]
  },
  {
   "cell_type": "code",
   "execution_count": 11,
   "id": "8f564604",
   "metadata": {},
   "outputs": [
    {
     "data": {
      "text/plain": [
       "torch.Tensor"
      ]
     },
     "execution_count": 11,
     "metadata": {},
     "output_type": "execute_result"
    }
   ],
   "source": [
    "# 타입 확인\n",
    "type(x)"
   ]
  },
  {
   "cell_type": "code",
   "execution_count": 12,
   "id": "545ebcdb",
   "metadata": {},
   "outputs": [
    {
     "name": "stdout",
     "output_type": "stream",
     "text": [
      "tensor([[0.6505, 0.9128],\n",
      "        [0.4581, 0.9528]])\n",
      "tensor([[0.8784, 0.3737],\n",
      "        [0.9153, 0.8759]])\n"
     ]
    }
   ],
   "source": [
    "x = torch.rand(2,2)\n",
    "y = torch.rand(2,2)\n",
    "print(x)\n",
    "print(y)"
   ]
  },
  {
   "cell_type": "code",
   "execution_count": 13,
   "id": "bdba0071",
   "metadata": {},
   "outputs": [
    {
     "data": {
      "text/plain": [
       "tensor([[1.5289, 1.2865],\n",
       "        [1.3734, 1.8288]])"
      ]
     },
     "execution_count": 13,
     "metadata": {},
     "output_type": "execute_result"
    }
   ],
   "source": [
    "# 연산자를 이용한 연산\n",
    "x+y"
   ]
  },
  {
   "cell_type": "code",
   "execution_count": 14,
   "id": "7ce3fdcc",
   "metadata": {},
   "outputs": [
    {
     "data": {
      "text/plain": [
       "tensor([[1.5289, 1.2865],\n",
       "        [1.3734, 1.8288]])"
      ]
     },
     "execution_count": 14,
     "metadata": {},
     "output_type": "execute_result"
    }
   ],
   "source": [
    "# torch 함수를 이용한 연산\n",
    "torch.add(x, y)"
   ]
  },
  {
   "cell_type": "code",
   "execution_count": 15,
   "id": "0d08e644",
   "metadata": {},
   "outputs": [
    {
     "data": {
      "text/plain": [
       "tensor([[1.5289, 1.2865],\n",
       "        [1.3734, 1.8288]])"
      ]
     },
     "execution_count": 15,
     "metadata": {},
     "output_type": "execute_result"
    }
   ],
   "source": [
    "# y에 x를 더해서 값을 출력\n",
    "y.add(x) # 실행 시 y값 변화 없음"
   ]
  },
  {
   "cell_type": "code",
   "execution_count": 16,
   "id": "c40dd2b5",
   "metadata": {},
   "outputs": [
    {
     "data": {
      "text/plain": [
       "tensor([[1.5289, 1.2865],\n",
       "        [1.3734, 1.8288]])"
      ]
     },
     "execution_count": 16,
     "metadata": {},
     "output_type": "execute_result"
    }
   ],
   "source": [
    "# y에 x를 더해서 y를 대체\n",
    "y.add_(x) # 실행 시 y값이 바뀜"
   ]
  },
  {
   "cell_type": "code",
   "execution_count": 17,
   "id": "721567a2",
   "metadata": {},
   "outputs": [
    {
     "data": {
      "text/plain": [
       "tensor(1.8288)"
      ]
     },
     "execution_count": 17,
     "metadata": {},
     "output_type": "execute_result"
    }
   ],
   "source": [
    "# 1행 1열 표현\n",
    "y[1,1]"
   ]
  },
  {
   "cell_type": "code",
   "execution_count": 18,
   "id": "31ee2fe4",
   "metadata": {},
   "outputs": [
    {
     "data": {
      "text/plain": [
       "tensor([1.2865, 1.8288])"
      ]
     },
     "execution_count": 18,
     "metadata": {},
     "output_type": "execute_result"
    }
   ],
   "source": [
    "# 1열 표현\n",
    "y[:, 1]"
   ]
  },
  {
   "cell_type": "code",
   "execution_count": 19,
   "id": "6693b45f",
   "metadata": {},
   "outputs": [
    {
     "name": "stdout",
     "output_type": "stream",
     "text": [
      "tensor([[0.8377, 0.3367, 0.2006, 0.0453, 0.0502, 0.7899, 0.5680, 0.2760],\n",
      "        [0.2156, 0.6490, 0.5689, 0.0198, 0.1344, 0.0632, 0.4114, 0.2970],\n",
      "        [0.1975, 0.2651, 0.8659, 0.5796, 0.0027, 0.4368, 0.6817, 0.2538],\n",
      "        [0.6860, 0.9266, 0.4845, 0.9783, 0.6728, 0.4344, 0.9772, 0.8213],\n",
      "        [0.1747, 0.9691, 0.7823, 0.8948, 0.4168, 0.0413, 0.9478, 0.6606],\n",
      "        [0.3847, 0.9760, 0.6244, 0.2190, 0.4721, 0.0152, 0.2228, 0.6633],\n",
      "        [0.1380, 0.3732, 0.5322, 0.0387, 0.4681, 0.0921, 0.2032, 0.8709],\n",
      "        [0.0265, 0.9429, 0.5066, 0.9157, 0.0505, 0.5364, 0.4557, 0.3892]])\n"
     ]
    }
   ],
   "source": [
    "# 8X8 행렬 생성\n",
    "a = torch.rand(8,8)\n",
    "print(a)"
   ]
  },
  {
   "cell_type": "code",
   "execution_count": 20,
   "id": "8d0bb4a0",
   "metadata": {},
   "outputs": [
    {
     "data": {
      "text/plain": [
       "tensor([0.8377, 0.3367, 0.2006, 0.0453, 0.0502, 0.7899, 0.5680, 0.2760, 0.2156,\n",
       "        0.6490, 0.5689, 0.0198, 0.1344, 0.0632, 0.4114, 0.2970, 0.1975, 0.2651,\n",
       "        0.8659, 0.5796, 0.0027, 0.4368, 0.6817, 0.2538, 0.6860, 0.9266, 0.4845,\n",
       "        0.9783, 0.6728, 0.4344, 0.9772, 0.8213, 0.1747, 0.9691, 0.7823, 0.8948,\n",
       "        0.4168, 0.0413, 0.9478, 0.6606, 0.3847, 0.9760, 0.6244, 0.2190, 0.4721,\n",
       "        0.0152, 0.2228, 0.6633, 0.1380, 0.3732, 0.5322, 0.0387, 0.4681, 0.0921,\n",
       "        0.2032, 0.8709, 0.0265, 0.9429, 0.5066, 0.9157, 0.0505, 0.5364, 0.4557,\n",
       "        0.3892])"
      ]
     },
     "execution_count": 20,
     "metadata": {},
     "output_type": "execute_result"
    }
   ],
   "source": [
    "# tensor 표시 방법 1\n",
    "a.view(64) # 열 기준으로 나열"
   ]
  },
  {
   "cell_type": "code",
   "execution_count": 21,
   "id": "b7bfa68d",
   "metadata": {},
   "outputs": [
    {
     "data": {
      "text/plain": [
       "tensor([[[0.8377, 0.3367, 0.2006, 0.0453],\n",
       "         [0.0502, 0.7899, 0.5680, 0.2760],\n",
       "         [0.2156, 0.6490, 0.5689, 0.0198],\n",
       "         [0.1344, 0.0632, 0.4114, 0.2970]],\n",
       "\n",
       "        [[0.1975, 0.2651, 0.8659, 0.5796],\n",
       "         [0.0027, 0.4368, 0.6817, 0.2538],\n",
       "         [0.6860, 0.9266, 0.4845, 0.9783],\n",
       "         [0.6728, 0.4344, 0.9772, 0.8213]],\n",
       "\n",
       "        [[0.1747, 0.9691, 0.7823, 0.8948],\n",
       "         [0.4168, 0.0413, 0.9478, 0.6606],\n",
       "         [0.3847, 0.9760, 0.6244, 0.2190],\n",
       "         [0.4721, 0.0152, 0.2228, 0.6633]],\n",
       "\n",
       "        [[0.1380, 0.3732, 0.5322, 0.0387],\n",
       "         [0.4681, 0.0921, 0.2032, 0.8709],\n",
       "         [0.0265, 0.9429, 0.5066, 0.9157],\n",
       "         [0.0505, 0.5364, 0.4557, 0.3892]]])"
      ]
     },
     "execution_count": 21,
     "metadata": {},
     "output_type": "execute_result"
    }
   ],
   "source": [
    "# tensor 표시 방법 2\n",
    "a.view(-1, 4, 4)"
   ]
  },
  {
   "cell_type": "code",
   "execution_count": 22,
   "id": "1bd28ca0",
   "metadata": {},
   "outputs": [
    {
     "name": "stdout",
     "output_type": "stream",
     "text": [
      "[[0.8377312  0.3367154  0.20057231 0.04532957 0.05020303 0.78988516\n",
      "  0.568021   0.2759533 ]\n",
      " [0.21561962 0.6489547  0.56890965 0.01976871 0.13435751 0.06316942\n",
      "  0.41144216 0.2970323 ]\n",
      " [0.19750494 0.26508856 0.8659486  0.579644   0.00267243 0.4367538\n",
      "  0.68167424 0.25379193]\n",
      " [0.6860097  0.9265735  0.48454863 0.9783334  0.67280143 0.43437916\n",
      "  0.9772309  0.8212767 ]\n",
      " [0.1747114  0.96907455 0.78231394 0.89478284 0.41675276 0.04127115\n",
      "  0.94781107 0.6605917 ]\n",
      " [0.38465822 0.9760212  0.6244202  0.2190404  0.4720993  0.01516771\n",
      "  0.22278613 0.6633016 ]\n",
      " [0.13797677 0.3732016  0.5322015  0.03871167 0.4681087  0.09210902\n",
      "  0.2032336  0.8709276 ]\n",
      " [0.02653146 0.94293064 0.5066166  0.91565037 0.05047411 0.5364341\n",
      "  0.4557045  0.38924396]]\n"
     ]
    }
   ],
   "source": [
    "# tensor -> numpy\n",
    "b = a.numpy()\n",
    "print(b)"
   ]
  },
  {
   "cell_type": "code",
   "execution_count": 23,
   "id": "e5b89409",
   "metadata": {},
   "outputs": [],
   "source": [
    "z = torch.ones(1) # 1행렬 z"
   ]
  },
  {
   "cell_type": "code",
   "execution_count": 24,
   "id": "cbc44ea1",
   "metadata": {},
   "outputs": [
    {
     "data": {
      "text/plain": [
       "tensor([1.])"
      ]
     },
     "execution_count": 24,
     "metadata": {},
     "output_type": "execute_result"
    }
   ],
   "source": [
    "z # tensor"
   ]
  },
  {
   "cell_type": "code",
   "execution_count": 25,
   "id": "5e41571a",
   "metadata": {},
   "outputs": [
    {
     "data": {
      "text/plain": [
       "1.0"
      ]
     },
     "execution_count": 25,
     "metadata": {},
     "output_type": "execute_result"
    }
   ],
   "source": [
    "# tensor 안의 값 출력\n",
    "z.item() # value"
   ]
  }
 ],
 "metadata": {
  "kernelspec": {
   "display_name": "Python 3 (ipykernel)",
   "language": "python",
   "name": "python3"
  },
  "language_info": {
   "codemirror_mode": {
    "name": "ipython",
    "version": 3
   },
   "file_extension": ".py",
   "mimetype": "text/x-python",
   "name": "python",
   "nbconvert_exporter": "python",
   "pygments_lexer": "ipython3",
   "version": "3.7.13"
  }
 },
 "nbformat": 4,
 "nbformat_minor": 5
}

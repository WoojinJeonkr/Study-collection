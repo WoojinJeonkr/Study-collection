{
 "cells": [
  {
   "cell_type": "markdown",
   "id": "da16af03",
   "metadata": {},
   "source": [
    "## hashlib"
   ]
  },
  {
   "cell_type": "markdown",
   "id": "f3fe791a",
   "metadata": {},
   "source": [
    "- MD5, SHA256 등의 알고리즘으로 문자열을 해싱(hashing)할 때 사용하는 모듈\n",
    "- 해싱(hashing): 원본 문자열을 알아볼 수 없는 난해한 문자열로 정의하는 방법으로, 해시값을 조사하여 데이터 변조 여부를 확인하는 것"
   ]
  },
  {
   "cell_type": "code",
   "execution_count": 1,
   "id": "15472455",
   "metadata": {},
   "outputs": [],
   "source": [
    "import hashlib # hashlib 모듈 사용\n",
    "import os"
   ]
  },
  {
   "cell_type": "code",
   "execution_count": 2,
   "id": "20535524",
   "metadata": {},
   "outputs": [],
   "source": [
    "# 비밀번호 암호화하는 함수 생성\n",
    "def check_passwd():\n",
    "    if os.path.exists('passwd.txt'):\n",
    "        before_passwd = input('기존 비밀번호를 입력하세요:')\n",
    "        m = hashlib.sha256()\n",
    "        m.update(before_passwd.encode('utf-8'))\n",
    "        with open('passwd.txt', 'r') as f:\n",
    "            return m.hexdigest() == f.read()\n",
    "    else:\n",
    "        return True"
   ]
  },
  {
   "cell_type": "code",
   "execution_count": 3,
   "id": "b10dce9f",
   "metadata": {},
   "outputs": [
    {
     "name": "stdout",
     "output_type": "stream",
     "text": [
      "새로운 비밀번호를 입력하세요:123456\n"
     ]
    }
   ],
   "source": [
    "if check_passwd():\n",
    "    passwd = input('새로운 비밀번호를 입력하세요:')\n",
    "    with open('passwd.txt', 'w') as f:\n",
    "        m = hashlib.sha256()\n",
    "        m.update(passwd.encode('utf-8'))\n",
    "        f.write(m.hexdigest())\n",
    "else:\n",
    "    print(\"비밀번호가 일치하지 않습니다.\")"
   ]
  },
  {
   "cell_type": "code",
   "execution_count": 4,
   "id": "6890c28f",
   "metadata": {},
   "outputs": [
    {
     "name": "stdout",
     "output_type": "stream",
     "text": [
      "기존 비밀번호를 입력하세요:123456\n",
      "새로운 비밀번호를 입력하세요:23456\n"
     ]
    }
   ],
   "source": [
    "if check_passwd():\n",
    "    passwd = input('새로운 비밀번호를 입력하세요:')\n",
    "    with open('passwd.txt', 'w') as f:\n",
    "        m = hashlib.sha256()\n",
    "        m.update(passwd.encode('utf-8'))\n",
    "        f.write(m.hexdigest())\n",
    "else:\n",
    "    print(\"비밀번호가 일치하지 않습니다.\")"
   ]
  },
  {
   "cell_type": "code",
   "execution_count": 5,
   "id": "955a119d",
   "metadata": {},
   "outputs": [
    {
     "name": "stdout",
     "output_type": "stream",
     "text": [
      "기존 비밀번호를 입력하세요:345215\n",
      "비밀번호가 일치하지 않습니다.\n"
     ]
    }
   ],
   "source": [
    "if check_passwd():\n",
    "    passwd = input('새로운 비밀번호를 입력하세요:')\n",
    "    with open('passwd.txt', 'w') as f:\n",
    "        m = hashlib.sha256()\n",
    "        m.update(passwd.encode('utf-8'))\n",
    "        f.write(m.hexdigest())\n",
    "else:\n",
    "    print(\"비밀번호가 일치하지 않습니다.\")"
   ]
  }
 ],
 "metadata": {
  "kernelspec": {
   "display_name": "Python 3 (ipykernel)",
   "language": "python",
   "name": "python3"
  },
  "language_info": {
   "codemirror_mode": {
    "name": "ipython",
    "version": 3
   },
   "file_extension": ".py",
   "mimetype": "text/x-python",
   "name": "python",
   "nbconvert_exporter": "python",
   "pygments_lexer": "ipython3",
   "version": "3.7.13"
  }
 },
 "nbformat": 4,
 "nbformat_minor": 5
}

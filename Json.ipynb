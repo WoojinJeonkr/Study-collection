{
 "cells": [
  {
   "cell_type": "markdown",
   "id": "0fb3fbeb",
   "metadata": {},
   "source": [
    "## json: Json 데이터를 쉽게 처리하기 위한 모듈"
   ]
  },
  {
   "cell_type": "markdown",
   "id": "59f251d5",
   "metadata": {},
   "source": [
    "### 01. JSON 파일을 읽어 딕셔너리로 변환"
   ]
  },
  {
   "cell_type": "code",
   "execution_count": 1,
   "id": "fb452ed7",
   "metadata": {},
   "outputs": [],
   "source": [
    "import json"
   ]
  },
  {
   "cell_type": "code",
   "execution_count": 2,
   "id": "ec4f01de",
   "metadata": {},
   "outputs": [],
   "source": [
    "with open('testinfo.json', encoding=\"utf-8\") as f:\n",
    "    data = json.load(f)"
   ]
  },
  {
   "cell_type": "code",
   "execution_count": 3,
   "id": "24fcbfd2",
   "metadata": {},
   "outputs": [
    {
     "data": {
      "text/plain": [
       "dict"
      ]
     },
     "execution_count": 3,
     "metadata": {},
     "output_type": "execute_result"
    }
   ],
   "source": [
    "type(data)"
   ]
  },
  {
   "cell_type": "code",
   "execution_count": 4,
   "id": "1db0cd89",
   "metadata": {},
   "outputs": [
    {
     "name": "stdout",
     "output_type": "stream",
     "text": [
      "{'name': '홍길동', 'birth': '0525', 'age': 30}\n"
     ]
    }
   ],
   "source": [
    "print(data)"
   ]
  },
  {
   "cell_type": "markdown",
   "id": "20a79f9d",
   "metadata": {},
   "source": [
    "### 02. 딕셔너리를 JSON 파일로 변환"
   ]
  },
  {
   "cell_type": "code",
   "execution_count": 5,
   "id": "95258297",
   "metadata": {},
   "outputs": [],
   "source": [
    "import json"
   ]
  },
  {
   "cell_type": "code",
   "execution_count": 6,
   "id": "71f24978",
   "metadata": {},
   "outputs": [],
   "source": [
    "data = {'name': '홍길동', 'birth': '0525', 'age': 30}"
   ]
  },
  {
   "cell_type": "code",
   "execution_count": 7,
   "id": "62d98c65",
   "metadata": {},
   "outputs": [],
   "source": [
    "with open('myinfo.json', 'w') as f:\n",
    "    json.dump(data, f)"
   ]
  },
  {
   "cell_type": "code",
   "execution_count": 8,
   "id": "93fdc972",
   "metadata": {},
   "outputs": [],
   "source": [
    "with open('myinfo.json') as f:\n",
    "    data = json.load(f)"
   ]
  },
  {
   "cell_type": "code",
   "execution_count": 9,
   "id": "4a9b3516",
   "metadata": {},
   "outputs": [
    {
     "name": "stdout",
     "output_type": "stream",
     "text": [
      "{'name': '홍길동', 'birth': '0525', 'age': 30}\n"
     ]
    }
   ],
   "source": [
    "print(data)"
   ]
  }
 ],
 "metadata": {
  "kernelspec": {
   "display_name": "Python 3 (ipykernel)",
   "language": "python",
   "name": "python3"
  },
  "language_info": {
   "codemirror_mode": {
    "name": "ipython",
    "version": 3
   },
   "file_extension": ".py",
   "mimetype": "text/x-python",
   "name": "python",
   "nbconvert_exporter": "python",
   "pygments_lexer": "ipython3",
   "version": "3.7.13"
  }
 },
 "nbformat": 4,
 "nbformat_minor": 5
}

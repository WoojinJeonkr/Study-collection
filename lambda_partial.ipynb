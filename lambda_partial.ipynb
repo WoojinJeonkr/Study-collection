{
 "cells": [
  {
   "cell_type": "markdown",
   "id": "6508f193",
   "metadata": {},
   "source": [
    "# lambda & partial"
   ]
  },
  {
   "cell_type": "code",
   "execution_count": 1,
   "id": "5ea4cf62",
   "metadata": {},
   "outputs": [],
   "source": [
    "# 덧셈 함수 정의\n",
    "def sum(a, b):\n",
    "    print(a+b)"
   ]
  },
  {
   "cell_type": "markdown",
   "id": "9e3bb67d",
   "metadata": {},
   "source": [
    "## 01. lambda"
   ]
  },
  {
   "cell_type": "markdown",
   "id": "381a6009",
   "metadata": {},
   "source": [
    "- 함수를 간편하게 작성할 수 있어서 다른 함수의 인수로 넣을 때 주로 사용\n",
    "- 매개변수, 연산자, 값 등을 조합한 식으로 반환값을 만드는 방식"
   ]
  },
  {
   "cell_type": "code",
   "execution_count": 2,
   "id": "c62eb27b",
   "metadata": {},
   "outputs": [
    {
     "name": "stdout",
     "output_type": "stream",
     "text": [
      "11\n"
     ]
    }
   ],
   "source": [
    "f1 = lambda x : sum(x, 10)   \n",
    "f1(1)"
   ]
  },
  {
   "cell_type": "markdown",
   "id": "6891b153",
   "metadata": {},
   "source": [
    "## 02. partial"
   ]
  },
  {
   "cell_type": "markdown",
   "id": "1121079f",
   "metadata": {},
   "source": [
    "- 하나 이상의 인수가 이미 채워진 새 버전의 함수를 만들 때 사용하는 함수"
   ]
  },
  {
   "cell_type": "code",
   "execution_count": 3,
   "id": "68c078ac",
   "metadata": {},
   "outputs": [],
   "source": [
    "from functools import partial"
   ]
  },
  {
   "cell_type": "code",
   "execution_count": 4,
   "id": "25f2166e",
   "metadata": {},
   "outputs": [
    {
     "name": "stdout",
     "output_type": "stream",
     "text": [
      "11\n"
     ]
    }
   ],
   "source": [
    "f2 = partial(sum, 10)\n",
    "f2(1)"
   ]
  }
 ],
 "metadata": {
  "kernelspec": {
   "display_name": "Python 3 (ipykernel)",
   "language": "python",
   "name": "python3"
  },
  "language_info": {
   "codemirror_mode": {
    "name": "ipython",
    "version": 3
   },
   "file_extension": ".py",
   "mimetype": "text/x-python",
   "name": "python",
   "nbconvert_exporter": "python",
   "pygments_lexer": "ipython3",
   "version": "3.7.13"
  }
 },
 "nbformat": 4,
 "nbformat_minor": 5
}

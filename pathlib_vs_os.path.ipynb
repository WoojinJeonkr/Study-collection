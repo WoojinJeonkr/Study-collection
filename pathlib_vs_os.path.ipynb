{
 "cells": [
  {
   "cell_type": "markdown",
   "id": "0ed2be69",
   "metadata": {},
   "source": [
    "## pathlib"
   ]
  },
  {
   "cell_type": "markdown",
   "id": "eca91d1a",
   "metadata": {},
   "source": [
    "파일 시스템 경로를 문자열이 아닌 객체로 만들어 여러 가지 일을 할 수 있도록 하는 모듈"
   ]
  },
  {
   "cell_type": "code",
   "execution_count": 1,
   "id": "8e0a67da",
   "metadata": {},
   "outputs": [],
   "source": [
    "import pathlib"
   ]
  },
  {
   "cell_type": "code",
   "execution_count": 2,
   "id": "dac51caf",
   "metadata": {},
   "outputs": [],
   "source": [
    "def search(dirname):\n",
    "    for p in pathlib.Path(dirname).rglob('*.bmp'):\n",
    "        print(p)"
   ]
  },
  {
   "cell_type": "code",
   "execution_count": 3,
   "id": "1536fe30",
   "metadata": {},
   "outputs": [
    {
     "name": "stdout",
     "output_type": "stream",
     "text": [
      "c:\\test\\test.bmp\n"
     ]
    }
   ],
   "source": [
    "search(\"c:/test\")"
   ]
  },
  {
   "cell_type": "markdown",
   "id": "280ccef7",
   "metadata": {},
   "source": [
    "## os.path"
   ]
  },
  {
   "cell_type": "markdown",
   "id": "20c8f1f3",
   "metadata": {},
   "source": [
    "경로명과 파일명에 대한 유용한 함수를 제공하는 모듈"
   ]
  },
  {
   "cell_type": "code",
   "execution_count": 4,
   "id": "b267e84e",
   "metadata": {},
   "outputs": [],
   "source": [
    "import os"
   ]
  },
  {
   "cell_type": "code",
   "execution_count": 5,
   "id": "3501ded3",
   "metadata": {},
   "outputs": [],
   "source": [
    "def search2(dirname):\n",
    "    filenames = os.listdir(dirname)\n",
    "    for filename in filenames:\n",
    "        filepath = os.path.join(dirname, filename)\n",
    "        if os.path.isdir(filepath):\n",
    "            search(filepath)\n",
    "        elif os.path.isfile(filepath):\n",
    "            name, ext = os.path.splitext(filepath)\n",
    "            if ext == '.bmp': \n",
    "                print(filepath)"
   ]
  },
  {
   "cell_type": "code",
   "execution_count": 6,
   "id": "4563212b",
   "metadata": {},
   "outputs": [
    {
     "name": "stdout",
     "output_type": "stream",
     "text": [
      "c:/test\\test.bmp\n"
     ]
    }
   ],
   "source": [
    "search2(\"c:/test\")"
   ]
  },
  {
   "cell_type": "markdown",
   "id": "1b3f3b77",
   "metadata": {},
   "source": [
    "## os.path와 Pathlib의 차이"
   ]
  },
  {
   "cell_type": "markdown",
   "id": "fc5b68a5",
   "metadata": {},
   "source": [
    "- 경로를 문자열로 다루냐, 객체로 다루냐의 차이\n",
    "- Pathlib이 자연스러운 모듈이며 객체 내부적으로 정의된 연산자를 사용할 수 있어 경로에 있어 더 자연스러운 표현이 가능함"
   ]
  }
 ],
 "metadata": {
  "kernelspec": {
   "display_name": "Python 3 (ipykernel)",
   "language": "python",
   "name": "python3"
  },
  "language_info": {
   "codemirror_mode": {
    "name": "ipython",
    "version": 3
   },
   "file_extension": ".py",
   "mimetype": "text/x-python",
   "name": "python",
   "nbconvert_exporter": "python",
   "pygments_lexer": "ipython3",
   "version": "3.7.13"
  }
 },
 "nbformat": 4,
 "nbformat_minor": 5
}

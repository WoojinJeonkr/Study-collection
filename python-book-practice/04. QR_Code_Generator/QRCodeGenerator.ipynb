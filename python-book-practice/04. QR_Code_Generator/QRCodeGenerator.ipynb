{
  "nbformat": 4,
  "nbformat_minor": 0,
  "metadata": {
    "colab": {
      "name": "QRCodeGenerator.ipynb",
      "provenance": [],
      "collapsed_sections": [],
      "authorship_tag": "ABX9TyMLGzI9I+GWCsh7Fr584j5k",
      "include_colab_link": true
    },
    "kernelspec": {
      "name": "python3",
      "display_name": "Python 3"
    },
    "language_info": {
      "name": "python"
    }
  },
  "cells": [
    {
      "cell_type": "markdown",
      "metadata": {
        "id": "view-in-github",
        "colab_type": "text"
      },
      "source": [
        "<a href=\"https://colab.research.google.com/github/WoojinJeonkr/Python-and-40-works-to-learn-while-making/blob/main/QRCodeGenerator.ipynb\" target=\"_parent\"><img src=\"https://colab.research.google.com/assets/colab-badge.svg\" alt=\"Open In Colab\"/></a>"
      ]
    },
    {
      "cell_type": "code",
      "execution_count": 1,
      "metadata": {
        "colab": {
          "base_uri": "https://localhost:8080/"
        },
        "id": "hRO4lZo2lp1g",
        "outputId": "cc4f36c9-3f20-413a-cc86-7f38b1a2eca0"
      },
      "outputs": [
        {
          "output_type": "stream",
          "name": "stdout",
          "text": [
            "Collecting qrcode\n",
            "  Downloading qrcode-7.3.1.tar.gz (43 kB)\n",
            "\u001b[?25l\r\u001b[K     |███████▌                        | 10 kB 20.3 MB/s eta 0:00:01\r\u001b[K     |███████████████                 | 20 kB 14.0 MB/s eta 0:00:01\r\u001b[K     |██████████████████████▋         | 30 kB 10.3 MB/s eta 0:00:01\r\u001b[K     |██████████████████████████████▏ | 40 kB 9.1 MB/s eta 0:00:01\r\u001b[K     |████████████████████████████████| 43 kB 1.0 MB/s \n",
            "\u001b[?25hBuilding wheels for collected packages: qrcode\n",
            "  Building wheel for qrcode (setup.py) ... \u001b[?25l\u001b[?25hdone\n",
            "  Created wheel for qrcode: filename=qrcode-7.3.1-py3-none-any.whl size=40402 sha256=bdfc370ec9f3d943444e586b8267c88993d35caf43399e6fb7784c0fe7d65fd0\n",
            "  Stored in directory: /root/.cache/pip/wheels/93/d7/39/a4111be2cfb8e679938aa671a37888b6afb1f9e7d748e94492\n",
            "Successfully built qrcode\n",
            "Installing collected packages: qrcode\n",
            "Successfully installed qrcode-7.3.1\n"
          ]
        }
      ],
      "source": [
        "# pip install qrcode # qrcode 라이브러리 생성"
      ]
    },
    {
      "cell_type": "markdown",
      "source": [
        "## 1개의 QR 코드 생성기"
      ],
      "metadata": {
        "id": "rQ3OtCz1l6qV"
      }
    },
    {
      "cell_type": "code",
      "source": [
        "import qrcode # qrcode 라이브러리 "
      ],
      "metadata": {
        "id": "dm2OVhyWlrc1"
      },
      "execution_count": 2,
      "outputs": []
    },
    {
      "cell_type": "code",
      "source": [
        "qr_data = \"www.naver.com\" # www.naver.com이라는 문자열 바인딩\n",
        "qr_img = qrcode.make(qr_data) # 이미지로 생성"
      ],
      "metadata": {
        "id": "Bjjb5UXEmE7B"
      },
      "execution_count": 3,
      "outputs": []
    },
    {
      "cell_type": "code",
      "source": [
        "save_path = qr_data + '.png' # save_path에 저장될 경로 바인딩"
      ],
      "metadata": {
        "id": "MWC31oNWmKiu"
      },
      "execution_count": 4,
      "outputs": []
    },
    {
      "cell_type": "code",
      "source": [
        "qr_img.save(save_path) # 이미지 저장"
      ],
      "metadata": {
        "id": "_GQl3x_AmrzQ"
      },
      "execution_count": 5,
      "outputs": []
    },
    {
      "cell_type": "markdown",
      "source": [
        "## 여러 개의 QR 코드 생성기"
      ],
      "metadata": {
        "id": "kRKGuJE9nUSb"
      }
    },
    {
      "cell_type": "code",
      "source": [
        "import qrcode # qrcode 라이브러리 사용"
      ],
      "metadata": {
        "id": "MtW0WUQwnYEE"
      },
      "execution_count": 6,
      "outputs": []
    },
    {
      "cell_type": "code",
      "source": [
        "file_path = r'/content/qr코드모음.txt' # qrcode 생성할 주소 파일 정보가 들어있는 파일 읽어옴"
      ],
      "metadata": {
        "id": "oTxiw9CAn2RQ"
      },
      "execution_count": 7,
      "outputs": []
    },
    {
      "cell_type": "code",
      "source": [
        "# 파일 정보 한 줄 씩 출력\n",
        "# with open(file_path, 'rt', encoding='utf8') as f:\n",
        "#   read_lines = f.readlines()\n",
        "\n",
        "#   for line in read_lines:\n",
        "#     line = line.strip()\n",
        "#     print(line)\n",
        "\n",
        "# 결과\n",
        "\n",
        "# www.naver.com\n",
        "# www.google.com\n",
        "# www.daum.net\n",
        "# www.nate.com"
      ],
      "metadata": {
        "id": "zRt7afwHn9TN"
      },
      "execution_count": 9,
      "outputs": []
    },
    {
      "cell_type": "code",
      "source": [
        "with open(file_path, 'rt', encoding='utf8') as f: # 파일 정보 한 줄 씩 출력\n",
        "  read_lines = f.readlines()\n",
        "\n",
        "  for line in read_lines:\n",
        "    line = line.strip()\n",
        "    print(line)\n",
        "\n",
        "    # 출력한 정보로 qrcode 생성\n",
        "    qr_data = line\n",
        "    qr_img = qrcode.make(qr_data)\n",
        "\n",
        "    save_path = qr_data + '2.png' # qrcode 생성 경로 지정\n",
        "    qr_img.save(save_path) # qrcode 저장"
      ],
      "metadata": {
        "colab": {
          "base_uri": "https://localhost:8080/"
        },
        "id": "Ct2nWD08oQaz",
        "outputId": "3bd66f38-b9aa-4bcc-be5f-a67167fdaeae"
      },
      "execution_count": 10,
      "outputs": [
        {
          "output_type": "stream",
          "name": "stdout",
          "text": [
            "www.naver.com\n",
            "www.google.com\n",
            "www.daum.net\n",
            "www.nate.com\n"
          ]
        }
      ]
    }
  ]
}
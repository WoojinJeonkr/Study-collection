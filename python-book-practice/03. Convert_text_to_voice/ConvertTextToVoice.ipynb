{
  "nbformat": 4,
  "nbformat_minor": 0,
  "metadata": {
    "colab": {
      "name": "ConvertTextToVoice.ipynb",
      "provenance": [],
      "collapsed_sections": [],
      "authorship_tag": "ABX9TyMyy94TRrsbAMCDzSaB05BX",
      "include_colab_link": true
    },
    "kernelspec": {
      "name": "python3",
      "display_name": "Python 3"
    },
    "language_info": {
      "name": "python"
    }
  },
  "cells": [
    {
      "cell_type": "markdown",
      "metadata": {
        "id": "view-in-github",
        "colab_type": "text"
      },
      "source": [
        "<a href=\"https://colab.research.google.com/github/WoojinJeonkr/Python-and-40-works-to-learn-while-making/blob/main/ConvertTextToVoice.ipynb\" target=\"_parent\"><img src=\"https://colab.research.google.com/assets/colab-badge.svg\" alt=\"Open In Colab\"/></a>"
      ]
    },
    {
      "cell_type": "code",
      "execution_count": 1,
      "metadata": {
        "id": "p5rjYaAap432"
      },
      "outputs": [],
      "source": [
        "# pip install gtts"
      ]
    },
    {
      "cell_type": "code",
      "source": [
        "# pip install playsound"
      ],
      "metadata": {
        "id": "n9-k4nBWp_IK"
      },
      "execution_count": 2,
      "outputs": []
    },
    {
      "cell_type": "markdown",
      "source": [
        "## 텍스트를 음성으로 변환하는 코드"
      ],
      "metadata": {
        "id": "hVRD3a6VqQvd"
      }
    },
    {
      "cell_type": "code",
      "source": [
        "from gtts import gTTS"
      ],
      "metadata": {
        "id": "ysXBD2dnqFmW"
      },
      "execution_count": 3,
      "outputs": []
    },
    {
      "cell_type": "code",
      "source": [
        "text = \"안녕하세요. 좋은 하루입니다.\" # 저장할 문장"
      ],
      "metadata": {
        "id": "v3yU-H-1qWdO"
      },
      "execution_count": 4,
      "outputs": []
    },
    {
      "cell_type": "code",
      "source": [
        "tts = gTTS(text=text, lang='ko') # 한국어로 문자 저장"
      ],
      "metadata": {
        "id": "LU-27jMVqZrZ"
      },
      "execution_count": 5,
      "outputs": []
    },
    {
      "cell_type": "code",
      "source": [
        "tts.save(r'hi.mp3') # hi라는 파일명으로 tts 저장"
      ],
      "metadata": {
        "id": "ffD-NK2iqg6c"
      },
      "execution_count": 6,
      "outputs": []
    },
    {
      "cell_type": "markdown",
      "source": [
        "- hi.mp3를 실행해보면 '안녕하세요. 좋은 하루입니다.'를 재생한다."
      ],
      "metadata": {
        "id": "_Or825ehrCPz"
      }
    },
    {
      "cell_type": "markdown",
      "source": [
        "## 음성 변환으로 생성되는 mp3파일을 바로 실행하는 코드"
      ],
      "metadata": {
        "id": "MzwEKxylrR6N"
      }
    },
    {
      "cell_type": "code",
      "source": [
        "from gtts import gTTS\n",
        "from playsound import playsound"
      ],
      "metadata": {
        "colab": {
          "base_uri": "https://localhost:8080/"
        },
        "id": "9B4BLCf7qmdi",
        "outputId": "d4647e02-8e53-4159-c293-60759daaabd5"
      },
      "execution_count": 7,
      "outputs": [
        {
          "output_type": "stream",
          "name": "stderr",
          "text": [
            "playsound is relying on another python subprocess. Please use `pip install pygobject` if you want playsound to run more efficiently.\n"
          ]
        }
      ]
    },
    {
      "cell_type": "code",
      "source": [
        "text = \"'법인택시 10대 중 7대가 멈췄어요' LPG값 고공행진에 택시기사들과 업계의 고민이 깊어지고 있다. 택시 차량 대부분은 LPG에 의존하고 있어 업계가 받을 타격이 심각하다는 분석이다.22일 한국석유공사 유가정보서비스(오피넷)에 따르면 전국 LPG 판매 가격은 리터당 1133.82원을 기록했다. 서울 지역은 리터당 1195원으로 전국에서 가장 높은 가격을 기록했다.LPG업계 관계자는 '러시아와 우크라이나 전쟁 영향으로 LPG가격이 많이 올랐다'며 '세계적인 회사인 아람코에서 LPG를 증산해 어려운 상황 속에서 그나마 다행이지만, 당분간 높은 가격을 유지할 수 밖에 없다'고 분석했다.특히 법인택시는 10대 중 7대가 멈춘 것으로 파악됐다. 상당수 기사가 운행하지 않는게 더 낫다고 판단한 것이다.\""
      ],
      "metadata": {
        "id": "T6ddJ-9Orb-9"
      },
      "execution_count": 8,
      "outputs": []
    },
    {
      "cell_type": "code",
      "source": [
        "tts = gTTS(text=text, lang='ko') # 한국어로 문자 저장"
      ],
      "metadata": {
        "id": "LDJRgCA4riEJ"
      },
      "execution_count": 9,
      "outputs": []
    },
    {
      "cell_type": "code",
      "source": [
        "tts.save(r'article.mp3') # article이라는 파일명으로 tts 저장"
      ],
      "metadata": {
        "id": "XVU_Gx8qsDYw"
      },
      "execution_count": 10,
      "outputs": []
    },
    {
      "cell_type": "code",
      "source": [
        "playsound(r\"article.mp3\") # article이라는 tts 재생"
      ],
      "metadata": {
        "id": "ghj1-aposUhC"
      },
      "execution_count": 11,
      "outputs": []
    },
    {
      "cell_type": "markdown",
      "source": [
        "## 파일에서 text를 읽어와 음성으로 변환하기"
      ],
      "metadata": {
        "id": "fHV430jOvFDN"
      }
    },
    {
      "cell_type": "code",
      "source": [
        "from gtts import gTTS\n",
        "from playsound import playsound"
      ],
      "metadata": {
        "id": "5f7EMgZvvKxz"
      },
      "execution_count": 12,
      "outputs": []
    },
    {
      "cell_type": "code",
      "source": [
        "file_path = r'/content/Python.txt'"
      ],
      "metadata": {
        "id": "2NPmD7OovbK7"
      },
      "execution_count": 13,
      "outputs": []
    },
    {
      "cell_type": "code",
      "source": [
        "with open(file_path, 'rt', encoding='utf8') as f:\n",
        "  read_file=f.read()"
      ],
      "metadata": {
        "id": "PIwwL4bov-P7"
      },
      "execution_count": 14,
      "outputs": []
    },
    {
      "cell_type": "code",
      "source": [
        "tts = gTTS(text=read_file, lang='ko')"
      ],
      "metadata": {
        "id": "odFVsy_HwGJn"
      },
      "execution_count": 17,
      "outputs": []
    },
    {
      "cell_type": "code",
      "source": [
        "tts.save(r\"Python.mp3\")"
      ],
      "metadata": {
        "id": "tE5M9KrOwXJ-"
      },
      "execution_count": 18,
      "outputs": []
    }
  ]
}
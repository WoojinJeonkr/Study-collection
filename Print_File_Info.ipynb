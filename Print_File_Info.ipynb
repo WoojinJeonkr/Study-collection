{
 "cells": [
  {
   "cell_type": "code",
   "execution_count": 1,
   "id": "89229084",
   "metadata": {},
   "outputs": [],
   "source": [
    "import os\n",
    "import time\n",
    "import datetime"
   ]
  },
  {
   "cell_type": "code",
   "execution_count": 2,
   "id": "d38ded7b",
   "metadata": {},
   "outputs": [],
   "source": [
    "filename = \"a.txt\""
   ]
  },
  {
   "cell_type": "code",
   "execution_count": 3,
   "id": "01149050",
   "metadata": {},
   "outputs": [
    {
     "name": "stdout",
     "output_type": "stream",
     "text": [
      "Mon Jul  4 22:38:36 2022\n"
     ]
    }
   ],
   "source": [
    "print(time.ctime(os.path.getctime(filename))) # 만든 시간 출력"
   ]
  },
  {
   "cell_type": "code",
   "execution_count": 4,
   "id": "9b5d4683",
   "metadata": {
    "scrolled": true
   },
   "outputs": [
    {
     "name": "stdout",
     "output_type": "stream",
     "text": [
      "Mon Jul  4 22:47:42 2022\n"
     ]
    }
   ],
   "source": [
    "print(time.ctime(os.path.getmtime(filename))) # 수정 시간 출력"
   ]
  },
  {
   "cell_type": "code",
   "execution_count": 5,
   "id": "69af89b7",
   "metadata": {},
   "outputs": [
    {
     "name": "stdout",
     "output_type": "stream",
     "text": [
      "Mon Jul  4 22:47:42 2022\n"
     ]
    }
   ],
   "source": [
    "print(time.ctime(os.path.getatime(filename))) # 마지막 접속 시간 출력"
   ]
  },
  {
   "cell_type": "code",
   "execution_count": 6,
   "id": "cb9d632e",
   "metadata": {},
   "outputs": [
    {
     "name": "stdout",
     "output_type": "stream",
     "text": [
      "226\n"
     ]
    }
   ],
   "source": [
    "print(os.path.getsize(filename)) # 파일 크기 출력"
   ]
  },
  {
   "cell_type": "code",
   "execution_count": 7,
   "id": "60d5166a",
   "metadata": {},
   "outputs": [],
   "source": [
    "path = os.getcwd() + \"/a.txt\""
   ]
  },
  {
   "cell_type": "code",
   "execution_count": 8,
   "id": "7e1a1000",
   "metadata": {},
   "outputs": [
    {
     "name": "stdout",
     "output_type": "stream",
     "text": [
      "D:\\local git\\Python-Snippets/a.txt\n"
     ]
    }
   ],
   "source": [
    "print(path)"
   ]
  },
  {
   "cell_type": "code",
   "execution_count": 9,
   "id": "2c2563dc",
   "metadata": {},
   "outputs": [],
   "source": [
    "root, extension = os.path.splitext(path)"
   ]
  },
  {
   "cell_type": "code",
   "execution_count": 10,
   "id": "d0fd5513",
   "metadata": {},
   "outputs": [
    {
     "name": "stdout",
     "output_type": "stream",
     "text": [
      "파일 위치 : D:\\local git\\Python-Snippets/a\n",
      "확장자 : .txt\n"
     ]
    }
   ],
   "source": [
    "print(\"파일 위치 :\", root)\n",
    "print(\"확장자 :\", extension)"
   ]
  },
  {
   "cell_type": "code",
   "execution_count": 11,
   "id": "ff940111",
   "metadata": {},
   "outputs": [],
   "source": [
    "# readlines 함수 이용해서 파일 전체 내용 읽기"
   ]
  },
  {
   "cell_type": "code",
   "execution_count": 12,
   "id": "283d3592",
   "metadata": {},
   "outputs": [],
   "source": [
    "f = open(path, 'r')"
   ]
  },
  {
   "cell_type": "code",
   "execution_count": 13,
   "id": "97006972",
   "metadata": {},
   "outputs": [],
   "source": [
    "lines = f.readlines()"
   ]
  },
  {
   "cell_type": "code",
   "execution_count": 14,
   "id": "537a2f74",
   "metadata": {},
   "outputs": [
    {
     "name": "stdout",
     "output_type": "stream",
     "text": [
      "a is first of Alphabet.\n",
      "\n",
      "a is small a, A is large a.\n",
      "\n",
      "Apple is fruit and it is red... but green apple is green.. well.. \n",
      "\n",
      "Sometimes we see green apple in market.\n",
      "\n",
      "Some people like green apple, but.. many people like red apple.\n"
     ]
    }
   ],
   "source": [
    "for line in lines:\n",
    "    print(line)"
   ]
  }
 ],
 "metadata": {
  "kernelspec": {
   "display_name": "Python 3 (ipykernel)",
   "language": "python",
   "name": "python3"
  },
  "language_info": {
   "codemirror_mode": {
    "name": "ipython",
    "version": 3
   },
   "file_extension": ".py",
   "mimetype": "text/x-python",
   "name": "python",
   "nbconvert_exporter": "python",
   "pygments_lexer": "ipython3",
   "version": "3.7.13"
  }
 },
 "nbformat": 4,
 "nbformat_minor": 5
}

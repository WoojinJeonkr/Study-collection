{
 "cells": [
  {
   "cell_type": "markdown",
   "id": "ebaf1e97",
   "metadata": {},
   "source": [
    "## operator.itemgetter"
   ]
  },
  {
   "cell_type": "markdown",
   "id": "61a40a89",
   "metadata": {},
   "source": [
    "주로 sorted와 같은 함수의 key 매개변수에 적용하여 다양한 기준으로 정렬할 수 있도록 하는 모듈"
   ]
  },
  {
   "cell_type": "code",
   "execution_count": 1,
   "id": "15d87bd7",
   "metadata": {},
   "outputs": [],
   "source": [
    "# 학생 리스트\n",
    "students = [\n",
    "    (\"jane\", 22, 'A'),\n",
    "    (\"dave\", 32, 'B'),\n",
    "    (\"sally\", 17, 'B'),\n",
    "]"
   ]
  },
  {
   "cell_type": "code",
   "execution_count": 2,
   "id": "798c5e81",
   "metadata": {},
   "outputs": [],
   "source": [
    "# 위 학생 리스트를 나이 순으로 정렬하기"
   ]
  },
  {
   "cell_type": "code",
   "execution_count": 3,
   "id": "250a55a3",
   "metadata": {},
   "outputs": [],
   "source": [
    "from operator import itemgetter"
   ]
  },
  {
   "cell_type": "code",
   "execution_count": 4,
   "id": "754f1b64",
   "metadata": {},
   "outputs": [
    {
     "name": "stdout",
     "output_type": "stream",
     "text": [
      "[('sally', 17, 'B'), ('jane', 22, 'A'), ('dave', 32, 'B')]\n"
     ]
    }
   ],
   "source": [
    "result = sorted(students, key=itemgetter(1))\n",
    "print(result)"
   ]
  }
 ],
 "metadata": {
  "kernelspec": {
   "display_name": "Python 3 (ipykernel)",
   "language": "python",
   "name": "python3"
  },
  "language_info": {
   "codemirror_mode": {
    "name": "ipython",
    "version": 3
   },
   "file_extension": ".py",
   "mimetype": "text/x-python",
   "name": "python",
   "nbconvert_exporter": "python",
   "pygments_lexer": "ipython3",
   "version": "3.7.13"
  }
 },
 "nbformat": 4,
 "nbformat_minor": 5
}

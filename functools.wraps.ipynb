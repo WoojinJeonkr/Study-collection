{
 "cells": [
  {
   "cell_type": "markdown",
   "id": "b6304db0",
   "metadata": {},
   "source": [
    "## @functools.wraps(wrapped)"
   ]
  },
  {
   "cell_type": "markdown",
   "id": "68edae78",
   "metadata": {},
   "source": [
    "래퍼 함수를 정의할 때 함수의 이름이나 설명문 같은 속성을 유지하도록 하는 데코레이터"
   ]
  },
  {
   "cell_type": "code",
   "execution_count": 1,
   "id": "f2134cbd",
   "metadata": {},
   "outputs": [],
   "source": [
    "import functools\n",
    "import time"
   ]
  },
  {
   "cell_type": "code",
   "execution_count": 2,
   "id": "174fa7dd",
   "metadata": {},
   "outputs": [],
   "source": [
    "# 함수의 수행시간을 알려주는 함수\n",
    "def elapsed(original_func):\n",
    "    @functools.wraps(original_func)\n",
    "    def wrapper(*args, **kwargs):\n",
    "        start = time.time()\n",
    "        result = original_func(*args, **kwargs)\n",
    "        end = time.time()\n",
    "        print(\"함수 수행시간: %f 초\" % (end - start))\n",
    "        return result\n",
    "    return wrapper"
   ]
  },
  {
   "cell_type": "code",
   "execution_count": 3,
   "id": "d418a929",
   "metadata": {},
   "outputs": [],
   "source": [
    "@elapsed\n",
    "def add(a, b):\n",
    "    \"\"\" 두 수 a, b를 더한값을 리턴하는 함수 \"\"\"\n",
    "    return a + b"
   ]
  },
  {
   "cell_type": "code",
   "execution_count": 4,
   "id": "d99120d6",
   "metadata": {},
   "outputs": [
    {
     "name": "stdout",
     "output_type": "stream",
     "text": [
      "<function add at 0x000001CEE3632318>\n",
      "Help on function add in module __main__:\n",
      "\n",
      "add(a, b)\n",
      "    두 수 a, b를 더한값을 리턴하는 함수\n",
      "\n"
     ]
    }
   ],
   "source": [
    "print(add)  # 함수 이름 출력\n",
    "help(add)  # 함수 독스트링 출력"
   ]
  }
 ],
 "metadata": {
  "kernelspec": {
   "display_name": "Python 3 (ipykernel)",
   "language": "python",
   "name": "python3"
  },
  "language_info": {
   "codemirror_mode": {
    "name": "ipython",
    "version": 3
   },
   "file_extension": ".py",
   "mimetype": "text/x-python",
   "name": "python",
   "nbconvert_exporter": "python",
   "pygments_lexer": "ipython3",
   "version": "3.7.13"
  }
 },
 "nbformat": 4,
 "nbformat_minor": 5
}

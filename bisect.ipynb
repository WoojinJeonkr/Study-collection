{
 "cells": [
  {
   "cell_type": "markdown",
   "id": "e8a49130",
   "metadata": {},
   "source": [
    "## 점수에 따른 학점 구하기 - bisect"
   ]
  },
  {
   "cell_type": "markdown",
   "id": "6f0977ca",
   "metadata": {},
   "source": [
    "- 이진 탐색 알고리즘을 구현한 모듈\n",
    "- bisect.bisect(): 정렬된 리스트에 값을 삽입할 때 정렬을 유지할 수 있는 인덱스 반환"
   ]
  },
  {
   "cell_type": "code",
   "execution_count": 1,
   "id": "6acc1588",
   "metadata": {},
   "outputs": [],
   "source": [
    "score_list = [33, 99, 77, 70, 89, 90, 100]"
   ]
  },
  {
   "cell_type": "markdown",
   "id": "b957b2ee",
   "metadata": {},
   "source": [
    "### 비교 1. 조건문 사용하여 구하기"
   ]
  },
  {
   "cell_type": "code",
   "execution_count": 2,
   "id": "97e89fcd",
   "metadata": {},
   "outputs": [],
   "source": [
    "result = []\n",
    "for score in score_list:\n",
    "    if score > 90:\n",
    "        score = 'A'\n",
    "        result.append(score)\n",
    "    elif score > 80:\n",
    "        score = 'B'\n",
    "        result.append(score)\n",
    "    elif score > 70:\n",
    "        score = 'C'\n",
    "        result.append(score)\n",
    "    elif score > 60:\n",
    "        score = 'D'\n",
    "        result.append(score)\n",
    "    else:\n",
    "        score = 'F'\n",
    "        result.append(score)"
   ]
  },
  {
   "cell_type": "code",
   "execution_count": 3,
   "id": "a0fc951d",
   "metadata": {},
   "outputs": [
    {
     "name": "stdout",
     "output_type": "stream",
     "text": [
      "['F', 'A', 'C', 'D', 'B', 'B', 'A']\n"
     ]
    }
   ],
   "source": [
    "print(result)"
   ]
  },
  {
   "cell_type": "markdown",
   "id": "eda19cd3",
   "metadata": {},
   "source": [
    "### 비교 2. bisect 함수 사용하기"
   ]
  },
  {
   "cell_type": "code",
   "execution_count": 4,
   "id": "d8730d6b",
   "metadata": {},
   "outputs": [],
   "source": [
    "import bisect"
   ]
  },
  {
   "cell_type": "code",
   "execution_count": 5,
   "id": "e15d31c8",
   "metadata": {},
   "outputs": [],
   "source": [
    "result2 = []"
   ]
  },
  {
   "cell_type": "code",
   "execution_count": 6,
   "id": "e164facb",
   "metadata": {},
   "outputs": [],
   "source": [
    "for score in score_list:\n",
    "    pos = bisect.bisect_left([60, 70, 80, 90], score)\n",
    "    grade = 'FDCBA'[pos]\n",
    "    result2.append(grade)"
   ]
  },
  {
   "cell_type": "code",
   "execution_count": 7,
   "id": "52c8a0d0",
   "metadata": {},
   "outputs": [
    {
     "name": "stdout",
     "output_type": "stream",
     "text": [
      "['F', 'A', 'C', 'D', 'B', 'B', 'A']\n"
     ]
    }
   ],
   "source": [
    "print(result2)"
   ]
  },
  {
   "cell_type": "markdown",
   "id": "c05e9e00",
   "metadata": {},
   "source": [
    "### bisect 함수"
   ]
  },
  {
   "cell_type": "markdown",
   "id": "c65e3391",
   "metadata": {},
   "source": [
    "1. bisect.bisect_left(a, x, lo=0, hi=len(a), *, key=None): 정렬된 순서를 유지하도록 a에 x를 삽입할 위치 반환. 매개 변수 lo와 hi는 고려해야 할 리스트의 부분 집합을 지정하는 데 사용될 수 있다.   \n",
    "2. bisect.bisect_right(a, x, lo=0, hi=len(a), *, key=None) = bisect.bisect(a, x, lo=0, hi=len(a), *, key=None): a에 있는 x의 기존 항목 뒤(오른쪽)에 오는 삽입 위치를 반환   \n",
    "3. bisect.insort_left(a, x, lo=0, hi=len(a), *, key=None): x를 정렬된 순서로 삽입   \n",
    "4. bisect.insort_right(a, x, lo=0, hi=len(a), *, key=None) = bisect.insort(a, x, lo=0, hi=len(a), *, key=None): a에 x를 x의 기존 항목 다음에 삽입"
   ]
  }
 ],
 "metadata": {
  "kernelspec": {
   "display_name": "Python 3 (ipykernel)",
   "language": "python",
   "name": "python3"
  },
  "language_info": {
   "codemirror_mode": {
    "name": "ipython",
    "version": 3
   },
   "file_extension": ".py",
   "mimetype": "text/x-python",
   "name": "python",
   "nbconvert_exporter": "python",
   "pygments_lexer": "ipython3",
   "version": "3.7.13"
  }
 },
 "nbformat": 4,
 "nbformat_minor": 5
}

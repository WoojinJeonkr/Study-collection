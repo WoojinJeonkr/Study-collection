{
 "cells": [
  {
   "cell_type": "markdown",
   "id": "4e172525",
   "metadata": {},
   "source": [
    "## secrets"
   ]
  },
  {
   "cell_type": "markdown",
   "id": "79d42881",
   "metadata": {},
   "source": [
    "비밀 관리에 필요한 안전한 난수를 생성하고자 할 때 사용하는 모듈"
   ]
  },
  {
   "cell_type": "markdown",
   "id": "4b3a1377",
   "metadata": {},
   "source": [
    "### 암호, 계정 인증, 보안 토큰 등의 보안 관리용으로 16진수 문자로 구성된 32자리의 난수 문자열 생성하기"
   ]
  },
  {
   "cell_type": "code",
   "execution_count": 1,
   "id": "a08103d9",
   "metadata": {},
   "outputs": [],
   "source": [
    "import secrets"
   ]
  },
  {
   "cell_type": "code",
   "execution_count": 2,
   "id": "b6b2c8a6",
   "metadata": {},
   "outputs": [
    {
     "name": "stdout",
     "output_type": "stream",
     "text": [
      "c5c62e1c08632e9abb3370191307a7f8\n"
     ]
    }
   ],
   "source": [
    "key = secrets.token_hex(16)\n",
    "print(key)"
   ]
  },
  {
   "cell_type": "code",
   "execution_count": 3,
   "id": "3811c5e1",
   "metadata": {},
   "outputs": [
    {
     "name": "stdout",
     "output_type": "stream",
     "text": [
      "1: 0ccfaf9f991ec327b86f6cc8be803f81\n",
      "2: 91704ab87da5dc561096e858567182fb\n",
      "3: 06fa4313de10eaf81bc4ba40fd969b35\n",
      "4: 46c5421dbcef8ca52c143bfce0f178bf\n",
      "5: 2236ae885b19a60269053ba8b504e634\n",
      "6: cb69e79b4af70ed818041cbdbf3b848f\n",
      "7: 8e22c952f83f9948da53b9ba8bd0ac7f\n",
      "8: 58019169256a81b1d4273baad24c1dc8\n",
      "9: 7dbeaa8e054945a2ccf1518d9db10c46\n",
      "10: a0b7b4142972183563cb88dd8a159f76\n"
     ]
    }
   ],
   "source": [
    "for num in range(1, 11):\n",
    "    key = secrets.token_hex(16)\n",
    "    print(str(num) + ': ' + key)"
   ]
  }
 ],
 "metadata": {
  "kernelspec": {
   "display_name": "Python 3 (ipykernel)",
   "language": "python",
   "name": "python3"
  },
  "language_info": {
   "codemirror_mode": {
    "name": "ipython",
    "version": 3
   },
   "file_extension": ".py",
   "mimetype": "text/x-python",
   "name": "python",
   "nbconvert_exporter": "python",
   "pygments_lexer": "ipython3",
   "version": "3.7.13"
  }
 },
 "nbformat": 4,
 "nbformat_minor": 5
}

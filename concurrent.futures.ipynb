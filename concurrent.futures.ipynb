{
 "cells": [
  {
   "cell_type": "markdown",
   "id": "53e9b172",
   "metadata": {},
   "source": [
    "## concurrent.futures"
   ]
  },
  {
   "cell_type": "markdown",
   "id": "b2875e05",
   "metadata": {},
   "source": [
    "스레드와 멀티 프로세스 코드를 더 쉽게 작성할 수 있는 모듈"
   ]
  },
  {
   "cell_type": "code",
   "execution_count": 1,
   "id": "5201d793",
   "metadata": {},
   "outputs": [],
   "source": [
    "# import time\n",
    "\n",
    "\n",
    "# def heavy_work(name):\n",
    "#     result = 0\n",
    "#     for i in range(4000000):\n",
    "#         result += i\n",
    "#     print('%s done' % name)\n",
    "#     return result  # 결과를 반환하도록 변경\n",
    "\n",
    "\n",
    "# if __name__ == '__main__':\n",
    "#     import concurrent.futures\n",
    "\n",
    "#     start = time.time()\n",
    "\n",
    "#     total_result = 0\n",
    "#     pool = concurrent.futures.ProcessPoolExecutor(max_workers=4)\n",
    "\n",
    "#     procs = []\n",
    "#     for i in range(4):\n",
    "#         procs.append(pool.submit(heavy_work, i))\n",
    "\n",
    "#     for p in concurrent.futures.as_completed(procs):\n",
    "#         total_result += p.result()\n",
    "\n",
    "#     end = time.time()\n",
    "\n",
    "#     print(\"수행시간: %f 초\" % (end - start))\n",
    "#     print(\"총결괏값: %s\" % total_result)"
   ]
  }
 ],
 "metadata": {
  "kernelspec": {
   "display_name": "Python 3 (ipykernel)",
   "language": "python",
   "name": "python3"
  },
  "language_info": {
   "codemirror_mode": {
    "name": "ipython",
    "version": 3
   },
   "file_extension": ".py",
   "mimetype": "text/x-python",
   "name": "python",
   "nbconvert_exporter": "python",
   "pygments_lexer": "ipython3",
   "version": "3.7.13"
  }
 },
 "nbformat": 4,
 "nbformat_minor": 5
}

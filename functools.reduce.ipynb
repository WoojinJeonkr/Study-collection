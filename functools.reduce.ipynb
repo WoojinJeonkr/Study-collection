{
 "cells": [
  {
   "cell_type": "markdown",
   "id": "f741375b",
   "metadata": {},
   "source": [
    "## functools.reduce(function, iterable)"
   ]
  },
  {
   "cell_type": "markdown",
   "id": "856701bf",
   "metadata": {},
   "source": [
    "function을 반복 가능한 객체의 요소에 차례대로(왼쪽에서 오른쪽으로) 누적 적용하여 이 객체를 하나의 값으로 줄이는 함수"
   ]
  },
  {
   "cell_type": "code",
   "execution_count": 1,
   "id": "787a66f9",
   "metadata": {},
   "outputs": [],
   "source": [
    "# 기존 함수"
   ]
  },
  {
   "cell_type": "code",
   "execution_count": 2,
   "id": "ccb6731d",
   "metadata": {},
   "outputs": [],
   "source": [
    "def add(data):\n",
    "    result = 0\n",
    "    for i in data:\n",
    "        result += i\n",
    "    return result"
   ]
  },
  {
   "cell_type": "code",
   "execution_count": 3,
   "id": "b1d4e0f7",
   "metadata": {},
   "outputs": [],
   "source": [
    "data = [1, 2, 3, 4, 5]"
   ]
  },
  {
   "cell_type": "code",
   "execution_count": 4,
   "id": "84de75eb",
   "metadata": {},
   "outputs": [
    {
     "name": "stdout",
     "output_type": "stream",
     "text": [
      "15\n"
     ]
    }
   ],
   "source": [
    "result = add(data)\n",
    "print(result)"
   ]
  },
  {
   "cell_type": "code",
   "execution_count": 5,
   "id": "f20bbe79",
   "metadata": {},
   "outputs": [],
   "source": [
    "# 축약"
   ]
  },
  {
   "cell_type": "code",
   "execution_count": 6,
   "id": "e378eb2e",
   "metadata": {},
   "outputs": [],
   "source": [
    "import functools"
   ]
  },
  {
   "cell_type": "code",
   "execution_count": 7,
   "id": "8346bccc",
   "metadata": {},
   "outputs": [],
   "source": [
    "data = [1, 2, 3, 4, 5]"
   ]
  },
  {
   "cell_type": "code",
   "execution_count": 8,
   "id": "3a2ec6e3",
   "metadata": {},
   "outputs": [
    {
     "name": "stdout",
     "output_type": "stream",
     "text": [
      "15\n"
     ]
    }
   ],
   "source": [
    "result = functools.reduce(lambda x, y: x + y, data)\n",
    "print(result)"
   ]
  }
 ],
 "metadata": {
  "kernelspec": {
   "display_name": "Python 3 (ipykernel)",
   "language": "python",
   "name": "python3"
  },
  "language_info": {
   "codemirror_mode": {
    "name": "ipython",
    "version": 3
   },
   "file_extension": ".py",
   "mimetype": "text/x-python",
   "name": "python",
   "nbconvert_exporter": "python",
   "pygments_lexer": "ipython3",
   "version": "3.7.13"
  }
 },
 "nbformat": 4,
 "nbformat_minor": 5
}

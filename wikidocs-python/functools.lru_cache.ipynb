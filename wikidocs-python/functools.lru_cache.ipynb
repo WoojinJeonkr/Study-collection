{
 "cells": [
  {
   "cell_type": "markdown",
   "id": "12cd2600",
   "metadata": {},
   "source": [
    "## @functools.lru_cache(maxsize=128)"
   ]
  },
  {
   "cell_type": "markdown",
   "id": "2c458b36",
   "metadata": {},
   "source": [
    "- 함수의 반환 결과를 캐시하는 데코레이터   \n",
    "- 최초 요청 이후에는 캐시한 결과 반환\n",
    "- maxsize: 캐시할 수 있는 최대 개수, 이를 초과할 때는 호출 빈도가 가장 작은 것부터 캐시에서 사라짐\n",
    "- LRU(Least Recently Used): 최근에 참조되지 않은 데이터가 교체 시점에 먼저 나가는 방식"
   ]
  },
  {
   "cell_type": "code",
   "execution_count": 1,
   "id": "a845c6cb",
   "metadata": {},
   "outputs": [],
   "source": [
    "import urllib.request\n",
    "from functools import lru_cache"
   ]
  },
  {
   "cell_type": "code",
   "execution_count": 2,
   "id": "203cb242",
   "metadata": {},
   "outputs": [],
   "source": [
    "@lru_cache(maxsize=32)\n",
    "def get_wikidocs(page):\n",
    "    print(\"wikidocs page:{}\".format(page))  # 페이지 호출시 출력\n",
    "    resource = 'https://wikidocs.net/{}'.format(page)\n",
    "    try:\n",
    "        with urllib.request.urlopen(resource) as s:\n",
    "            return s.read()\n",
    "    except urllib.error.HTTPError:\n",
    "        return 'Not Found'"
   ]
  },
  {
   "cell_type": "code",
   "execution_count": 3,
   "id": "adffc5d2",
   "metadata": {},
   "outputs": [
    {
     "name": "stdout",
     "output_type": "stream",
     "text": [
      "wikidocs page:6\n",
      "wikidocs page:7\n"
     ]
    }
   ],
   "source": [
    "first_6 = get_wikidocs(6)\n",
    "first_7 = get_wikidocs(7)"
   ]
  },
  {
   "cell_type": "code",
   "execution_count": 4,
   "id": "e392e119",
   "metadata": {},
   "outputs": [],
   "source": [
    "second_6 = get_wikidocs(6)\n",
    "second_7 = get_wikidocs(7)"
   ]
  },
  {
   "cell_type": "code",
   "execution_count": 5,
   "id": "9ea41eaa",
   "metadata": {},
   "outputs": [],
   "source": [
    "# 처음 요청한 6페이지와 두 번째 요청한 6페이지의 내용이 같은지 확인\n",
    "assert first_6 == second_6\n",
    "assert first_7 == second_7"
   ]
  }
 ],
 "metadata": {
  "kernelspec": {
   "display_name": "Python 3 (ipykernel)",
   "language": "python",
   "name": "python3"
  },
  "language_info": {
   "codemirror_mode": {
    "name": "ipython",
    "version": 3
   },
   "file_extension": ".py",
   "mimetype": "text/x-python",
   "name": "python",
   "nbconvert_exporter": "python",
   "pygments_lexer": "ipython3",
   "version": "3.7.13"
  }
 },
 "nbformat": 4,
 "nbformat_minor": 5
}

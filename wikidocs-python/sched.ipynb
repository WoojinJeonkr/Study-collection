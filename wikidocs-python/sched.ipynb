{
 "cells": [
  {
   "cell_type": "markdown",
   "id": "fccbfc22",
   "metadata": {},
   "source": [
    "## sched"
   ]
  },
  {
   "cell_type": "markdown",
   "id": "af5289e6",
   "metadata": {},
   "source": [
    "지정된 시간에 원하는 이벤트를 실행하게 하는 이벤트 스케줄러 모듈"
   ]
  },
  {
   "cell_type": "code",
   "execution_count": 1,
   "id": "3909f8b2",
   "metadata": {},
   "outputs": [],
   "source": [
    "import time\n",
    "import sched"
   ]
  },
  {
   "cell_type": "code",
   "execution_count": 2,
   "id": "4d490fd9",
   "metadata": {},
   "outputs": [],
   "source": [
    "start = time.time()"
   ]
  },
  {
   "cell_type": "code",
   "execution_count": 3,
   "id": "53fc45f6",
   "metadata": {},
   "outputs": [],
   "source": [
    "def print_a(a):\n",
    "    print(time.time() - start)\n",
    "    print(a)\n",
    "\n",
    "\n",
    "def print_b(b):\n",
    "    print(time.time() - start)\n",
    "    print(b)\n",
    "\n",
    "\n",
    "def print_c(c):\n",
    "    print(time.time() - start)\n",
    "    print(c)"
   ]
  },
  {
   "cell_type": "code",
   "execution_count": 4,
   "id": "8c953f40",
   "metadata": {},
   "outputs": [
    {
     "name": "stdout",
     "output_type": "stream",
     "text": [
      "22.286051034927368\n",
      "B\n",
      "24.28514838218689\n",
      "A\n",
      "26.278151750564575\n",
      "C\n"
     ]
    }
   ],
   "source": [
    "s = sched.scheduler()\n",
    "s.enter(5, 1, print_a, ('A',))  # 5초 후에 실행\n",
    "s.enter(3, 1, print_b, ('B',))  # 3초 후에 실행\n",
    "s.enter(7, 1, print_c, ('C',))  # 7초 후에 실행\n",
    "s.run()"
   ]
  }
 ],
 "metadata": {
  "kernelspec": {
   "display_name": "Python 3 (ipykernel)",
   "language": "python",
   "name": "python3"
  },
  "language_info": {
   "codemirror_mode": {
    "name": "ipython",
    "version": 3
   },
   "file_extension": ".py",
   "mimetype": "text/x-python",
   "name": "python",
   "nbconvert_exporter": "python",
   "pygments_lexer": "ipython3",
   "version": "3.7.13"
  }
 },
 "nbformat": 4,
 "nbformat_minor": 5
}

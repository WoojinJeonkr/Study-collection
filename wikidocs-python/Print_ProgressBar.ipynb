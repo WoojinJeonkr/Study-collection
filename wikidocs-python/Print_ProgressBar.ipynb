{
 "cells": [
  {
   "cell_type": "markdown",
   "id": "54b92924",
   "metadata": {},
   "source": [
    "# 진행표시줄(ProgressBar) 출력"
   ]
  },
  {
   "cell_type": "markdown",
   "id": "e0398e34",
   "metadata": {},
   "source": [
    "## 01. 진행표시줄(ProgressBar)이란?"
   ]
  },
  {
   "cell_type": "markdown",
   "id": "6e01e008",
   "metadata": {},
   "source": [
    "- 파일을 내려 받거나 전송하는 등의 작업이 얼마큼 진행되었는지 알려 주는 그래픽 사용자 인터페이스의 구성 요소\n",
    "- 퍼센트 단위의 문자열로 표시"
   ]
  },
  {
   "cell_type": "markdown",
   "id": "68127ea3",
   "metadata": {},
   "source": [
    "## 02. tqdm"
   ]
  },
  {
   "cell_type": "markdown",
   "id": "3dae44d6",
   "metadata": {},
   "source": [
    "#### 코드 출처: [tqdm 4.64.0](https://pypi.org/project/tqdm/)"
   ]
  },
  {
   "cell_type": "code",
   "execution_count": 1,
   "id": "926b374b",
   "metadata": {},
   "outputs": [],
   "source": [
    "# !pip install tqdm"
   ]
  },
  {
   "cell_type": "code",
   "execution_count": 2,
   "id": "65f550ca",
   "metadata": {},
   "outputs": [
    {
     "name": "stderr",
     "output_type": "stream",
     "text": [
      "100%|████████████████████████████████████████████████████████████████████████████████████| 4/4 [00:01<00:00,  3.82it/s]\n"
     ]
    }
   ],
   "source": [
    "# 리스트 안 문자의 개수만큼 막대 개수 표시\n",
    "from tqdm import tqdm\n",
    "from time import sleep\n",
    "\n",
    "text = \"\"\n",
    "for char in tqdm([\"a\", \"b\", \"c\", \"d\"]):\n",
    "    sleep(0.25)\n",
    "    text = text + char"
   ]
  },
  {
   "cell_type": "code",
   "execution_count": 3,
   "id": "8aca5c02",
   "metadata": {},
   "outputs": [
    {
     "name": "stderr",
     "output_type": "stream",
     "text": [
      "100%|████████████████████████████████████████████████████████████████████████████████| 100/100 [00:01<00:00, 64.96it/s]\n"
     ]
    }
   ],
   "source": [
    "# 진행률 100개로 나뉘어 표시 \n",
    "from tqdm import trange\n",
    "\n",
    "# 방법 1\n",
    "# for i in trange(100):\n",
    "#    sleep(0.01)\n",
    "\n",
    "# 방법 2\n",
    "for i in tqdm(range(100)):\n",
    "    sleep(0.01)"
   ]
  },
  {
   "cell_type": "code",
   "execution_count": 4,
   "id": "dfc84899",
   "metadata": {},
   "outputs": [
    {
     "name": "stderr",
     "output_type": "stream",
     "text": [
      "Processing d: 100%|██████████████████████████████████████████████████████████████████████| 4/4 [00:01<00:00,  3.84it/s]\n"
     ]
    }
   ],
   "source": [
    "# 루프 외부에서 인스턴스화하여 tqdm()을 수동으로 제어\n",
    "pbar = tqdm([\"a\", \"b\", \"c\", \"d\"])\n",
    "for char in pbar:\n",
    "    sleep(0.25)\n",
    "    pbar.set_description(\"Processing %s\" % char)"
   ]
  },
  {
   "cell_type": "code",
   "execution_count": 5,
   "id": "3cd9292f",
   "metadata": {},
   "outputs": [
    {
     "name": "stderr",
     "output_type": "stream",
     "text": [
      "100%|████████████████████████████████████████████████████████████████████████████████| 100/100 [00:01<00:00, 92.62it/s]\n"
     ]
    }
   ],
   "source": [
    "# with 문을 사용한 tqdm() 업데이트의 수동 제어\n",
    "with tqdm(total=100) as pbar:\n",
    "    for i in range(10):\n",
    "        sleep(0.1)\n",
    "        pbar.update(10)"
   ]
  },
  {
   "cell_type": "code",
   "execution_count": 6,
   "id": "d41ca03b",
   "metadata": {},
   "outputs": [
    {
     "name": "stderr",
     "output_type": "stream",
     "text": [
      "100%|████████████████████████████████████████████████████████████████████████████████| 100/100 [00:01<00:00, 92.64it/s]\n"
     ]
    }
   ],
   "source": [
    "# 변수에 tqdm() 할당하여 사용하기\n",
    "# 변수에 할당하여 사용할 경우 del이나 close를 작성해주어야 함\n",
    "pbar = tqdm(total=100)\n",
    "for i in range(10):\n",
    "    sleep(0.1)\n",
    "    pbar.update(10)\n",
    "pbar.close()"
   ]
  },
  {
   "cell_type": "markdown",
   "id": "3a209b56",
   "metadata": {},
   "source": [
    "## 03. ProgressBar"
   ]
  },
  {
   "cell_type": "code",
   "execution_count": 7,
   "id": "50aaa193",
   "metadata": {
    "scrolled": true
   },
   "outputs": [],
   "source": [
    "# !pip install progressbar2"
   ]
  },
  {
   "cell_type": "code",
   "execution_count": 8,
   "id": "8ab3c36f",
   "metadata": {},
   "outputs": [],
   "source": [
    "import time\n",
    "import progressbar"
   ]
  },
  {
   "cell_type": "code",
   "execution_count": 9,
   "id": "3b5d7ca4",
   "metadata": {
    "scrolled": true
   },
   "outputs": [
    {
     "name": "stderr",
     "output_type": "stream",
     "text": [
      "100% (100 of 100) |######################| Elapsed Time: 0:00:03 Time:  0:00:03\n"
     ]
    }
   ],
   "source": [
    "# 진행률 100개로 나누어 표시\n",
    "for i in progressbar.progressbar(range(100)):\n",
    "    time.sleep(0.02)"
   ]
  },
  {
   "cell_type": "code",
   "execution_count": 10,
   "id": "c8735dd3",
   "metadata": {},
   "outputs": [],
   "source": [
    "# 출력 흐름 플러시\n",
    "progressbar.streams.flush()"
   ]
  },
  {
   "cell_type": "code",
   "execution_count": 11,
   "id": "7d49989a",
   "metadata": {},
   "outputs": [
    {
     "name": "stderr",
     "output_type": "stream",
     "text": [
      "\r",
      "  0% (0 of 10) |                         | Elapsed Time: 0:00:00 ETA:  --:--:--"
     ]
    },
    {
     "name": "stdout",
     "output_type": "stream",
     "text": [
      "Some text 0\n"
     ]
    },
    {
     "name": "stderr",
     "output_type": "stream",
     "text": [
      "\r",
      "                                                                               \r",
      "\r",
      " 10% (1 of 10) |##                       | Elapsed Time: 0:00:00 ETA:   0:00:00"
     ]
    },
    {
     "name": "stdout",
     "output_type": "stream",
     "text": [
      "Some text 1\n"
     ]
    },
    {
     "name": "stderr",
     "output_type": "stream",
     "text": [
      "\r",
      "                                                                               \r",
      "\r",
      " 20% (2 of 10) |#####                    | Elapsed Time: 0:00:00 ETA:   0:00:00"
     ]
    },
    {
     "name": "stdout",
     "output_type": "stream",
     "text": [
      "Some text 2\n"
     ]
    },
    {
     "name": "stderr",
     "output_type": "stream",
     "text": [
      "\r",
      "                                                                               \r",
      "\r",
      " 30% (3 of 10) |#######                  | Elapsed Time: 0:00:00 ETA:   0:00:00"
     ]
    },
    {
     "name": "stdout",
     "output_type": "stream",
     "text": [
      "Some text 3\n"
     ]
    },
    {
     "name": "stderr",
     "output_type": "stream",
     "text": [
      "\r",
      "                                                                               \r",
      "\r",
      " 40% (4 of 10) |##########               | Elapsed Time: 0:00:00 ETA:   0:00:00"
     ]
    },
    {
     "name": "stdout",
     "output_type": "stream",
     "text": [
      "Some text 4\n"
     ]
    },
    {
     "name": "stderr",
     "output_type": "stream",
     "text": [
      "\r",
      "                                                                               \r",
      "\r",
      " 50% (5 of 10) |############             | Elapsed Time: 0:00:00 ETA:   0:00:00"
     ]
    },
    {
     "name": "stdout",
     "output_type": "stream",
     "text": [
      "Some text 5\n"
     ]
    },
    {
     "name": "stderr",
     "output_type": "stream",
     "text": [
      "\r",
      "                                                                               \r",
      "\r",
      " 60% (6 of 10) |###############          | Elapsed Time: 0:00:00 ETA:   0:00:00"
     ]
    },
    {
     "name": "stdout",
     "output_type": "stream",
     "text": [
      "Some text 6\n"
     ]
    },
    {
     "name": "stderr",
     "output_type": "stream",
     "text": [
      "\r",
      "                                                                               \r",
      "\r",
      " 70% (7 of 10) |#################        | Elapsed Time: 0:00:00 ETA:   0:00:00"
     ]
    },
    {
     "name": "stdout",
     "output_type": "stream",
     "text": [
      "Some text 7\n"
     ]
    },
    {
     "name": "stderr",
     "output_type": "stream",
     "text": [
      "\r",
      "                                                                               \r",
      "\r",
      " 80% (8 of 10) |####################     | Elapsed Time: 0:00:00 ETA:   0:00:00"
     ]
    },
    {
     "name": "stdout",
     "output_type": "stream",
     "text": [
      "Some text 8\n"
     ]
    },
    {
     "name": "stderr",
     "output_type": "stream",
     "text": [
      "\r",
      "                                                                               \r",
      "\r",
      " 90% (9 of 10) |######################   | Elapsed Time: 0:00:00 ETA:   0:00:00"
     ]
    },
    {
     "name": "stdout",
     "output_type": "stream",
     "text": [
      "Some text 9\n"
     ]
    },
    {
     "name": "stderr",
     "output_type": "stream",
     "text": [
      "100% (10 of 10) |########################| Elapsed Time: 0:00:01 Time:  0:00:01\n"
     ]
    }
   ],
   "source": [
    "# 진행 표시줄과 인쇄 출력 결합\n",
    "for i in progressbar.progressbar(range(10), redirect_stdout=True):\n",
    "    print('Some text', i)\n",
    "    time.sleep(0.1)"
   ]
  },
  {
   "cell_type": "code",
   "execution_count": 12,
   "id": "30444488",
   "metadata": {},
   "outputs": [
    {
     "name": "stderr",
     "output_type": "stream",
     "text": [
      "| |                    #                             | 19 Elapsed Time: 0:00:02"
     ]
    }
   ],
   "source": [
    "# UnknownLength ProgressBar\n",
    "bar = progressbar.ProgressBar(max_value=progressbar.UnknownLength)\n",
    "for i in range(20):\n",
    "    time.sleep(0.1)\n",
    "    bar.update(i)"
   ]
  },
  {
   "cell_type": "code",
   "execution_count": 13,
   "id": "84fac074",
   "metadata": {},
   "outputs": [
    {
     "name": "stderr",
     "output_type": "stream",
     "text": [
      " [Elapsed Time: 0:00:02] |##################################| (Time:  0:00:02) \n"
     ]
    }
   ],
   "source": [
    "# 사용자 정의 위젯이 있는 진행 바\n",
    "widgets=[\n",
    "    ' [', progressbar.Timer(), '] ',\n",
    "    progressbar.Bar(),\n",
    "    ' (', progressbar.ETA(), ') ',\n",
    "]\n",
    "for i in progressbar.progressbar(range(20), widgets=widgets):\n",
    "    time.sleep(0.1)"
   ]
  },
  {
   "cell_type": "code",
   "execution_count": 14,
   "id": "2246f9cb",
   "metadata": {},
   "outputs": [
    {
     "name": "stderr",
     "output_type": "stream",
     "text": [
      "进度: |###################################################################| 10/10\n"
     ]
    }
   ],
   "source": [
    "# 넓은 중국어 또는 기타바이트가 있는 막대\n",
    "def custom_len(value):\n",
    "    # These characters take up more space\n",
    "    characters = {\n",
    "        '进': 2,\n",
    "        '度': 2,\n",
    "    }\n",
    "\n",
    "    total = 0\n",
    "    for c in value:\n",
    "        total += characters.get(c, 1)\n",
    "\n",
    "    return total\n",
    "\n",
    "\n",
    "bar = progressbar.ProgressBar(\n",
    "    widgets=[\n",
    "        '进度: ',\n",
    "        progressbar.Bar(),\n",
    "        ' ',\n",
    "        progressbar.Counter(format='%(value)02d/%(max_value)d'),\n",
    "    ],\n",
    "    len_func=custom_len,\n",
    ")\n",
    "for i in bar(range(10)):\n",
    "    time.sleep(0.1)"
   ]
  },
  {
   "cell_type": "code",
   "execution_count": 15,
   "id": "857d40a8",
   "metadata": {
    "scrolled": false
   },
   "outputs": [
    {
     "name": "stderr",
     "output_type": "stream",
     "text": [
      "ERROR:root:Got 0                                                               \n",
      "ERROR:root:Got 1                                                               \n",
      "ERROR:root:Got 2                                                               \n",
      "ERROR:root:Got 3                                                               \n",
      "ERROR:root:Got 4                                                               \n",
      "ERROR:root:Got 5                                                               \n",
      "ERROR:root:Got 6                                                               \n",
      "ERROR:root:Got 7                                                               \n",
      "ERROR:root:Got 8                                                               \n",
      "ERROR:root:Got 9                                                               \n",
      "100% (10 of 10) |########################| Elapsed Time: 0:00:02 Time:  0:00:02\n"
     ]
    }
   ],
   "source": [
    "# 진행바 진행 중에 error log 출력하기\n",
    "import logging\n",
    "\n",
    "progressbar.streams.wrap_stderr()\n",
    "logging.basicConfig()\n",
    "\n",
    "for i in progressbar.progressbar(range(10)):\n",
    "    logging.error('Got %d', i)\n",
    "    time.sleep(0.2)"
   ]
  },
  {
   "cell_type": "markdown",
   "id": "88cc78c3",
   "metadata": {},
   "source": [
    "## 04. stdout"
   ]
  },
  {
   "cell_type": "markdown",
   "id": "2f25b8db",
   "metadata": {},
   "source": [
    "### 코드 출처: [ProgressBar ( 진행바 ) 출력하기](https://wikidocs.net/13977)"
   ]
  },
  {
   "cell_type": "markdown",
   "id": "6ee3e547",
   "metadata": {},
   "source": [
    "- 프로그램이 출력 데이터를 기록하는 스트림\n",
    "- write 명령을 이용하여 데이터 전송 요청"
   ]
  },
  {
   "cell_type": "code",
   "execution_count": 16,
   "id": "79f5c052",
   "metadata": {},
   "outputs": [
    {
     "name": "stdout",
     "output_type": "stream",
     "text": [
      "\r",
      "Percent: [----------->        ] 60%"
     ]
    }
   ],
   "source": [
    "# 방법 1\n",
    "import sys\n",
    "\n",
    "def progressBar(value, endvalue, bar_length=20):\n",
    "    percent = float(value) / endvalue\n",
    "    arrow = '-' * int(round(percent * bar_length)-1) + '>'\n",
    "    spaces = ' ' * (bar_length - len(arrow))\n",
    "\n",
    "    sys.stdout.write(\"\\rPercent: [{0}] {1}%\".format(arrow + spaces, int(round(percent * 100))))\n",
    "    sys.stdout.flush()\n",
    "progressBar(60, 100)"
   ]
  },
  {
   "cell_type": "code",
   "execution_count": 17,
   "id": "4223c14e",
   "metadata": {},
   "outputs": [
    {
     "name": "stdout",
     "output_type": "stream",
     "text": [
      "progressBar: [----------------------------------------None\n",
      "----------\n",
      "########################----------------None\n",
      "----------\n",
      "########################################]\n",
      "None\n"
     ]
    }
   ],
   "source": [
    "# 방법 2\n",
    "def startprogress(title):\n",
    "    \"\"\"Creates a progress bar 40 chars long on the console\n",
    "    and moves cursor back to beginning with BS character\"\"\"\n",
    "    global progress_x\n",
    "    sys.stdout.write(title + \": [\" + \"-\" * 40 + \"]\" + chr(8) * 41)\n",
    "    sys.stdout.flush()\n",
    "    progress_x = 0\n",
    "\n",
    "\n",
    "def progress(x):\n",
    "    \"\"\"Sets progress bar to a certain percentage x.\n",
    "    Progress is given as whole percentage, i.e. 50% done\n",
    "    is given by x = 50\"\"\"\n",
    "    global progress_x\n",
    "    x = int(x * 40 // 100)                      \n",
    "    sys.stdout.write(\"#\" * x + \"-\" * (40 - x) + \"]\" + chr(8) * 41)\n",
    "    sys.stdout.flush()\n",
    "    progress_x = x\n",
    "\n",
    "\n",
    "def endprogress():\n",
    "    \"\"\"End of progress bar;\n",
    "    Write full bar, then move to next line\"\"\"\n",
    "    sys.stdout.write(\"#\" * 40 + \"]\\n\")\n",
    "    sys.stdout.flush()\n",
    "\n",
    "print(startprogress('progressBar'))\n",
    "print('----------')\n",
    "print(progress(60))\n",
    "print('----------')\n",
    "print(endprogress())"
   ]
  },
  {
   "cell_type": "markdown",
   "id": "8ab0aee2",
   "metadata": {},
   "source": [
    "## 05. 진행바 tkinter에 표시하기"
   ]
  },
  {
   "cell_type": "markdown",
   "id": "637fdee3",
   "metadata": {},
   "source": [
    "### 코드 출처: [Tkinter Progressbar](https://www.pythontutorial.net/tkinter/tkinter-progressbar/)"
   ]
  },
  {
   "cell_type": "code",
   "execution_count": 18,
   "id": "e9de1ca0",
   "metadata": {},
   "outputs": [],
   "source": [
    "# start 버튼을 누르면 막대가 움직이고 \n",
    "# stop 버튼을 누르면 초기화되는 진행바 tkinter 구성 \n",
    "import tkinter as tk\n",
    "from tkinter import ttk\n",
    "\n",
    "# tkinter 창 구성\n",
    "root = tk.Tk()\n",
    "root.geometry('300x120')\n",
    "root.title('Progressbar Demo')\n",
    "\n",
    "root.grid()\n",
    "\n",
    "# 진행바 구성\n",
    "pb = ttk.Progressbar(\n",
    "    root,\n",
    "    orient='horizontal',\n",
    "    mode='indeterminate',\n",
    "    length=280\n",
    ")\n",
    "# 진행바 위치 지정\n",
    "pb.grid(column=0, row=0, columnspan=2, padx=10, pady=20)\n",
    "\n",
    "\n",
    "# start 버튼 구성\n",
    "start_button = ttk.Button(\n",
    "    root,\n",
    "    text='Start',\n",
    "    command=pb.start\n",
    ")\n",
    "start_button.grid(column=0, row=1, padx=10, pady=10, sticky=tk.E)\n",
    "\n",
    "# stop 버튼 구성\n",
    "stop_button = ttk.Button(\n",
    "    root,\n",
    "    text='Stop',\n",
    "    command=pb.stop\n",
    ")\n",
    "stop_button.grid(column=1, row=1, padx=10, pady=10, sticky=tk.W)\n",
    "\n",
    "\n",
    "root.mainloop()"
   ]
  },
  {
   "cell_type": "code",
   "execution_count": 19,
   "id": "7358f7e2",
   "metadata": {},
   "outputs": [],
   "source": [
    "# progress 버튼을 누를수록 진행바가 차는 tkinter 진행바 구성\n",
    "# stop을 누르면 초기화\n",
    "from tkinter import ttk\n",
    "import tkinter as tk\n",
    "from tkinter.messagebox import showinfo\n",
    "\n",
    "\n",
    "# tkinter 창 구성\n",
    "root = tk.Tk()\n",
    "root.geometry('300x120')\n",
    "root.title('Progressbar Demo')\n",
    "\n",
    "# 진행에 관련된 기능 함수로 정의\n",
    "def update_progress_label():\n",
    "    return f\"Current Progress: {pb['value']}%\"\n",
    "\n",
    "\n",
    "def progress():\n",
    "    if pb['value'] < 100:\n",
    "        pb['value'] += 20\n",
    "        value_label['text'] = update_progress_label()\n",
    "    else:\n",
    "        showinfo(message='The progress completed!')\n",
    "\n",
    "\n",
    "def stop():\n",
    "    pb.stop()\n",
    "    value_label['text'] = update_progress_label()\n",
    "\n",
    "\n",
    "# 진행바 구성\n",
    "pb = ttk.Progressbar(\n",
    "    root,\n",
    "    orient='horizontal',\n",
    "    mode='determinate',\n",
    "    length=280\n",
    ")\n",
    "# 진행바 위치 지정\n",
    "pb.grid(column=0, row=0, columnspan=2, padx=10, pady=20)\n",
    "\n",
    "# 값 라벨 설정\n",
    "value_label = ttk.Label(root, text=update_progress_label())\n",
    "value_label.grid(column=0, row=1, columnspan=2)\n",
    "\n",
    "# start 버튼 구성\n",
    "start_button = ttk.Button(\n",
    "    root,\n",
    "    text='Progress',\n",
    "    command=progress\n",
    ")\n",
    "start_button.grid(column=0, row=2, padx=10, pady=10, sticky=tk.E)\n",
    "\n",
    "# stop 버튼 구성\n",
    "stop_button = ttk.Button(\n",
    "    root,\n",
    "    text='Stop',\n",
    "    command=stop\n",
    ")\n",
    "stop_button.grid(column=1, row=2, padx=10, pady=10, sticky=tk.W)\n",
    "\n",
    "\n",
    "root.mainloop()"
   ]
  },
  {
   "cell_type": "markdown",
   "id": "fdbfec2a",
   "metadata": {},
   "source": [
    "### 코드 출처: [파이썬 GUI - 프로그레스(로딩바) 만들기](https://happycodingdiary.tistory.com/14)"
   ]
  },
  {
   "cell_type": "code",
   "execution_count": 25,
   "id": "d76f8580",
   "metadata": {},
   "outputs": [
    {
     "name": "stdout",
     "output_type": "stream",
     "text": [
      "1.0\n",
      "2.0\n",
      "3.0\n",
      "4.0\n",
      "5.0\n",
      "6.0\n",
      "7.0\n",
      "8.0\n",
      "9.0\n",
      "10.0\n",
      "11.0\n",
      "12.0\n",
      "13.0\n",
      "14.0\n",
      "15.0\n",
      "16.0\n",
      "17.0\n",
      "18.0\n",
      "19.0\n",
      "20.0\n",
      "21.0\n",
      "22.0\n",
      "23.0\n",
      "24.0\n",
      "25.0\n",
      "26.0\n",
      "27.0\n",
      "28.0\n",
      "29.0\n",
      "30.0\n",
      "31.0\n",
      "32.0\n",
      "33.0\n",
      "34.0\n",
      "35.0\n",
      "36.0\n",
      "37.0\n",
      "38.0\n",
      "39.0\n",
      "40.0\n",
      "41.0\n",
      "42.0\n",
      "43.0\n",
      "44.0\n",
      "45.0\n",
      "46.0\n",
      "47.0\n",
      "48.0\n",
      "49.0\n",
      "50.0\n",
      "51.0\n",
      "52.0\n",
      "53.0\n",
      "54.0\n",
      "55.0\n",
      "56.0\n",
      "57.0\n",
      "58.0\n",
      "59.0\n",
      "60.0\n",
      "61.0\n",
      "62.0\n",
      "63.0\n",
      "64.0\n",
      "65.0\n",
      "66.0\n",
      "67.0\n",
      "68.0\n",
      "69.0\n",
      "70.0\n",
      "71.0\n",
      "72.0\n",
      "73.0\n",
      "74.0\n",
      "75.0\n",
      "76.0\n",
      "77.0\n",
      "78.0\n",
      "79.0\n",
      "80.0\n",
      "81.0\n",
      "82.0\n",
      "83.0\n",
      "84.0\n",
      "85.0\n",
      "86.0\n",
      "87.0\n",
      "88.0\n",
      "89.0\n",
      "90.0\n",
      "91.0\n",
      "92.0\n",
      "93.0\n",
      "94.0\n",
      "95.0\n",
      "96.0\n",
      "97.0\n",
      "98.0\n",
      "99.0\n",
      "100.0\n"
     ]
    }
   ],
   "source": [
    "import time\n",
    "import tkinter.ttk as ttk\n",
    "from tkinter import *\n",
    "\n",
    "root = Tk()\n",
    "root.title('제목')\n",
    "root.geometry('150x50')\n",
    "\n",
    "p_var = DoubleVar()\n",
    "pbar = ttk.Progressbar(root, maximum=100, variable=p_var)\n",
    "pbar.pack()\n",
    "\n",
    "def pstart():\n",
    "    for i in range(1, 101):\n",
    "        time.sleep(0.01)\n",
    "        \n",
    "        p_var.set(i)\n",
    "        pbar.update()\n",
    "        print(p_var.get())\n",
    "        \n",
    "btn2 = Button(root, text='시작', command=pstart)\n",
    "btn2.pack()\n",
    "\n",
    "root.mainloop()"
   ]
  }
 ],
 "metadata": {
  "kernelspec": {
   "display_name": "Python 3 (ipykernel)",
   "language": "python",
   "name": "python3"
  },
  "language_info": {
   "codemirror_mode": {
    "name": "ipython",
    "version": 3
   },
   "file_extension": ".py",
   "mimetype": "text/x-python",
   "name": "python",
   "nbconvert_exporter": "python",
   "pygments_lexer": "ipython3",
   "version": "3.7.13"
  }
 },
 "nbformat": 4,
 "nbformat_minor": 5
}

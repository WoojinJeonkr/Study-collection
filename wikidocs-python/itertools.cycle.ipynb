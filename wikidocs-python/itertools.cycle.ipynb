{
 "cells": [
  {
   "cell_type": "markdown",
   "id": "29375905",
   "metadata": {},
   "source": [
    "# 상담원 순서대로 배정하기"
   ]
  },
  {
   "cell_type": "markdown",
   "id": "831d4b1f",
   "metadata": {},
   "source": [
    "### 1. iterator: next() 함수 호출 시 계속 그다음 값을 반환하는 객체\n",
    "### 2. itertools.cycle: 반복 가능한 객체(iterable)를 순서대로 무한히 반복하는 이터레이터를 생성하는 함수"
   ]
  },
  {
   "cell_type": "code",
   "execution_count": 1,
   "id": "9841750a",
   "metadata": {},
   "outputs": [],
   "source": [
    "import itertools"
   ]
  },
  {
   "cell_type": "code",
   "execution_count": 2,
   "id": "1691698f",
   "metadata": {},
   "outputs": [],
   "source": [
    "emp_pool = itertools.cycle(['김은경', '이명자', '이성진'])"
   ]
  },
  {
   "cell_type": "code",
   "execution_count": 3,
   "id": "5aab2d88",
   "metadata": {},
   "outputs": [
    {
     "data": {
      "text/plain": [
       "'김은경'"
      ]
     },
     "execution_count": 3,
     "metadata": {},
     "output_type": "execute_result"
    }
   ],
   "source": [
    "next(emp_pool)"
   ]
  },
  {
   "cell_type": "code",
   "execution_count": 4,
   "id": "c58f1c71",
   "metadata": {},
   "outputs": [
    {
     "data": {
      "text/plain": [
       "'이명자'"
      ]
     },
     "execution_count": 4,
     "metadata": {},
     "output_type": "execute_result"
    }
   ],
   "source": [
    "next(emp_pool)"
   ]
  },
  {
   "cell_type": "code",
   "execution_count": 5,
   "id": "9dc22575",
   "metadata": {},
   "outputs": [
    {
     "data": {
      "text/plain": [
       "'이성진'"
      ]
     },
     "execution_count": 5,
     "metadata": {},
     "output_type": "execute_result"
    }
   ],
   "source": [
    "next(emp_pool)"
   ]
  },
  {
   "cell_type": "code",
   "execution_count": 6,
   "id": "bdef92d2",
   "metadata": {},
   "outputs": [],
   "source": [
    "def counselor(number):\n",
    "    import itertools\n",
    "    from datetime import datetime, timedelta\n",
    "    today = datetime.now()\n",
    "    \n",
    "    list = ['counselor_A', 'counselor_B', 'counselor_C', 'counselor_D', 'counselor_E']\n",
    "    emp_pool = itertools.cycle(list)\n",
    "    \n",
    "    for num in range(number):\n",
    "        worktime = today + timedelta(days = num)\n",
    "        print(str(worktime.year) + '년 ' + str(worktime. month) + '월 ' + str(worktime.day) + '일 :' + next(emp_pool))"
   ]
  },
  {
   "cell_type": "code",
   "execution_count": 7,
   "id": "18322f97",
   "metadata": {},
   "outputs": [
    {
     "name": "stdout",
     "output_type": "stream",
     "text": [
      "2022년 7월 20일 :counselor_A\n",
      "2022년 7월 21일 :counselor_B\n",
      "2022년 7월 22일 :counselor_C\n",
      "2022년 7월 23일 :counselor_D\n",
      "2022년 7월 24일 :counselor_E\n",
      "2022년 7월 25일 :counselor_A\n",
      "2022년 7월 26일 :counselor_B\n",
      "2022년 7월 27일 :counselor_C\n",
      "2022년 7월 28일 :counselor_D\n",
      "2022년 7월 29일 :counselor_E\n",
      "2022년 7월 30일 :counselor_A\n",
      "2022년 7월 31일 :counselor_B\n",
      "2022년 8월 1일 :counselor_C\n",
      "2022년 8월 2일 :counselor_D\n"
     ]
    }
   ],
   "source": [
    "counselor(14)"
   ]
  }
 ],
 "metadata": {
  "kernelspec": {
   "display_name": "Python 3 (ipykernel)",
   "language": "python",
   "name": "python3"
  },
  "language_info": {
   "codemirror_mode": {
    "name": "ipython",
    "version": 3
   },
   "file_extension": ".py",
   "mimetype": "text/x-python",
   "name": "python",
   "nbconvert_exporter": "python",
   "pygments_lexer": "ipython3",
   "version": "3.7.13"
  }
 },
 "nbformat": 4,
 "nbformat_minor": 5
}

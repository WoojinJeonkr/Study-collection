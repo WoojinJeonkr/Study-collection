{
 "cells": [
  {
   "cell_type": "markdown",
   "id": "93d6fd9b",
   "metadata": {},
   "source": [
    "# 암호화 복호화"
   ]
  },
  {
   "cell_type": "markdown",
   "id": "ce60ce82",
   "metadata": {},
   "source": [
    "### - 암호화 : 특정 문자를 비밀번호와 같이 알아볼 수 없는 형태로 변환\n",
    "### - 복호화 : 암호화되어 있는 문자를 풀어서 원래의 문자로 출력"
   ]
  },
  {
   "cell_type": "code",
   "execution_count": 1,
   "id": "716789c5",
   "metadata": {},
   "outputs": [],
   "source": [
    "src = \"test\""
   ]
  },
  {
   "cell_type": "code",
   "execution_count": 2,
   "id": "ae464acb",
   "metadata": {},
   "outputs": [],
   "source": [
    "enc_file = src.encode('utf-16')"
   ]
  },
  {
   "cell_type": "code",
   "execution_count": 3,
   "id": "e3fc490a",
   "metadata": {},
   "outputs": [],
   "source": [
    "dec_file = enc_file.decode('utf-16')"
   ]
  },
  {
   "cell_type": "code",
   "execution_count": 4,
   "id": "5f28378a",
   "metadata": {},
   "outputs": [
    {
     "name": "stdout",
     "output_type": "stream",
     "text": [
      "Source : test\n",
      "Encrypt : b'\\xff\\xfet\\x00e\\x00s\\x00t\\x00'\n",
      "Decrypt : test\n"
     ]
    }
   ],
   "source": [
    "print(\"Source :\", src)\n",
    "print(\"Encrypt :\", enc_file)\n",
    "print(\"Decrypt :\", dec_file)"
   ]
  }
 ],
 "metadata": {
  "kernelspec": {
   "display_name": "Python 3 (ipykernel)",
   "language": "python",
   "name": "python3"
  },
  "language_info": {
   "codemirror_mode": {
    "name": "ipython",
    "version": 3
   },
   "file_extension": ".py",
   "mimetype": "text/x-python",
   "name": "python",
   "nbconvert_exporter": "python",
   "pygments_lexer": "ipython3",
   "version": "3.7.13"
  }
 },
 "nbformat": 4,
 "nbformat_minor": 5
}

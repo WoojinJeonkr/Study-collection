{
 "cells": [
  {
   "cell_type": "markdown",
   "id": "272b15ba",
   "metadata": {},
   "source": [
    "## multiprocessing"
   ]
  },
  {
   "cell_type": "markdown",
   "id": "5e9c91b1",
   "metadata": {},
   "source": [
    "멀티 프로세스를 활용하여 2가지 또는 그 이상의 일을 동시에 실행할 수 있게 하는 모듈"
   ]
  },
  {
   "cell_type": "markdown",
   "id": "072f7443",
   "metadata": {},
   "source": [
    "### 01. CPU 연산이 많은 heavy_work() 함수를 4번 실행하고 그 소요 시간을 측정하기"
   ]
  },
  {
   "cell_type": "code",
   "execution_count": 1,
   "id": "c0d56859",
   "metadata": {},
   "outputs": [],
   "source": [
    "import time"
   ]
  },
  {
   "cell_type": "code",
   "execution_count": 2,
   "id": "a749864f",
   "metadata": {},
   "outputs": [
    {
     "name": "stdout",
     "output_type": "stream",
     "text": [
      "0 done\n",
      "1 done\n",
      "2 done\n",
      "3 done\n",
      "수행시간: 0.863411 초\n"
     ]
    }
   ],
   "source": [
    "def heavy_work(name):\n",
    "    result = 0\n",
    "    for i in range(4000000):\n",
    "        result += i\n",
    "    print('%s done' % name)\n",
    "    \n",
    "start = time.time()\n",
    "\n",
    "for i in range(4):\n",
    "    heavy_work(i)\n",
    "    \n",
    "end = time.time()\n",
    "\n",
    "print(\"수행시간: %f 초\" % (end - start))"
   ]
  },
  {
   "cell_type": "markdown",
   "id": "b1f00f20",
   "metadata": {},
   "source": [
    "### 02. threading 모듈을 사용하기"
   ]
  },
  {
   "cell_type": "code",
   "execution_count": 3,
   "id": "bb6c44a4",
   "metadata": {},
   "outputs": [
    {
     "name": "stdout",
     "output_type": "stream",
     "text": [
      "0 done\n",
      "1 done\n",
      "2 done\n",
      "3 done\n",
      "수행시간: 0.905443 초\n"
     ]
    }
   ],
   "source": [
    "import time\n",
    "\n",
    "\n",
    "def heavy_work(name):\n",
    "    result = 0\n",
    "    for i in range(4000000):\n",
    "        result += i\n",
    "    print('%s done' % name)\n",
    "\n",
    "\n",
    "if __name__ == '__main__':\n",
    "    import threading\n",
    "\n",
    "    start = time.time()\n",
    "    threads = []\n",
    "    for i in range(4):\n",
    "        t = threading.Thread(target=heavy_work, args=(i, ))\n",
    "        t.start()\n",
    "        threads.append(t)\n",
    "\n",
    "    for t in threads:\n",
    "        t.join()  # 스레드가 종료될 때까지 대기\n",
    "\n",
    "    end = time.time()\n",
    "\n",
    "    print(\"수행시간: %f 초\" % (end - start))"
   ]
  },
  {
   "cell_type": "markdown",
   "id": "4a7ae468",
   "metadata": {},
   "source": [
    "### 03. multiprocessing 모듈을 사용하기"
   ]
  },
  {
   "cell_type": "code",
   "execution_count": 4,
   "id": "94db39ce",
   "metadata": {},
   "outputs": [
    {
     "name": "stdout",
     "output_type": "stream",
     "text": [
      "수행시간: 0.237946 초\n"
     ]
    }
   ],
   "source": [
    "import time\n",
    "\n",
    "\n",
    "def heavy_work(name):\n",
    "    result = 0\n",
    "    for i in range(4000000):\n",
    "        result += i\n",
    "    print('%s done' % name)\n",
    "\n",
    "\n",
    "if __name__ == '__main__':\n",
    "    import multiprocessing\n",
    "\n",
    "    start = time.time()\n",
    "    procs = []\n",
    "    for i in range(4):\n",
    "        p = multiprocessing.Process(target=heavy_work, args=(i, ))\n",
    "        p.start()\n",
    "        procs.append(p)\n",
    "\n",
    "    for p in procs:\n",
    "        p.join()  # 프로세스가 모두 종료될 때까지 대기\n",
    "\n",
    "    end = time.time()\n",
    "\n",
    "    print(\"수행시간: %f 초\" % (end - start))"
   ]
  },
  {
   "cell_type": "markdown",
   "id": "0756a590",
   "metadata": {},
   "source": [
    "### 04. multiprocessing.Pool 사용하기"
   ]
  },
  {
   "cell_type": "code",
   "execution_count": 5,
   "id": "c216ea2a",
   "metadata": {},
   "outputs": [],
   "source": [
    "# import time\n",
    "\n",
    "\n",
    "# def heavy_work(name):\n",
    "#     result = 0\n",
    "#     for i in range(4000000):\n",
    "#         result += i\n",
    "#     print('%s done' % name)\n",
    "\n",
    "\n",
    "# if __name__ == '__main__':\n",
    "#     import multiprocessing\n",
    "\n",
    "#     start = time.time()\n",
    "#     pool = multiprocessing.Pool(processes=4)\n",
    "#     pool.map(heavy_work, range(4))\n",
    "#     pool.close()\n",
    "#     pool.join()\n",
    "\n",
    "#     end = time.time()\n",
    "\n",
    "#     print(\"수행시간: %f 초\" % (end - start))"
   ]
  }
 ],
 "metadata": {
  "kernelspec": {
   "display_name": "Python 3 (ipykernel)",
   "language": "python",
   "name": "python3"
  },
  "language_info": {
   "codemirror_mode": {
    "name": "ipython",
    "version": 3
   },
   "file_extension": ".py",
   "mimetype": "text/x-python",
   "name": "python",
   "nbconvert_exporter": "python",
   "pygments_lexer": "ipython3",
   "version": "3.7.13"
  }
 },
 "nbformat": 4,
 "nbformat_minor": 5
}

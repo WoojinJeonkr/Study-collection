{
 "cells": [
  {
   "cell_type": "code",
   "execution_count": 1,
   "id": "00ca9c93",
   "metadata": {},
   "outputs": [],
   "source": [
    "import sys"
   ]
  },
  {
   "cell_type": "code",
   "execution_count": 2,
   "id": "a43fa819",
   "metadata": {},
   "outputs": [
    {
     "name": "stdout",
     "output_type": "stream",
     "text": [
      "3.7.13 (default, Mar 28 2022, 08:03:21) [MSC v.1916 64 bit (AMD64)]\n"
     ]
    }
   ],
   "source": [
    "# python version 확인\n",
    "print(sys.version)"
   ]
  },
  {
   "cell_type": "markdown",
   "id": "6eccfcc2",
   "metadata": {},
   "source": [
    "## 최대공약수와 최소공배수"
   ]
  },
  {
   "cell_type": "markdown",
   "id": "d5900cea",
   "metadata": {},
   "source": [
    "### 01. 최대공약수"
   ]
  },
  {
   "cell_type": "markdown",
   "id": "09940b76",
   "metadata": {},
   "source": [
    "두 수 이상의 여러 수의 공통된 약수 중 가장 큰 공약수"
   ]
  },
  {
   "cell_type": "code",
   "execution_count": 3,
   "id": "a194c0d2",
   "metadata": {},
   "outputs": [],
   "source": [
    "import math"
   ]
  },
  {
   "cell_type": "code",
   "execution_count": 4,
   "id": "57330033",
   "metadata": {},
   "outputs": [
    {
     "data": {
      "text/plain": [
       "20"
      ]
     },
     "execution_count": 4,
     "metadata": {},
     "output_type": "execute_result"
    }
   ],
   "source": [
    "# python 3.9 미만은 2개의 인수, 이상은 3개의 인수 사용 가능\n",
    "math.gcd(60, 100)"
   ]
  },
  {
   "cell_type": "markdown",
   "id": "544ec3d2",
   "metadata": {},
   "source": [
    "### 02. 최소공배수"
   ]
  },
  {
   "cell_type": "markdown",
   "id": "a78cf22d",
   "metadata": {},
   "source": [
    "두 수의 공통 배수 중 가장 작은 수"
   ]
  },
  {
   "cell_type": "code",
   "execution_count": 5,
   "id": "dd9ac091",
   "metadata": {},
   "outputs": [],
   "source": [
    "import math"
   ]
  },
  {
   "cell_type": "code",
   "execution_count": 6,
   "id": "da771107",
   "metadata": {},
   "outputs": [],
   "source": [
    "# math.lcm은 python 3.9부터 사용 가능하다"
   ]
  },
  {
   "cell_type": "code",
   "execution_count": 7,
   "id": "2ac19cab",
   "metadata": {},
   "outputs": [],
   "source": [
    "# 최소공배수 함수 만들기\n",
    "def lcm(a, b):\n",
    "    return a * b // math.gcd(a, b)"
   ]
  },
  {
   "cell_type": "code",
   "execution_count": 8,
   "id": "8802b89b",
   "metadata": {},
   "outputs": [
    {
     "data": {
      "text/plain": [
       "240"
      ]
     },
     "execution_count": 8,
     "metadata": {},
     "output_type": "execute_result"
    }
   ],
   "source": [
    "lcm(15,48)"
   ]
  }
 ],
 "metadata": {
  "kernelspec": {
   "display_name": "Python 3 (ipykernel)",
   "language": "python",
   "name": "python3"
  },
  "language_info": {
   "codemirror_mode": {
    "name": "ipython",
    "version": 3
   },
   "file_extension": ".py",
   "mimetype": "text/x-python",
   "name": "python",
   "nbconvert_exporter": "python",
   "pygments_lexer": "ipython3",
   "version": "3.7.13"
  }
 },
 "nbformat": 4,
 "nbformat_minor": 5
}

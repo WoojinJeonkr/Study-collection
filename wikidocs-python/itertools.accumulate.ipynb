{
 "cells": [
  {
   "cell_type": "markdown",
   "id": "972df483",
   "metadata": {},
   "source": [
    "## itertools.accumulate"
   ]
  },
  {
   "cell_type": "markdown",
   "id": "0235ec2c",
   "metadata": {},
   "source": [
    "반복 가능한 객체(iterable)의 누적합을 계산하여 이터레이터로 반환하는 함수"
   ]
  },
  {
   "cell_type": "code",
   "execution_count": 1,
   "id": "ca49f724",
   "metadata": {},
   "outputs": [],
   "source": [
    "import itertools"
   ]
  },
  {
   "cell_type": "code",
   "execution_count": 2,
   "id": "0150d007",
   "metadata": {},
   "outputs": [],
   "source": [
    "monthly_income = [1161, 1814, 1270, 2256, 1413, 1842, 2221, 2207, 2450, 2823, 2540, 2134]"
   ]
  },
  {
   "cell_type": "code",
   "execution_count": 3,
   "id": "fc5b14a5",
   "metadata": {},
   "outputs": [
    {
     "name": "stdout",
     "output_type": "stream",
     "text": [
      "[1161, 2975, 4245, 6501, 7914, 9756, 11977, 14184, 16634, 19457, 21997, 24131]\n"
     ]
    }
   ],
   "source": [
    "# 1 ~ 12월까지의 누적 매출 데이터\n",
    "result = list(itertools.accumulate(monthly_income))\n",
    "print(result)"
   ]
  },
  {
   "cell_type": "code",
   "execution_count": 4,
   "id": "347edd00",
   "metadata": {},
   "outputs": [
    {
     "name": "stdout",
     "output_type": "stream",
     "text": [
      "[1161, 1814, 1814, 2256, 2256, 2256, 2256, 2256, 2450, 2823, 2823, 2823]\n",
      "-------------------------------------------------------------------------\n",
      "2823\n"
     ]
    }
   ],
   "source": [
    "# 1 ~ 12월까지의 최대 월수입\n",
    "result2 = list(itertools.accumulate(monthly_income, max))\n",
    "print(result2)\n",
    "print('-------------------------------------------------------------------------')\n",
    "print(max(result2))"
   ]
  }
 ],
 "metadata": {
  "kernelspec": {
   "display_name": "Python 3 (ipykernel)",
   "language": "python",
   "name": "python3"
  },
  "language_info": {
   "codemirror_mode": {
    "name": "ipython",
    "version": 3
   },
   "file_extension": ".py",
   "mimetype": "text/x-python",
   "name": "python",
   "nbconvert_exporter": "python",
   "pygments_lexer": "ipython3",
   "version": "3.7.13"
  }
 },
 "nbformat": 4,
 "nbformat_minor": 5
}

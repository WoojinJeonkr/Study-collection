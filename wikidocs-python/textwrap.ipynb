{
 "cells": [
  {
   "cell_type": "markdown",
   "id": "5ab28721",
   "metadata": {},
   "source": [
    "## 텍스트 다루기 - textwrap"
   ]
  },
  {
   "cell_type": "markdown",
   "id": "01d6e814",
   "metadata": {},
   "source": [
    "### 1. 문자열을 줄여서 표시하기"
   ]
  },
  {
   "cell_type": "code",
   "execution_count": 1,
   "id": "d4165665",
   "metadata": {},
   "outputs": [],
   "source": [
    "# import library\n",
    "import textwrap"
   ]
  },
  {
   "cell_type": "code",
   "execution_count": 2,
   "id": "d703286e",
   "metadata": {},
   "outputs": [],
   "source": [
    "sentence = \"Life is too short, you need python\""
   ]
  },
  {
   "cell_type": "code",
   "execution_count": 3,
   "id": "6fdf3cdc",
   "metadata": {},
   "outputs": [
    {
     "data": {
      "text/plain": [
       "'Life is [...]'"
      ]
     },
     "execution_count": 3,
     "metadata": {},
     "output_type": "execute_result"
    }
   ],
   "source": [
    "# 영어 문장의 길이를 지정해 축약할 수 있다\n",
    "textwrap.shorten(sentence, width=15)"
   ]
  },
  {
   "cell_type": "code",
   "execution_count": 4,
   "id": "380257ae",
   "metadata": {},
   "outputs": [],
   "source": [
    "sentence_kr = \"인생은 짧으니, 파이썬은 필요해\""
   ]
  },
  {
   "cell_type": "code",
   "execution_count": 5,
   "id": "5650b467",
   "metadata": {},
   "outputs": [
    {
     "data": {
      "text/plain": [
       "'인생은 짧으니, [...]'"
      ]
     },
     "execution_count": 5,
     "metadata": {},
     "output_type": "execute_result"
    }
   ],
   "source": [
    "# 한국어 문장도 길이를 지정해 축약할 수 있다\n",
    "textwrap.shorten(sentence_kr, width=16)"
   ]
  },
  {
   "cell_type": "code",
   "execution_count": 6,
   "id": "c9de519b",
   "metadata": {},
   "outputs": [
    {
     "data": {
      "text/plain": [
       "'인생은 짧으니,...'"
      ]
     },
     "execution_count": 6,
     "metadata": {},
     "output_type": "execute_result"
    }
   ],
   "source": [
    "# 축약 부분을 지정할 때 placeholder를 사용한다\n",
    "textwrap.shorten(sentence_kr, width=12, placeholder='...')"
   ]
  },
  {
   "cell_type": "markdown",
   "id": "16cad3cc",
   "metadata": {},
   "source": [
    "### 2. 긴 문장 줄바꿈하기"
   ]
  },
  {
   "cell_type": "code",
   "execution_count": 7,
   "id": "a59fa151",
   "metadata": {},
   "outputs": [],
   "source": [
    "import textwrap"
   ]
  },
  {
   "cell_type": "code",
   "execution_count": 8,
   "id": "116efabb",
   "metadata": {},
   "outputs": [
    {
     "name": "stdout",
     "output_type": "stream",
     "text": [
      "Life is too short, you need python. Life is too short, you need python. Life is too short, you need python. Life is too short, you need python. Life is too short, you need python. Life is too short, you need python. Life is too short, you need python. Life is too short, you need python. Life is too short, you need python. Life is too short, you need python. \n"
     ]
    }
   ],
   "source": [
    "long_text = 'Life is too short, you need python. ' * 10\n",
    "print(long_text)"
   ]
  },
  {
   "cell_type": "markdown",
   "id": "f422476c",
   "metadata": {},
   "source": [
    "#### 01. 방법 1 - textwrap.wrap() -> '\\n'.join() 이용하기"
   ]
  },
  {
   "cell_type": "code",
   "execution_count": 9,
   "id": "b6ab70c9",
   "metadata": {},
   "outputs": [
    {
     "name": "stdout",
     "output_type": "stream",
     "text": [
      "['Life is too short, you need python. Life is too short, you need', 'python. Life is too short, you need python. Life is too short, you', 'need python. Life is too short, you need python. Life is too short,', 'you need python. Life is too short, you need python. Life is too', 'short, you need python. Life is too short, you need python. Life is', 'too short, you need python.']\n"
     ]
    }
   ],
   "source": [
    "result = textwrap.wrap(long_text, width=70)\n",
    "print(result)"
   ]
  },
  {
   "cell_type": "code",
   "execution_count": 10,
   "id": "5dc88162",
   "metadata": {},
   "outputs": [
    {
     "name": "stdout",
     "output_type": "stream",
     "text": [
      "Life is too short, you need python. Life is too short, you need\n",
      "python. Life is too short, you need python. Life is too short, you\n",
      "need python. Life is too short, you need python. Life is too short,\n",
      "you need python. Life is too short, you need python. Life is too\n",
      "short, you need python. Life is too short, you need python. Life is\n",
      "too short, you need python.\n"
     ]
    }
   ],
   "source": [
    "print('\\n'.join(result))"
   ]
  },
  {
   "cell_type": "markdown",
   "id": "bb51e573",
   "metadata": {},
   "source": [
    "#### 02. 방법 2 - textwrap.fill() 이용하기"
   ]
  },
  {
   "cell_type": "code",
   "execution_count": 11,
   "id": "280a26b1",
   "metadata": {},
   "outputs": [
    {
     "name": "stdout",
     "output_type": "stream",
     "text": [
      "Life is too short, you need python. Life is too short, you need\n",
      "python. Life is too short, you need python. Life is too short, you\n",
      "need python. Life is too short, you need python. Life is too short,\n",
      "you need python. Life is too short, you need python. Life is too\n",
      "short, you need python. Life is too short, you need python. Life is\n",
      "too short, you need python.\n"
     ]
    }
   ],
   "source": [
    "result2 = textwrap.fill(long_text, width=70)\n",
    "print(result2)"
   ]
  }
 ],
 "metadata": {
  "kernelspec": {
   "display_name": "Python 3 (ipykernel)",
   "language": "python",
   "name": "python3"
  },
  "language_info": {
   "codemirror_mode": {
    "name": "ipython",
    "version": 3
   },
   "file_extension": ".py",
   "mimetype": "text/x-python",
   "name": "python",
   "nbconvert_exporter": "python",
   "pygments_lexer": "ipython3",
   "version": "3.7.13"
  }
 },
 "nbformat": 4,
 "nbformat_minor": 5
}

{
 "cells": [
  {
   "cell_type": "markdown",
   "id": "ab096c81",
   "metadata": {},
   "source": [
    "## heapq"
   ]
  },
  {
   "cell_type": "markdown",
   "id": "52d0e1b2",
   "metadata": {},
   "source": [
    "순위가 가장 높은 자료(data)를 가장 먼저 꺼내는 우선순위 큐를 구현한 모듈"
   ]
  },
  {
   "cell_type": "code",
   "execution_count": 1,
   "id": "13f3c0cb",
   "metadata": {},
   "outputs": [],
   "source": [
    "# import library\n",
    "import heapq"
   ]
  },
  {
   "cell_type": "code",
   "execution_count": 2,
   "id": "7997690b",
   "metadata": {},
   "outputs": [],
   "source": [
    "# data 정의\n",
    "data = [\n",
    "    (12.23, \"강보람\"),\n",
    "    (12.31, \"김지원\"),\n",
    "    (11.98, \"박시우\"),\n",
    "    (11.99, \"장준혁\"),\n",
    "    (11.67, \"차정웅\"),\n",
    "    (12.02, \"박중수\"),\n",
    "    (11.57, \"차동현\"),\n",
    "    (12.04, \"고미숙\"),\n",
    "    (11.92, \"한시우\"),\n",
    "    (12.22, \"이민석\"),\n",
    "]"
   ]
  },
  {
   "cell_type": "code",
   "execution_count": 3,
   "id": "115d7e67",
   "metadata": {},
   "outputs": [],
   "source": [
    "### 방법 1"
   ]
  },
  {
   "cell_type": "code",
   "execution_count": 4,
   "id": "ab159f0f",
   "metadata": {},
   "outputs": [],
   "source": [
    "# 힙 생성\n",
    "h = []"
   ]
  },
  {
   "cell_type": "code",
   "execution_count": 5,
   "id": "9912c36b",
   "metadata": {},
   "outputs": [],
   "source": [
    "# 힙에 데이터 저장\n",
    "for score in data:\n",
    "    heapq.heappush(h, score)"
   ]
  },
  {
   "cell_type": "code",
   "execution_count": 6,
   "id": "b932a319",
   "metadata": {},
   "outputs": [
    {
     "name": "stdout",
     "output_type": "stream",
     "text": [
      "(11.57, '차동현')\n",
      "(11.67, '차정웅')\n",
      "(11.92, '한시우')\n"
     ]
    }
   ],
   "source": [
    "# 최솟값부터 힙 반환\n",
    "for i in range(3):\n",
    "    print(heapq.heappop(h))"
   ]
  },
  {
   "cell_type": "code",
   "execution_count": 7,
   "id": "6cf13368",
   "metadata": {},
   "outputs": [],
   "source": [
    "### 방법 2"
   ]
  },
  {
   "cell_type": "code",
   "execution_count": 8,
   "id": "4d4b1fc0",
   "metadata": {},
   "outputs": [],
   "source": [
    "# data를 힙 구조에 맞게 변경.\n",
    "heapq.heapify(data)"
   ]
  },
  {
   "cell_type": "code",
   "execution_count": 9,
   "id": "f7502d17",
   "metadata": {},
   "outputs": [
    {
     "name": "stdout",
     "output_type": "stream",
     "text": [
      "(11.57, '차동현')\n",
      "(11.67, '차정웅')\n",
      "(11.92, '한시우')\n"
     ]
    }
   ],
   "source": [
    "# 최솟값부터 힙 반환\n",
    "for i in range(3):\n",
    "    print(heapq.heappop(data))"
   ]
  },
  {
   "cell_type": "code",
   "execution_count": 10,
   "id": "f8005f17",
   "metadata": {},
   "outputs": [],
   "source": [
    "### 방법 3"
   ]
  },
  {
   "cell_type": "code",
   "execution_count": 11,
   "id": "8478c33d",
   "metadata": {},
   "outputs": [
    {
     "name": "stdout",
     "output_type": "stream",
     "text": [
      "[(12.31, '김지원'), (12.23, '강보람'), (12.22, '이민석')]\n"
     ]
    }
   ],
   "source": [
    "# 꼴찌부터 순위 출력\n",
    "print(heapq.nlargest(3, data))"
   ]
  }
 ],
 "metadata": {
  "kernelspec": {
   "display_name": "Python 3 (ipykernel)",
   "language": "python",
   "name": "python3"
  },
  "language_info": {
   "codemirror_mode": {
    "name": "ipython",
    "version": 3
   },
   "file_extension": ".py",
   "mimetype": "text/x-python",
   "name": "python",
   "nbconvert_exporter": "python",
   "pygments_lexer": "ipython3",
   "version": "3.7.13"
  }
 },
 "nbformat": 4,
 "nbformat_minor": 5
}

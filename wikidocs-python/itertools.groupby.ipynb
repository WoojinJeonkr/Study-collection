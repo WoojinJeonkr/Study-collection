{
 "cells": [
  {
   "cell_type": "markdown",
   "id": "cb63343f",
   "metadata": {},
   "source": [
    "## itertools.groupby"
   ]
  },
  {
   "cell_type": "markdown",
   "id": "946348c7",
   "metadata": {},
   "source": [
    "반복 가능한 객체를 키값으로 분류하고 그 결과를 반환하는 함수"
   ]
  },
  {
   "cell_type": "code",
   "execution_count": 1,
   "id": "22ad7cb5",
   "metadata": {},
   "outputs": [],
   "source": [
    "# import library\n",
    "import itertools\n",
    "import operator\n",
    "import pprint"
   ]
  },
  {
   "cell_type": "code",
   "execution_count": 2,
   "id": "a9283994",
   "metadata": {},
   "outputs": [],
   "source": [
    "# data 정의\n",
    "data = [\n",
    "    {'name': '이민서', 'blood': 'O'},\n",
    "    {'name': '이영순', 'blood': 'B'},\n",
    "    {'name': '이상호', 'blood': 'AB'},\n",
    "    {'name': '김지민', 'blood': 'B'},\n",
    "    {'name': '최상현', 'blood': 'AB'},\n",
    "    {'name': '김지아', 'blood': 'A'},\n",
    "    {'name': '손우진', 'blood': 'A'},\n",
    "    {'name': '박은주', 'blood': 'A'}\n",
    "]"
   ]
  },
  {
   "cell_type": "code",
   "execution_count": 3,
   "id": "408a048a",
   "metadata": {},
   "outputs": [],
   "source": [
    "# groupby 전 분류 기준으로 정렬\n",
    "data = sorted(data, key=operator.itemgetter('blood'))\n",
    "grouped_data = itertools.groupby(data, key=operator.itemgetter('blood'))"
   ]
  },
  {
   "cell_type": "code",
   "execution_count": 4,
   "id": "aee3f21e",
   "metadata": {},
   "outputs": [
    {
     "name": "stdout",
     "output_type": "stream",
     "text": [
      "[{'name': '김지아', 'blood': 'A'}, {'name': '손우진', 'blood': 'A'}, {'name': '박은주', 'blood': 'A'}]\n",
      "[{'name': '이영순', 'blood': 'B'}, {'name': '김지민', 'blood': 'B'}]\n",
      "[{'name': '이상호', 'blood': 'AB'}, {'name': '최상현', 'blood': 'AB'}]\n",
      "[{'name': '이민서', 'blood': 'O'}]\n"
     ]
    }
   ],
   "source": [
    "result = {}\n",
    "for key, group_data in grouped_data:\n",
    "    result[key] = list(group_data)  # group_data는 이터레이터이므로 리스트로 변경\n",
    "\n",
    "print(result['A'])\n",
    "print(result['B'])\n",
    "print(result['AB'])\n",
    "print(result['O'])"
   ]
  },
  {
   "cell_type": "code",
   "execution_count": 5,
   "id": "9ede8767",
   "metadata": {},
   "outputs": [
    {
     "name": "stdout",
     "output_type": "stream",
     "text": [
      "{'A': [{'blood': 'A', 'name': '김지아'},\n",
      "       {'blood': 'A', 'name': '손우진'},\n",
      "       {'blood': 'A', 'name': '박은주'}],\n",
      " 'AB': [{'blood': 'AB', 'name': '이상호'}, {'blood': 'AB', 'name': '최상현'}],\n",
      " 'B': [{'blood': 'B', 'name': '이영순'}, {'blood': 'B', 'name': '김지민'}],\n",
      " 'O': [{'blood': 'O', 'name': '이민서'}]}\n"
     ]
    }
   ],
   "source": [
    "pprint.pprint(result)"
   ]
  }
 ],
 "metadata": {
  "kernelspec": {
   "display_name": "Python 3 (ipykernel)",
   "language": "python",
   "name": "python3"
  },
  "language_info": {
   "codemirror_mode": {
    "name": "ipython",
    "version": 3
   },
   "file_extension": ".py",
   "mimetype": "text/x-python",
   "name": "python",
   "nbconvert_exporter": "python",
   "pygments_lexer": "ipython3",
   "version": "3.7.13"
  }
 },
 "nbformat": 4,
 "nbformat_minor": 5
}

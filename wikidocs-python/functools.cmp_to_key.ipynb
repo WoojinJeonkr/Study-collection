{
 "cells": [
  {
   "cell_type": "markdown",
   "id": "2775e8e1",
   "metadata": {},
   "source": [
    "## functools.cmp_to_key(func)"
   ]
  },
  {
   "cell_type": "markdown",
   "id": "e007dc7d",
   "metadata": {},
   "source": [
    "- sorted()와 같은 정렬 함수의 key 매개변수에 함수(func)를 전달할 때 사용하는 함수\n",
    "- func() 함수는 두 개의 인수를 입력하여 첫 번째 인수를 기준으로 그 둘을 비교하고 작으면 음수, 같으면 0, 크면 양수를 반환하는 비교 함수"
   ]
  },
  {
   "cell_type": "markdown",
   "id": "5a6593b6",
   "metadata": {},
   "source": [
    "## 순서대로 좌표 정렬하기"
   ]
  },
  {
   "cell_type": "code",
   "execution_count": 1,
   "id": "e0278f73",
   "metadata": {},
   "outputs": [],
   "source": [
    "import functools"
   ]
  },
  {
   "cell_type": "code",
   "execution_count": 2,
   "id": "2642f360",
   "metadata": {},
   "outputs": [],
   "source": [
    "def xy_compare(n1, n2):\n",
    "    if n1[1] > n2[1]:         # y 좌표가 크면\n",
    "        return 1\n",
    "    elif n1[1] == n2[1]:      # y 좌표가 같으면\n",
    "        if n1[0] > n2[0]:     # x 좌표가 크면\n",
    "            return 1\n",
    "        elif n1[0] == n2[0]:  # x 좌표가 같으면\n",
    "            return 0\n",
    "        else:                 # x 좌표가 작으면\n",
    "            return -1\n",
    "    else:                     # y 좌표가 작으면\n",
    "        return -1"
   ]
  },
  {
   "cell_type": "code",
   "execution_count": 3,
   "id": "8100e131",
   "metadata": {},
   "outputs": [],
   "source": [
    "# 정렬 대상\n",
    "src = [(0, 4), (1, 2), (1, -1), (2, 2), (3, 3)]"
   ]
  },
  {
   "cell_type": "code",
   "execution_count": 4,
   "id": "480e941a",
   "metadata": {},
   "outputs": [],
   "source": [
    "result = sorted(src, key=functools.cmp_to_key(xy_compare))"
   ]
  },
  {
   "cell_type": "code",
   "execution_count": 5,
   "id": "c2afc2bf",
   "metadata": {},
   "outputs": [
    {
     "name": "stdout",
     "output_type": "stream",
     "text": [
      "[(1, -1), (1, 2), (2, 2), (3, 3), (0, 4)]\n"
     ]
    }
   ],
   "source": [
    "print(result)"
   ]
  }
 ],
 "metadata": {
  "kernelspec": {
   "display_name": "Python 3 (ipykernel)",
   "language": "python",
   "name": "python3"
  },
  "language_info": {
   "codemirror_mode": {
    "name": "ipython",
    "version": 3
   },
   "file_extension": ".py",
   "mimetype": "text/x-python",
   "name": "python",
   "nbconvert_exporter": "python",
   "pygments_lexer": "ipython3",
   "version": "3.7.13"
  }
 },
 "nbformat": 4,
 "nbformat_minor": 5
}

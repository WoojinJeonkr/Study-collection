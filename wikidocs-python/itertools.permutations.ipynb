{
 "cells": [
  {
   "cell_type": "markdown",
   "id": "7bdd9677",
   "metadata": {},
   "source": [
    "## itertools.permutations(iterable, r=None)"
   ]
  },
  {
   "cell_type": "markdown",
   "id": "d32293b0",
   "metadata": {},
   "source": [
    "반복 가능 객체 중에서 r개를 선택한 순열을 반환하는 함수"
   ]
  },
  {
   "cell_type": "markdown",
   "id": "ae93aba9",
   "metadata": {},
   "source": [
    "### 1, 2, 3 숫자가 적힌 3장의 카드에서 두 장의 카드를 꺼내 만들 수 있는 2자리 숫자를 모두 구하기"
   ]
  },
  {
   "cell_type": "code",
   "execution_count": 1,
   "id": "5096304f",
   "metadata": {},
   "outputs": [],
   "source": [
    "import itertools"
   ]
  },
  {
   "cell_type": "code",
   "execution_count": 2,
   "id": "c1378e21",
   "metadata": {},
   "outputs": [
    {
     "name": "stdout",
     "output_type": "stream",
     "text": [
      "[('1', '2'), ('1', '3'), ('2', '1'), ('2', '3'), ('3', '1'), ('3', '2')]\n"
     ]
    }
   ],
   "source": [
    "cardlist = list(itertools.permutations(['1', '2', '3'], 2))\n",
    "print(cardlist)"
   ]
  },
  {
   "cell_type": "code",
   "execution_count": 3,
   "id": "5d3a1ac4",
   "metadata": {},
   "outputs": [
    {
     "name": "stdout",
     "output_type": "stream",
     "text": [
      "모든 경우의 수: 6\n"
     ]
    }
   ],
   "source": [
    "print('모든 경우의 수: {}'.format(len(cardlist)))"
   ]
  }
 ],
 "metadata": {
  "kernelspec": {
   "display_name": "Python 3 (ipykernel)",
   "language": "python",
   "name": "python3"
  },
  "language_info": {
   "codemirror_mode": {
    "name": "ipython",
    "version": 3
   },
   "file_extension": ".py",
   "mimetype": "text/x-python",
   "name": "python",
   "nbconvert_exporter": "python",
   "pygments_lexer": "ipython3",
   "version": "3.7.13"
  }
 },
 "nbformat": 4,
 "nbformat_minor": 5
}

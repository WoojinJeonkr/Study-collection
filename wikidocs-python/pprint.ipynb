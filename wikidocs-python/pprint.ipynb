{
 "cells": [
  {
   "cell_type": "markdown",
   "id": "6ae13995",
   "metadata": {},
   "source": [
    "## 데이터를 보기 좋게 출력하기 - pprint"
   ]
  },
  {
   "cell_type": "markdown",
   "id": "bb468d68",
   "metadata": {},
   "source": [
    "데이터를 보기 좋게 출력(pretty print)할 때 사용하는 모듈"
   ]
  },
  {
   "cell_type": "code",
   "execution_count": 1,
   "id": "74cf86e7",
   "metadata": {},
   "outputs": [
    {
     "name": "stdout",
     "output_type": "stream",
     "text": [
      "{'userId': 1, 'id': 1, 'title': 'sunt aut facere repellat provident occaecati excepturi optio reprehenderit', 'body': 'quia et suscipit\\nsuscipit recusandae consequuntur expedita et cum\\nreprehenderit molestiae ut ut quas totam\\nnostrum rerum est autem sunt rem eveniet architecto'}\n"
     ]
    }
   ],
   "source": [
    "result = {'userId': 1, 'id': 1, 'title': 'sunt aut facere repellat provident occaecati excepturi optio reprehenderit', 'body': 'quia et suscipit\\nsuscipit recusandae consequuntur expedita et cum\\nreprehenderit molestiae ut ut quas totam\\nnostrum rerum est autem sunt rem eveniet architecto'}\n",
    "print(result)"
   ]
  },
  {
   "cell_type": "code",
   "execution_count": 2,
   "id": "4105686c",
   "metadata": {},
   "outputs": [],
   "source": [
    "import pprint"
   ]
  },
  {
   "cell_type": "code",
   "execution_count": 3,
   "id": "8556d2d6",
   "metadata": {},
   "outputs": [
    {
     "name": "stdout",
     "output_type": "stream",
     "text": [
      "{'body': 'quia et suscipit\\n'\n",
      "         'suscipit recusandae consequuntur expedita et cum\\n'\n",
      "         'reprehenderit molestiae ut ut quas totam\\n'\n",
      "         'nostrum rerum est autem sunt rem eveniet architecto',\n",
      " 'id': 1,\n",
      " 'title': 'sunt aut facere repellat provident occaecati excepturi optio '\n",
      "          'reprehenderit',\n",
      " 'userId': 1}\n"
     ]
    }
   ],
   "source": [
    "pprint.pprint(result)"
   ]
  }
 ],
 "metadata": {
  "kernelspec": {
   "display_name": "Python 3 (ipykernel)",
   "language": "python",
   "name": "python3"
  },
  "language_info": {
   "codemirror_mode": {
    "name": "ipython",
    "version": 3
   },
   "file_extension": ".py",
   "mimetype": "text/x-python",
   "name": "python",
   "nbconvert_exporter": "python",
   "pygments_lexer": "ipython3",
   "version": "3.7.13"
  }
 },
 "nbformat": 4,
 "nbformat_minor": 5
}

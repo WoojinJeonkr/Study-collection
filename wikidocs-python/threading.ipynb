{
 "cells": [
  {
   "cell_type": "markdown",
   "id": "6a361d90",
   "metadata": {},
   "source": [
    "## threading"
   ]
  },
  {
   "cell_type": "markdown",
   "id": "bd4e5729",
   "metadata": {},
   "source": [
    "스레드를 이용하여 한 프로세스에서 2가지 이상의 일을 동시에 실행할 수 있게 하는 모듈"
   ]
  },
  {
   "cell_type": "markdown",
   "id": "946909f1",
   "metadata": {},
   "source": [
    "### 01. threading 모듈을 사용하지 않고 10개의 페이지를 요청하기"
   ]
  },
  {
   "cell_type": "code",
   "execution_count": 1,
   "id": "78e60228",
   "metadata": {},
   "outputs": [],
   "source": [
    "# import\n",
    "import urllib.request\n",
    "import time"
   ]
  },
  {
   "cell_type": "code",
   "execution_count": 2,
   "id": "c2688814",
   "metadata": {},
   "outputs": [],
   "source": [
    "# 페이지 호출 함수\n",
    "def get_wikidocs(page):\n",
    "    print(\"wikidocs page:{}\".format(page))  # 페이지 호출시 출력\n",
    "    resource = 'https://wikidocs.net/{}'.format(page)\n",
    "    try:\n",
    "        with urllib.request.urlopen(resource) as s:\n",
    "            with open('wikidocs_%s.html' % page, 'wb') as f:\n",
    "                f.write(s.read())\n",
    "    except urllib.error.HTTPError:\n",
    "        return 'Not Found'"
   ]
  },
  {
   "cell_type": "code",
   "execution_count": 3,
   "id": "33034bc1",
   "metadata": {},
   "outputs": [],
   "source": [
    "# 시작 시간\n",
    "start = time.time()"
   ]
  },
  {
   "cell_type": "code",
   "execution_count": 4,
   "id": "a055fbd5",
   "metadata": {},
   "outputs": [],
   "source": [
    "# 요청할 페이지 번호 정의\n",
    "pages = [12, 13, 14, 15, 17, 18, 20, 21, 22, 24]"
   ]
  },
  {
   "cell_type": "code",
   "execution_count": 5,
   "id": "06eddaa2",
   "metadata": {},
   "outputs": [
    {
     "name": "stdout",
     "output_type": "stream",
     "text": [
      "wikidocs page:12\n",
      "wikidocs page:13\n",
      "wikidocs page:14\n",
      "wikidocs page:15\n",
      "wikidocs page:17\n",
      "wikidocs page:18\n",
      "wikidocs page:20\n",
      "wikidocs page:21\n",
      "wikidocs page:22\n",
      "wikidocs page:24\n"
     ]
    }
   ],
   "source": [
    "for page in pages:\n",
    "    get_wikidocs(page)"
   ]
  },
  {
   "cell_type": "code",
   "execution_count": 6,
   "id": "6e8b4e5a",
   "metadata": {},
   "outputs": [],
   "source": [
    "# 종료 시간\n",
    "end = time.time()"
   ]
  },
  {
   "cell_type": "code",
   "execution_count": 7,
   "id": "7dd40b6f",
   "metadata": {},
   "outputs": [
    {
     "name": "stdout",
     "output_type": "stream",
     "text": [
      "수행시간: 2.941456 초\n"
     ]
    }
   ],
   "source": [
    "# 수행 시간 출력\n",
    "print(\"수행시간: %f 초\" % (end - start))"
   ]
  },
  {
   "cell_type": "markdown",
   "id": "79ca517b",
   "metadata": {},
   "source": [
    "### 02. threading 모듈을 사용하고 10개의 페이지를 요청하기"
   ]
  },
  {
   "cell_type": "code",
   "execution_count": 8,
   "id": "40bfa61a",
   "metadata": {},
   "outputs": [],
   "source": [
    "# import\n",
    "import urllib.request\n",
    "import time\n",
    "import threading"
   ]
  },
  {
   "cell_type": "code",
   "execution_count": 9,
   "id": "d605354b",
   "metadata": {},
   "outputs": [],
   "source": [
    "# 호출함수 정의\n",
    "def get_wikidocs(page):\n",
    "    print(\"wikidocs page:{}\".format(page))  # 페이지 호출시 출력\n",
    "    resource = 'https://wikidocs.net/{}'.format(page)\n",
    "    try:\n",
    "        with urllib.request.urlopen(resource) as s:\n",
    "            with open('wikidocs_%s.html' % page, 'wb') as f:\n",
    "                f.write(s.read())\n",
    "    except urllib.error.HTTPError:\n",
    "        return 'Not Found'"
   ]
  },
  {
   "cell_type": "code",
   "execution_count": 10,
   "id": "c9a0cd24",
   "metadata": {},
   "outputs": [],
   "source": [
    "# 시작 시간\n",
    "start = time.time()"
   ]
  },
  {
   "cell_type": "code",
   "execution_count": 11,
   "id": "dd8339e2",
   "metadata": {},
   "outputs": [],
   "source": [
    "# 요청할 페이지 정의\n",
    "pages = [12, 13, 14, 15, 17, 18, 20, 21, 22, 24]"
   ]
  },
  {
   "cell_type": "code",
   "execution_count": 12,
   "id": "0659fc1d",
   "metadata": {},
   "outputs": [],
   "source": [
    "threads = []"
   ]
  },
  {
   "cell_type": "code",
   "execution_count": 13,
   "id": "9114b851",
   "metadata": {},
   "outputs": [
    {
     "name": "stdout",
     "output_type": "stream",
     "text": [
      "wikidocs page:12\n",
      "wikidocs page:13\n",
      "wikidocs page:14\n",
      "wikidocs page:15\n",
      "wikidocs page:17\n",
      "wikidocs page:18\n",
      "wikidocs page:20\n",
      "wikidocs page:21\n",
      "wikidocs page:22\n",
      "wikidocs page:24\n"
     ]
    }
   ],
   "source": [
    "for page in pages:\n",
    "    t = threading.Thread(target=get_wikidocs, args=(page, ))\n",
    "    t.start()\n",
    "    threads.append(t)"
   ]
  },
  {
   "cell_type": "code",
   "execution_count": 14,
   "id": "c9967e54",
   "metadata": {},
   "outputs": [],
   "source": [
    "for t in threads:\n",
    "    t.join()  # 스레드가 종료될 때까지 대기"
   ]
  },
  {
   "cell_type": "code",
   "execution_count": 15,
   "id": "73ba7439",
   "metadata": {},
   "outputs": [],
   "source": [
    "# 종료 시간\n",
    "end = time.time()"
   ]
  },
  {
   "cell_type": "code",
   "execution_count": 16,
   "id": "03694fdf",
   "metadata": {},
   "outputs": [
    {
     "name": "stdout",
     "output_type": "stream",
     "text": [
      "수행시간: 1.669445 초\n"
     ]
    }
   ],
   "source": [
    "# 수행 시간 출력\n",
    "print(\"수행시간: %f 초\" % (end - start))"
   ]
  }
 ],
 "metadata": {
  "kernelspec": {
   "display_name": "Python 3 (ipykernel)",
   "language": "python",
   "name": "python3"
  },
  "language_info": {
   "codemirror_mode": {
    "name": "ipython",
    "version": 3
   },
   "file_extension": ".py",
   "mimetype": "text/x-python",
   "name": "python",
   "nbconvert_exporter": "python",
   "pygments_lexer": "ipython3",
   "version": "3.7.13"
  }
 },
 "nbformat": 4,
 "nbformat_minor": 5
}

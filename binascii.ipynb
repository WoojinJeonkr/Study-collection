{
 "cells": [
  {
   "cell_type": "markdown",
   "id": "918f0e92",
   "metadata": {},
   "source": [
    "## binascii"
   ]
  },
  {
   "cell_type": "markdown",
   "id": "575d8ad9",
   "metadata": {},
   "source": [
    "문자열을 16진수로, 변환한 16진수를 다시 문자열로 변환하는 모듈"
   ]
  },
  {
   "cell_type": "markdown",
   "id": "1245202c",
   "metadata": {},
   "source": [
    "### 01. 16진수를 문자열로 변환"
   ]
  },
  {
   "cell_type": "code",
   "execution_count": 1,
   "id": "7b9d8ab2",
   "metadata": {},
   "outputs": [],
   "source": [
    "import binascii"
   ]
  },
  {
   "cell_type": "code",
   "execution_count": 2,
   "id": "89410d4d",
   "metadata": {},
   "outputs": [
    {
     "data": {
      "text/plain": [
       "b'Python Library'"
      ]
     },
     "execution_count": 2,
     "metadata": {},
     "output_type": "execute_result"
    }
   ],
   "source": [
    "binascii.unhexlify(b'507974686f6e204c696272617279')"
   ]
  },
  {
   "cell_type": "code",
   "execution_count": 3,
   "id": "ac83a4de",
   "metadata": {},
   "outputs": [
    {
     "data": {
      "text/plain": [
       "b'Python Library'"
      ]
     },
     "execution_count": 3,
     "metadata": {},
     "output_type": "execute_result"
    }
   ],
   "source": [
    "bytes.fromhex('507974686f6e204c696272617279')"
   ]
  },
  {
   "cell_type": "code",
   "execution_count": 4,
   "id": "ee9ca164",
   "metadata": {},
   "outputs": [
    {
     "data": {
      "text/plain": [
       "'파이썬 라이브러리'"
      ]
     },
     "execution_count": 4,
     "metadata": {},
     "output_type": "execute_result"
    }
   ],
   "source": [
    "binascii.unhexlify(b'ed8c8cec9db4ec8dac20eb9dbcec9db4ebb88ceb9faceba6ac').decode('utf-8')"
   ]
  },
  {
   "cell_type": "markdown",
   "id": "9ad785af",
   "metadata": {},
   "source": [
    "### 02. 문자열을 16진수로 변환"
   ]
  },
  {
   "cell_type": "code",
   "execution_count": 5,
   "id": "cad96f97",
   "metadata": {},
   "outputs": [],
   "source": [
    "import binascii"
   ]
  },
  {
   "cell_type": "code",
   "execution_count": 6,
   "id": "502b1d84",
   "metadata": {},
   "outputs": [
    {
     "data": {
      "text/plain": [
       "b'507974686f6e204c696272617279'"
      ]
     },
     "execution_count": 6,
     "metadata": {},
     "output_type": "execute_result"
    }
   ],
   "source": [
    "binascii.hexlify(b'Python Library')"
   ]
  },
  {
   "cell_type": "code",
   "execution_count": 7,
   "id": "e7d308db",
   "metadata": {},
   "outputs": [
    {
     "data": {
      "text/plain": [
       "'507974686f6e204c696272617279'"
      ]
     },
     "execution_count": 7,
     "metadata": {},
     "output_type": "execute_result"
    }
   ],
   "source": [
    "b'Python Library'.hex()"
   ]
  },
  {
   "cell_type": "code",
   "execution_count": 8,
   "id": "4bea67b4",
   "metadata": {},
   "outputs": [
    {
     "data": {
      "text/plain": [
       "b'ed8c8cec9db4ec8dac20eb9dbcec9db4ebb88ceb9faceba6ac'"
      ]
     },
     "execution_count": 8,
     "metadata": {},
     "output_type": "execute_result"
    }
   ],
   "source": [
    "binascii.hexlify('파이썬 라이브러리'.encode('utf-8'))"
   ]
  }
 ],
 "metadata": {
  "kernelspec": {
   "display_name": "Python 3 (ipykernel)",
   "language": "python",
   "name": "python3"
  },
  "language_info": {
   "codemirror_mode": {
    "name": "ipython",
    "version": 3
   },
   "file_extension": ".py",
   "mimetype": "text/x-python",
   "name": "python",
   "nbconvert_exporter": "python",
   "pygments_lexer": "ipython3",
   "version": "3.7.13"
  }
 },
 "nbformat": 4,
 "nbformat_minor": 5
}
